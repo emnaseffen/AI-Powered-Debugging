{
 "cells": [
  {
   "cell_type": "markdown",
   "metadata": {},
   "source": [
    "# Bug Detection \n"
   ]
  },
  {
   "cell_type": "code",
   "execution_count": 1,
   "metadata": {},
   "outputs": [
    {
     "name": "stdout",
     "output_type": "stream",
     "text": [
      "Requirement already satisfied: datasets in c:\\users\\e.seffen\\appdata\\local\\anaconda3\\lib\\site-packages (2.21.0)\n",
      "Requirement already satisfied: transformers in c:\\users\\e.seffen\\appdata\\local\\anaconda3\\lib\\site-packages (4.44.2)\n",
      "Requirement already satisfied: sentencepiece in c:\\users\\e.seffen\\appdata\\local\\anaconda3\\lib\\site-packages (0.2.0)\n",
      "Requirement already satisfied: torchmetrics in c:\\users\\e.seffen\\appdata\\local\\anaconda3\\lib\\site-packages (1.4.1)\n",
      "Requirement already satisfied: filelock in c:\\users\\e.seffen\\appdata\\local\\anaconda3\\lib\\site-packages (from datasets) (3.13.1)\n",
      "Requirement already satisfied: numpy>=1.17 in c:\\users\\e.seffen\\appdata\\local\\anaconda3\\lib\\site-packages (from datasets) (1.26.4)\n",
      "Requirement already satisfied: pyarrow>=15.0.0 in c:\\users\\e.seffen\\appdata\\local\\anaconda3\\lib\\site-packages (from datasets) (17.0.0)\n",
      "Requirement already satisfied: dill<0.3.9,>=0.3.0 in c:\\users\\e.seffen\\appdata\\local\\anaconda3\\lib\\site-packages (from datasets) (0.3.8)\n",
      "Requirement already satisfied: pandas in c:\\users\\e.seffen\\appdata\\local\\anaconda3\\lib\\site-packages (from datasets) (2.2.2)\n",
      "Requirement already satisfied: requests>=2.32.2 in c:\\users\\e.seffen\\appdata\\local\\anaconda3\\lib\\site-packages (from datasets) (2.32.2)\n",
      "Requirement already satisfied: tqdm>=4.66.3 in c:\\users\\e.seffen\\appdata\\local\\anaconda3\\lib\\site-packages (from datasets) (4.66.4)\n",
      "Requirement already satisfied: xxhash in c:\\users\\e.seffen\\appdata\\local\\anaconda3\\lib\\site-packages (from datasets) (3.5.0)\n",
      "Requirement already satisfied: multiprocess in c:\\users\\e.seffen\\appdata\\local\\anaconda3\\lib\\site-packages (from datasets) (0.70.16)\n",
      "Requirement already satisfied: fsspec<=2024.6.1,>=2023.1.0 in c:\\users\\e.seffen\\appdata\\local\\anaconda3\\lib\\site-packages (from fsspec[http]<=2024.6.1,>=2023.1.0->datasets) (2024.3.1)\n",
      "Requirement already satisfied: aiohttp in c:\\users\\e.seffen\\appdata\\local\\anaconda3\\lib\\site-packages (from datasets) (3.9.5)\n",
      "Requirement already satisfied: huggingface-hub>=0.21.2 in c:\\users\\e.seffen\\appdata\\local\\anaconda3\\lib\\site-packages (from datasets) (0.24.6)\n",
      "Requirement already satisfied: packaging in c:\\users\\e.seffen\\appdata\\local\\anaconda3\\lib\\site-packages (from datasets) (23.2)\n",
      "Requirement already satisfied: pyyaml>=5.1 in c:\\users\\e.seffen\\appdata\\local\\anaconda3\\lib\\site-packages (from datasets) (6.0.1)\n",
      "Requirement already satisfied: regex!=2019.12.17 in c:\\users\\e.seffen\\appdata\\local\\anaconda3\\lib\\site-packages (from transformers) (2023.10.3)\n",
      "Requirement already satisfied: safetensors>=0.4.1 in c:\\users\\e.seffen\\appdata\\local\\anaconda3\\lib\\site-packages (from transformers) (0.4.4)\n",
      "Requirement already satisfied: tokenizers<0.20,>=0.19 in c:\\users\\e.seffen\\appdata\\local\\anaconda3\\lib\\site-packages (from transformers) (0.19.1)\n",
      "Requirement already satisfied: torch>=1.10.0 in c:\\users\\e.seffen\\appdata\\local\\anaconda3\\lib\\site-packages (from torchmetrics) (2.4.0)\n",
      "Requirement already satisfied: lightning-utilities>=0.8.0 in c:\\users\\e.seffen\\appdata\\local\\anaconda3\\lib\\site-packages (from torchmetrics) (0.11.7)\n",
      "Requirement already satisfied: aiosignal>=1.1.2 in c:\\users\\e.seffen\\appdata\\local\\anaconda3\\lib\\site-packages (from aiohttp->datasets) (1.2.0)\n",
      "Requirement already satisfied: attrs>=17.3.0 in c:\\users\\e.seffen\\appdata\\local\\anaconda3\\lib\\site-packages (from aiohttp->datasets) (23.1.0)\n",
      "Requirement already satisfied: frozenlist>=1.1.1 in c:\\users\\e.seffen\\appdata\\local\\anaconda3\\lib\\site-packages (from aiohttp->datasets) (1.4.0)\n",
      "Requirement already satisfied: multidict<7.0,>=4.5 in c:\\users\\e.seffen\\appdata\\local\\anaconda3\\lib\\site-packages (from aiohttp->datasets) (6.0.4)\n",
      "Requirement already satisfied: yarl<2.0,>=1.0 in c:\\users\\e.seffen\\appdata\\local\\anaconda3\\lib\\site-packages (from aiohttp->datasets) (1.9.3)\n",
      "Requirement already satisfied: typing-extensions>=3.7.4.3 in c:\\users\\e.seffen\\appdata\\local\\anaconda3\\lib\\site-packages (from huggingface-hub>=0.21.2->datasets) (4.11.0)\n",
      "Requirement already satisfied: setuptools in c:\\users\\e.seffen\\appdata\\local\\anaconda3\\lib\\site-packages (from lightning-utilities>=0.8.0->torchmetrics) (69.5.1)\n",
      "Requirement already satisfied: charset-normalizer<4,>=2 in c:\\users\\e.seffen\\appdata\\local\\anaconda3\\lib\\site-packages (from requests>=2.32.2->datasets) (2.0.4)\n",
      "Requirement already satisfied: idna<4,>=2.5 in c:\\users\\e.seffen\\appdata\\local\\anaconda3\\lib\\site-packages (from requests>=2.32.2->datasets) (3.7)\n",
      "Requirement already satisfied: urllib3<3,>=1.21.1 in c:\\users\\e.seffen\\appdata\\local\\anaconda3\\lib\\site-packages (from requests>=2.32.2->datasets) (2.2.2)\n",
      "Requirement already satisfied: certifi>=2017.4.17 in c:\\users\\e.seffen\\appdata\\local\\anaconda3\\lib\\site-packages (from requests>=2.32.2->datasets) (2024.8.30)\n",
      "Requirement already satisfied: sympy in c:\\users\\e.seffen\\appdata\\local\\anaconda3\\lib\\site-packages (from torch>=1.10.0->torchmetrics) (1.12)\n",
      "Requirement already satisfied: networkx in c:\\users\\e.seffen\\appdata\\local\\anaconda3\\lib\\site-packages (from torch>=1.10.0->torchmetrics) (3.2.1)\n",
      "Requirement already satisfied: jinja2 in c:\\users\\e.seffen\\appdata\\local\\anaconda3\\lib\\site-packages (from torch>=1.10.0->torchmetrics) (3.1.4)\n",
      "Requirement already satisfied: colorama in c:\\users\\e.seffen\\appdata\\local\\anaconda3\\lib\\site-packages (from tqdm>=4.66.3->datasets) (0.4.6)\n",
      "Requirement already satisfied: python-dateutil>=2.8.2 in c:\\users\\e.seffen\\appdata\\local\\anaconda3\\lib\\site-packages (from pandas->datasets) (2.9.0.post0)\n",
      "Requirement already satisfied: pytz>=2020.1 in c:\\users\\e.seffen\\appdata\\local\\anaconda3\\lib\\site-packages (from pandas->datasets) (2024.1)\n",
      "Requirement already satisfied: tzdata>=2022.7 in c:\\users\\e.seffen\\appdata\\local\\anaconda3\\lib\\site-packages (from pandas->datasets) (2023.3)\n",
      "Requirement already satisfied: six>=1.5 in c:\\users\\e.seffen\\appdata\\local\\anaconda3\\lib\\site-packages (from python-dateutil>=2.8.2->pandas->datasets) (1.16.0)\n",
      "Requirement already satisfied: MarkupSafe>=2.0 in c:\\users\\e.seffen\\appdata\\local\\anaconda3\\lib\\site-packages (from jinja2->torch>=1.10.0->torchmetrics) (2.1.3)\n",
      "Requirement already satisfied: mpmath>=0.19 in c:\\users\\e.seffen\\appdata\\local\\anaconda3\\lib\\site-packages (from sympy->torch>=1.10.0->torchmetrics) (1.3.0)\n"
     ]
    }
   ],
   "source": [
    "!pip install datasets transformers sentencepiece torchmetrics"
   ]
  },
  {
   "cell_type": "code",
   "execution_count": 3,
   "metadata": {},
   "outputs": [
    {
     "name": "stdout",
     "output_type": "stream",
     "text": [
      "Requirement already satisfied: accelerate in c:\\users\\e.seffen\\appdata\\local\\anaconda3\\lib\\site-packages (0.34.0)\n",
      "Requirement already satisfied: numpy<3.0.0,>=1.17 in c:\\users\\e.seffen\\appdata\\local\\anaconda3\\lib\\site-packages (from accelerate) (1.26.4)\n",
      "Requirement already satisfied: packaging>=20.0 in c:\\users\\e.seffen\\appdata\\local\\anaconda3\\lib\\site-packages (from accelerate) (23.2)\n",
      "Requirement already satisfied: psutil in c:\\users\\e.seffen\\appdata\\local\\anaconda3\\lib\\site-packages (from accelerate) (5.9.0)\n",
      "Requirement already satisfied: pyyaml in c:\\users\\e.seffen\\appdata\\local\\anaconda3\\lib\\site-packages (from accelerate) (6.0.1)\n",
      "Requirement already satisfied: torch>=1.10.0 in c:\\users\\e.seffen\\appdata\\local\\anaconda3\\lib\\site-packages (from accelerate) (2.4.0)\n",
      "Requirement already satisfied: huggingface-hub>=0.21.0 in c:\\users\\e.seffen\\appdata\\local\\anaconda3\\lib\\site-packages (from accelerate) (0.24.6)\n",
      "Requirement already satisfied: safetensors>=0.4.3 in c:\\users\\e.seffen\\appdata\\local\\anaconda3\\lib\\site-packages (from accelerate) (0.4.4)\n",
      "Requirement already satisfied: filelock in c:\\users\\e.seffen\\appdata\\local\\anaconda3\\lib\\site-packages (from huggingface-hub>=0.21.0->accelerate) (3.13.1)\n",
      "Requirement already satisfied: fsspec>=2023.5.0 in c:\\users\\e.seffen\\appdata\\local\\anaconda3\\lib\\site-packages (from huggingface-hub>=0.21.0->accelerate) (2024.3.1)\n",
      "Requirement already satisfied: requests in c:\\users\\e.seffen\\appdata\\local\\anaconda3\\lib\\site-packages (from huggingface-hub>=0.21.0->accelerate) (2.32.2)\n",
      "Requirement already satisfied: tqdm>=4.42.1 in c:\\users\\e.seffen\\appdata\\local\\anaconda3\\lib\\site-packages (from huggingface-hub>=0.21.0->accelerate) (4.66.4)\n",
      "Requirement already satisfied: typing-extensions>=3.7.4.3 in c:\\users\\e.seffen\\appdata\\local\\anaconda3\\lib\\site-packages (from huggingface-hub>=0.21.0->accelerate) (4.11.0)\n",
      "Requirement already satisfied: sympy in c:\\users\\e.seffen\\appdata\\local\\anaconda3\\lib\\site-packages (from torch>=1.10.0->accelerate) (1.12)\n",
      "Requirement already satisfied: networkx in c:\\users\\e.seffen\\appdata\\local\\anaconda3\\lib\\site-packages (from torch>=1.10.0->accelerate) (3.2.1)\n",
      "Requirement already satisfied: jinja2 in c:\\users\\e.seffen\\appdata\\local\\anaconda3\\lib\\site-packages (from torch>=1.10.0->accelerate) (3.1.4)\n",
      "Requirement already satisfied: setuptools in c:\\users\\e.seffen\\appdata\\local\\anaconda3\\lib\\site-packages (from torch>=1.10.0->accelerate) (69.5.1)\n",
      "Requirement already satisfied: colorama in c:\\users\\e.seffen\\appdata\\local\\anaconda3\\lib\\site-packages (from tqdm>=4.42.1->huggingface-hub>=0.21.0->accelerate) (0.4.6)\n",
      "Requirement already satisfied: MarkupSafe>=2.0 in c:\\users\\e.seffen\\appdata\\local\\anaconda3\\lib\\site-packages (from jinja2->torch>=1.10.0->accelerate) (2.1.3)\n",
      "Requirement already satisfied: charset-normalizer<4,>=2 in c:\\users\\e.seffen\\appdata\\local\\anaconda3\\lib\\site-packages (from requests->huggingface-hub>=0.21.0->accelerate) (2.0.4)\n",
      "Requirement already satisfied: idna<4,>=2.5 in c:\\users\\e.seffen\\appdata\\local\\anaconda3\\lib\\site-packages (from requests->huggingface-hub>=0.21.0->accelerate) (3.7)\n",
      "Requirement already satisfied: urllib3<3,>=1.21.1 in c:\\users\\e.seffen\\appdata\\local\\anaconda3\\lib\\site-packages (from requests->huggingface-hub>=0.21.0->accelerate) (2.2.2)\n",
      "Requirement already satisfied: certifi>=2017.4.17 in c:\\users\\e.seffen\\appdata\\local\\anaconda3\\lib\\site-packages (from requests->huggingface-hub>=0.21.0->accelerate) (2024.8.30)\n",
      "Requirement already satisfied: mpmath>=0.19 in c:\\users\\e.seffen\\appdata\\local\\anaconda3\\lib\\site-packages (from sympy->torch>=1.10.0->accelerate) (1.3.0)\n"
     ]
    }
   ],
   "source": [
    "!pip install accelerate -U"
   ]
  },
  {
   "cell_type": "code",
   "execution_count": 7,
   "metadata": {},
   "outputs": [
    {
     "name": "stdout",
     "output_type": "stream",
     "text": [
      "Requirement already satisfied: huggingface_hub in c:\\users\\e.seffen\\appdata\\local\\anaconda3\\lib\\site-packages (0.24.6)\n",
      "Requirement already satisfied: filelock in c:\\users\\e.seffen\\appdata\\local\\anaconda3\\lib\\site-packages (from huggingface_hub) (3.13.1)\n",
      "Requirement already satisfied: fsspec>=2023.5.0 in c:\\users\\e.seffen\\appdata\\local\\anaconda3\\lib\\site-packages (from huggingface_hub) (2024.3.1)\n",
      "Requirement already satisfied: packaging>=20.9 in c:\\users\\e.seffen\\appdata\\local\\anaconda3\\lib\\site-packages (from huggingface_hub) (23.2)\n",
      "Requirement already satisfied: pyyaml>=5.1 in c:\\users\\e.seffen\\appdata\\local\\anaconda3\\lib\\site-packages (from huggingface_hub) (6.0.1)\n",
      "Requirement already satisfied: requests in c:\\users\\e.seffen\\appdata\\local\\anaconda3\\lib\\site-packages (from huggingface_hub) (2.32.2)\n",
      "Requirement already satisfied: tqdm>=4.42.1 in c:\\users\\e.seffen\\appdata\\local\\anaconda3\\lib\\site-packages (from huggingface_hub) (4.66.4)\n",
      "Requirement already satisfied: typing-extensions>=3.7.4.3 in c:\\users\\e.seffen\\appdata\\local\\anaconda3\\lib\\site-packages (from huggingface_hub) (4.11.0)\n",
      "Requirement already satisfied: colorama in c:\\users\\e.seffen\\appdata\\local\\anaconda3\\lib\\site-packages (from tqdm>=4.42.1->huggingface_hub) (0.4.6)\n",
      "Requirement already satisfied: charset-normalizer<4,>=2 in c:\\users\\e.seffen\\appdata\\local\\anaconda3\\lib\\site-packages (from requests->huggingface_hub) (2.0.4)\n",
      "Requirement already satisfied: idna<4,>=2.5 in c:\\users\\e.seffen\\appdata\\local\\anaconda3\\lib\\site-packages (from requests->huggingface_hub) (3.7)\n",
      "Requirement already satisfied: urllib3<3,>=1.21.1 in c:\\users\\e.seffen\\appdata\\local\\anaconda3\\lib\\site-packages (from requests->huggingface_hub) (2.2.2)\n",
      "Requirement already satisfied: certifi>=2017.4.17 in c:\\users\\e.seffen\\appdata\\local\\anaconda3\\lib\\site-packages (from requests->huggingface_hub) (2024.8.30)\n"
     ]
    }
   ],
   "source": [
    "import os\n",
    "\n",
    "!pip install huggingface_hub\n",
    "from huggingface_hub import notebook_login"
   ]
  },
  {
   "cell_type": "code",
   "execution_count": 9,
   "metadata": {
    "_cell_guid": "b1076dfc-b9ad-4769-8c92-a6c4dae69d19",
    "_uuid": "8f2839f25d086af736a60e9eeb907d3b93b6e0e5"
   },
   "outputs": [],
   "source": [
    "import os\n",
    "import json\n",
    "import torch\n",
    "\n",
    "import numpy as np\n",
    "import pandas as pd\n",
    "import matplotlib.pyplot as plt\n",
    "import seaborn as sns\n",
    "\n",
    "from sklearn.model_selection import train_test_split\n",
    "from sklearn.metrics import accuracy_score, precision_score, recall_score, f1_score\n",
    "from transformers import RobertaTokenizerFast, T5ForConditionalGeneration, Trainer, TrainingArguments, DataCollatorForSeq2Seq\n",
    "from datasets import load_dataset\n",
    "\n",
    "from torchmetrics import ConfusionMatrix, Accuracy, Precision, Recall, F1Score\n",
    "from sklearn.preprocessing import LabelEncoder\n",
    "\n",
    "from tqdm.notebook import tqdm\n",
    "from IPython.display import HTML\n",
    "from functools import partial\n",
    "\n",
    "pd.set_option('display.max_columns', None)\n",
    "codenet_root = 'dataset/'\n",
    "\n",
    "os.environ[\"WANDB_DISABLED\"] = \"true\"\n",
    "os.environ[\"TOKENIZERS_PARALLELISM\"] = \"false\""
   ]
  },
  {
   "cell_type": "markdown",
   "metadata": {},
   "source": [
    "## Preprocess Data"
   ]
  },
  {
   "cell_type": "code",
   "execution_count": 11,
   "metadata": {},
   "outputs": [
    {
     "ename": "FileNotFoundError",
     "evalue": "Unable to find 'C:/Users/e.seffen/Desktop/defects4jbugs\\dataset/train_set.json'",
     "output_type": "error",
     "traceback": [
      "\u001b[1;31m---------------------------------------------------------------------------\u001b[0m",
      "\u001b[1;31mFileNotFoundError\u001b[0m                         Traceback (most recent call last)",
      "Cell \u001b[1;32mIn[11], line 1\u001b[0m\n\u001b[1;32m----> 1\u001b[0m dataset \u001b[38;5;241m=\u001b[39m load_dataset(\u001b[38;5;124m\"\u001b[39m\u001b[38;5;124mjson\u001b[39m\u001b[38;5;124m\"\u001b[39m, data_files\u001b[38;5;241m=\u001b[39m{\u001b[38;5;124m\"\u001b[39m\u001b[38;5;124mtrain\u001b[39m\u001b[38;5;124m\"\u001b[39m: codenet_root\u001b[38;5;241m+\u001b[39m\u001b[38;5;124m\"\u001b[39m\u001b[38;5;124mtrain_set.json\u001b[39m\u001b[38;5;124m\"\u001b[39m, \u001b[38;5;124m\"\u001b[39m\u001b[38;5;124mtest\u001b[39m\u001b[38;5;124m\"\u001b[39m: codenet_root\u001b[38;5;241m+\u001b[39m\u001b[38;5;124m\"\u001b[39m\u001b[38;5;124mtest_set.json\u001b[39m\u001b[38;5;124m\"\u001b[39m}, field\u001b[38;5;241m=\u001b[39m\u001b[38;5;124m'\u001b[39m\u001b[38;5;124mdata\u001b[39m\u001b[38;5;124m'\u001b[39m)\n",
      "File \u001b[1;32m~\\AppData\\Local\\anaconda3\\Lib\\site-packages\\datasets\\load.py:2606\u001b[0m, in \u001b[0;36mload_dataset\u001b[1;34m(path, name, data_dir, data_files, split, cache_dir, features, download_config, download_mode, verification_mode, ignore_verifications, keep_in_memory, save_infos, revision, token, use_auth_token, task, streaming, num_proc, storage_options, trust_remote_code, **config_kwargs)\u001b[0m\n\u001b[0;32m   2601\u001b[0m verification_mode \u001b[38;5;241m=\u001b[39m VerificationMode(\n\u001b[0;32m   2602\u001b[0m     (verification_mode \u001b[38;5;129;01mor\u001b[39;00m VerificationMode\u001b[38;5;241m.\u001b[39mBASIC_CHECKS) \u001b[38;5;28;01mif\u001b[39;00m \u001b[38;5;129;01mnot\u001b[39;00m save_infos \u001b[38;5;28;01melse\u001b[39;00m VerificationMode\u001b[38;5;241m.\u001b[39mALL_CHECKS\n\u001b[0;32m   2603\u001b[0m )\n\u001b[0;32m   2605\u001b[0m \u001b[38;5;66;03m# Create a dataset builder\u001b[39;00m\n\u001b[1;32m-> 2606\u001b[0m builder_instance \u001b[38;5;241m=\u001b[39m load_dataset_builder(\n\u001b[0;32m   2607\u001b[0m     path\u001b[38;5;241m=\u001b[39mpath,\n\u001b[0;32m   2608\u001b[0m     name\u001b[38;5;241m=\u001b[39mname,\n\u001b[0;32m   2609\u001b[0m     data_dir\u001b[38;5;241m=\u001b[39mdata_dir,\n\u001b[0;32m   2610\u001b[0m     data_files\u001b[38;5;241m=\u001b[39mdata_files,\n\u001b[0;32m   2611\u001b[0m     cache_dir\u001b[38;5;241m=\u001b[39mcache_dir,\n\u001b[0;32m   2612\u001b[0m     features\u001b[38;5;241m=\u001b[39mfeatures,\n\u001b[0;32m   2613\u001b[0m     download_config\u001b[38;5;241m=\u001b[39mdownload_config,\n\u001b[0;32m   2614\u001b[0m     download_mode\u001b[38;5;241m=\u001b[39mdownload_mode,\n\u001b[0;32m   2615\u001b[0m     revision\u001b[38;5;241m=\u001b[39mrevision,\n\u001b[0;32m   2616\u001b[0m     token\u001b[38;5;241m=\u001b[39mtoken,\n\u001b[0;32m   2617\u001b[0m     storage_options\u001b[38;5;241m=\u001b[39mstorage_options,\n\u001b[0;32m   2618\u001b[0m     trust_remote_code\u001b[38;5;241m=\u001b[39mtrust_remote_code,\n\u001b[0;32m   2619\u001b[0m     _require_default_config_name\u001b[38;5;241m=\u001b[39mname \u001b[38;5;129;01mis\u001b[39;00m \u001b[38;5;28;01mNone\u001b[39;00m,\n\u001b[0;32m   2620\u001b[0m     \u001b[38;5;241m*\u001b[39m\u001b[38;5;241m*\u001b[39mconfig_kwargs,\n\u001b[0;32m   2621\u001b[0m )\n\u001b[0;32m   2623\u001b[0m \u001b[38;5;66;03m# Return iterable dataset in case of streaming\u001b[39;00m\n\u001b[0;32m   2624\u001b[0m \u001b[38;5;28;01mif\u001b[39;00m streaming:\n",
      "File \u001b[1;32m~\\AppData\\Local\\anaconda3\\Lib\\site-packages\\datasets\\load.py:2277\u001b[0m, in \u001b[0;36mload_dataset_builder\u001b[1;34m(path, name, data_dir, data_files, cache_dir, features, download_config, download_mode, revision, token, use_auth_token, storage_options, trust_remote_code, _require_default_config_name, **config_kwargs)\u001b[0m\n\u001b[0;32m   2275\u001b[0m     download_config \u001b[38;5;241m=\u001b[39m download_config\u001b[38;5;241m.\u001b[39mcopy() \u001b[38;5;28;01mif\u001b[39;00m download_config \u001b[38;5;28;01melse\u001b[39;00m DownloadConfig()\n\u001b[0;32m   2276\u001b[0m     download_config\u001b[38;5;241m.\u001b[39mstorage_options\u001b[38;5;241m.\u001b[39mupdate(storage_options)\n\u001b[1;32m-> 2277\u001b[0m dataset_module \u001b[38;5;241m=\u001b[39m dataset_module_factory(\n\u001b[0;32m   2278\u001b[0m     path,\n\u001b[0;32m   2279\u001b[0m     revision\u001b[38;5;241m=\u001b[39mrevision,\n\u001b[0;32m   2280\u001b[0m     download_config\u001b[38;5;241m=\u001b[39mdownload_config,\n\u001b[0;32m   2281\u001b[0m     download_mode\u001b[38;5;241m=\u001b[39mdownload_mode,\n\u001b[0;32m   2282\u001b[0m     data_dir\u001b[38;5;241m=\u001b[39mdata_dir,\n\u001b[0;32m   2283\u001b[0m     data_files\u001b[38;5;241m=\u001b[39mdata_files,\n\u001b[0;32m   2284\u001b[0m     cache_dir\u001b[38;5;241m=\u001b[39mcache_dir,\n\u001b[0;32m   2285\u001b[0m     trust_remote_code\u001b[38;5;241m=\u001b[39mtrust_remote_code,\n\u001b[0;32m   2286\u001b[0m     _require_default_config_name\u001b[38;5;241m=\u001b[39m_require_default_config_name,\n\u001b[0;32m   2287\u001b[0m     _require_custom_configs\u001b[38;5;241m=\u001b[39m\u001b[38;5;28mbool\u001b[39m(config_kwargs),\n\u001b[0;32m   2288\u001b[0m )\n\u001b[0;32m   2289\u001b[0m \u001b[38;5;66;03m# Get dataset builder class from the processing script\u001b[39;00m\n\u001b[0;32m   2290\u001b[0m builder_kwargs \u001b[38;5;241m=\u001b[39m dataset_module\u001b[38;5;241m.\u001b[39mbuilder_kwargs\n",
      "File \u001b[1;32m~\\AppData\\Local\\anaconda3\\Lib\\site-packages\\datasets\\load.py:1814\u001b[0m, in \u001b[0;36mdataset_module_factory\u001b[1;34m(path, revision, download_config, download_mode, dynamic_modules_path, data_dir, data_files, cache_dir, trust_remote_code, _require_default_config_name, _require_custom_configs, **download_kwargs)\u001b[0m\n\u001b[0;32m   1791\u001b[0m \u001b[38;5;66;03m# We have several ways to get a dataset builder:\u001b[39;00m\n\u001b[0;32m   1792\u001b[0m \u001b[38;5;66;03m#\u001b[39;00m\n\u001b[0;32m   1793\u001b[0m \u001b[38;5;66;03m# - if path is the name of a packaged dataset module\u001b[39;00m\n\u001b[1;32m   (...)\u001b[0m\n\u001b[0;32m   1805\u001b[0m \n\u001b[0;32m   1806\u001b[0m \u001b[38;5;66;03m# Try packaged\u001b[39;00m\n\u001b[0;32m   1807\u001b[0m \u001b[38;5;28;01mif\u001b[39;00m path \u001b[38;5;129;01min\u001b[39;00m _PACKAGED_DATASETS_MODULES:\n\u001b[0;32m   1808\u001b[0m     \u001b[38;5;28;01mreturn\u001b[39;00m PackagedDatasetModuleFactory(\n\u001b[0;32m   1809\u001b[0m         path,\n\u001b[0;32m   1810\u001b[0m         data_dir\u001b[38;5;241m=\u001b[39mdata_dir,\n\u001b[0;32m   1811\u001b[0m         data_files\u001b[38;5;241m=\u001b[39mdata_files,\n\u001b[0;32m   1812\u001b[0m         download_config\u001b[38;5;241m=\u001b[39mdownload_config,\n\u001b[0;32m   1813\u001b[0m         download_mode\u001b[38;5;241m=\u001b[39mdownload_mode,\n\u001b[1;32m-> 1814\u001b[0m     )\u001b[38;5;241m.\u001b[39mget_module()\n\u001b[0;32m   1815\u001b[0m \u001b[38;5;66;03m# Try locally\u001b[39;00m\n\u001b[0;32m   1816\u001b[0m \u001b[38;5;28;01melif\u001b[39;00m path\u001b[38;5;241m.\u001b[39mendswith(filename):\n",
      "File \u001b[1;32m~\\AppData\\Local\\anaconda3\\Lib\\site-packages\\datasets\\load.py:1149\u001b[0m, in \u001b[0;36mPackagedDatasetModuleFactory.get_module\u001b[1;34m(self)\u001b[0m\n\u001b[0;32m   1143\u001b[0m base_path \u001b[38;5;241m=\u001b[39m Path(\u001b[38;5;28mself\u001b[39m\u001b[38;5;241m.\u001b[39mdata_dir \u001b[38;5;129;01mor\u001b[39;00m \u001b[38;5;124m\"\u001b[39m\u001b[38;5;124m\"\u001b[39m)\u001b[38;5;241m.\u001b[39mexpanduser()\u001b[38;5;241m.\u001b[39mresolve()\u001b[38;5;241m.\u001b[39mas_posix()\n\u001b[0;32m   1144\u001b[0m patterns \u001b[38;5;241m=\u001b[39m (\n\u001b[0;32m   1145\u001b[0m     sanitize_patterns(\u001b[38;5;28mself\u001b[39m\u001b[38;5;241m.\u001b[39mdata_files)\n\u001b[0;32m   1146\u001b[0m     \u001b[38;5;28;01mif\u001b[39;00m \u001b[38;5;28mself\u001b[39m\u001b[38;5;241m.\u001b[39mdata_files \u001b[38;5;129;01mis\u001b[39;00m \u001b[38;5;129;01mnot\u001b[39;00m \u001b[38;5;28;01mNone\u001b[39;00m\n\u001b[0;32m   1147\u001b[0m     \u001b[38;5;28;01melse\u001b[39;00m get_data_patterns(base_path, download_config\u001b[38;5;241m=\u001b[39m\u001b[38;5;28mself\u001b[39m\u001b[38;5;241m.\u001b[39mdownload_config)\n\u001b[0;32m   1148\u001b[0m )\n\u001b[1;32m-> 1149\u001b[0m data_files \u001b[38;5;241m=\u001b[39m DataFilesDict\u001b[38;5;241m.\u001b[39mfrom_patterns(\n\u001b[0;32m   1150\u001b[0m     patterns,\n\u001b[0;32m   1151\u001b[0m     download_config\u001b[38;5;241m=\u001b[39m\u001b[38;5;28mself\u001b[39m\u001b[38;5;241m.\u001b[39mdownload_config,\n\u001b[0;32m   1152\u001b[0m     base_path\u001b[38;5;241m=\u001b[39mbase_path,\n\u001b[0;32m   1153\u001b[0m )\n\u001b[0;32m   1154\u001b[0m supports_metadata \u001b[38;5;241m=\u001b[39m \u001b[38;5;28mself\u001b[39m\u001b[38;5;241m.\u001b[39mname \u001b[38;5;129;01min\u001b[39;00m _MODULE_SUPPORTS_METADATA\n\u001b[0;32m   1155\u001b[0m \u001b[38;5;28;01mif\u001b[39;00m \u001b[38;5;28mself\u001b[39m\u001b[38;5;241m.\u001b[39mdata_files \u001b[38;5;129;01mis\u001b[39;00m \u001b[38;5;28;01mNone\u001b[39;00m \u001b[38;5;129;01mand\u001b[39;00m supports_metadata \u001b[38;5;129;01mand\u001b[39;00m patterns \u001b[38;5;241m!=\u001b[39m DEFAULT_PATTERNS_ALL:\n",
      "File \u001b[1;32m~\\AppData\\Local\\anaconda3\\Lib\\site-packages\\datasets\\data_files.py:721\u001b[0m, in \u001b[0;36mDataFilesDict.from_patterns\u001b[1;34m(cls, patterns, base_path, allowed_extensions, download_config)\u001b[0m\n\u001b[0;32m    716\u001b[0m out \u001b[38;5;241m=\u001b[39m \u001b[38;5;28mcls\u001b[39m()\n\u001b[0;32m    717\u001b[0m \u001b[38;5;28;01mfor\u001b[39;00m key, patterns_for_key \u001b[38;5;129;01min\u001b[39;00m patterns\u001b[38;5;241m.\u001b[39mitems():\n\u001b[0;32m    718\u001b[0m     out[key] \u001b[38;5;241m=\u001b[39m (\n\u001b[0;32m    719\u001b[0m         patterns_for_key\n\u001b[0;32m    720\u001b[0m         \u001b[38;5;28;01mif\u001b[39;00m \u001b[38;5;28misinstance\u001b[39m(patterns_for_key, DataFilesList)\n\u001b[1;32m--> 721\u001b[0m         \u001b[38;5;28;01melse\u001b[39;00m DataFilesList\u001b[38;5;241m.\u001b[39mfrom_patterns(\n\u001b[0;32m    722\u001b[0m             patterns_for_key,\n\u001b[0;32m    723\u001b[0m             base_path\u001b[38;5;241m=\u001b[39mbase_path,\n\u001b[0;32m    724\u001b[0m             allowed_extensions\u001b[38;5;241m=\u001b[39mallowed_extensions,\n\u001b[0;32m    725\u001b[0m             download_config\u001b[38;5;241m=\u001b[39mdownload_config,\n\u001b[0;32m    726\u001b[0m         )\n\u001b[0;32m    727\u001b[0m     )\n\u001b[0;32m    728\u001b[0m \u001b[38;5;28;01mreturn\u001b[39;00m out\n",
      "File \u001b[1;32m~\\AppData\\Local\\anaconda3\\Lib\\site-packages\\datasets\\data_files.py:624\u001b[0m, in \u001b[0;36mDataFilesList.from_patterns\u001b[1;34m(cls, patterns, base_path, allowed_extensions, download_config)\u001b[0m\n\u001b[0;32m    621\u001b[0m \u001b[38;5;28;01mfor\u001b[39;00m pattern \u001b[38;5;129;01min\u001b[39;00m patterns:\n\u001b[0;32m    622\u001b[0m     \u001b[38;5;28;01mtry\u001b[39;00m:\n\u001b[0;32m    623\u001b[0m         data_files\u001b[38;5;241m.\u001b[39mextend(\n\u001b[1;32m--> 624\u001b[0m             resolve_pattern(\n\u001b[0;32m    625\u001b[0m                 pattern,\n\u001b[0;32m    626\u001b[0m                 base_path\u001b[38;5;241m=\u001b[39mbase_path,\n\u001b[0;32m    627\u001b[0m                 allowed_extensions\u001b[38;5;241m=\u001b[39mallowed_extensions,\n\u001b[0;32m    628\u001b[0m                 download_config\u001b[38;5;241m=\u001b[39mdownload_config,\n\u001b[0;32m    629\u001b[0m             )\n\u001b[0;32m    630\u001b[0m         )\n\u001b[0;32m    631\u001b[0m     \u001b[38;5;28;01mexcept\u001b[39;00m \u001b[38;5;167;01mFileNotFoundError\u001b[39;00m:\n\u001b[0;32m    632\u001b[0m         \u001b[38;5;28;01mif\u001b[39;00m \u001b[38;5;129;01mnot\u001b[39;00m has_magic(pattern):\n",
      "File \u001b[1;32m~\\AppData\\Local\\anaconda3\\Lib\\site-packages\\datasets\\data_files.py:411\u001b[0m, in \u001b[0;36mresolve_pattern\u001b[1;34m(pattern, base_path, allowed_extensions, download_config)\u001b[0m\n\u001b[0;32m    409\u001b[0m     \u001b[38;5;28;01mif\u001b[39;00m allowed_extensions \u001b[38;5;129;01mis\u001b[39;00m \u001b[38;5;129;01mnot\u001b[39;00m \u001b[38;5;28;01mNone\u001b[39;00m:\n\u001b[0;32m    410\u001b[0m         error_msg \u001b[38;5;241m+\u001b[39m\u001b[38;5;241m=\u001b[39m \u001b[38;5;124mf\u001b[39m\u001b[38;5;124m\"\u001b[39m\u001b[38;5;124m with any supported extension \u001b[39m\u001b[38;5;132;01m{\u001b[39;00m\u001b[38;5;28mlist\u001b[39m(allowed_extensions)\u001b[38;5;132;01m}\u001b[39;00m\u001b[38;5;124m\"\u001b[39m\n\u001b[1;32m--> 411\u001b[0m     \u001b[38;5;28;01mraise\u001b[39;00m \u001b[38;5;167;01mFileNotFoundError\u001b[39;00m(error_msg)\n\u001b[0;32m    412\u001b[0m \u001b[38;5;28;01mreturn\u001b[39;00m out\n",
      "\u001b[1;31mFileNotFoundError\u001b[0m: Unable to find 'C:/Users/e.seffen/Desktop/defects4jbugs\\dataset/train_set.json'"
     ]
    }
   ],
   "source": [
    "dataset = load_dataset(\"json\", data_files={\"train\": codenet_root+\"train_set.json\", \"test\": codenet_root+\"test_set.json\"}, field='data')"
   ]
  },
  {
   "cell_type": "markdown",
   "metadata": {},
   "source": [
    "### Label Tokens"
   ]
  },
  {
   "cell_type": "code",
   "execution_count": 11,
   "metadata": {},
   "outputs": [
    {
     "name": "stderr",
     "output_type": "stream",
     "text": [
      "C:\\Users\\e.seffen\\AppData\\Local\\anaconda3\\Lib\\site-packages\\transformers\\tokenization_utils_base.py:1601: FutureWarning: `clean_up_tokenization_spaces` was not set. It will be set to `True` by default. This behavior will be depracted in transformers v4.45, and will be then set to `False` by default. For more details check this issue: https://github.com/huggingface/transformers/issues/31884\n",
      "  warnings.warn(\n"
     ]
    },
    {
     "data": {
      "application/vnd.jupyter.widget-view+json": {
       "model_id": "d344bec6b8d54bf9b81e52b0272f9492",
       "version_major": 2,
       "version_minor": 0
      },
      "text/plain": [
       "Map:   0%|          | 0/6716 [00:00<?, ? examples/s]"
      ]
     },
     "metadata": {},
     "output_type": "display_data"
    },
    {
     "data": {
      "application/vnd.jupyter.widget-view+json": {
       "model_id": "6fd9ad4e5f1a481e804418e8580e9244",
       "version_major": 2,
       "version_minor": 0
      },
      "text/plain": [
       "Map:   0%|          | 0/747 [00:00<?, ? examples/s]"
      ]
     },
     "metadata": {},
     "output_type": "display_data"
    }
   ],
   "source": [
    "def tokenize_and_align_labels(tokenizer, example):\n",
    "    example = {\n",
    "        \"input\": example[\"input\"] + example[\"output\"], \n",
    "        \"vulnerability type\": example[\"vulnerability type\"] + [\"Accepted\" for _ in example[\"output\"]]\n",
    "    }\n",
    "    tokenized_inputs = tokenizer(example[\"input\"], padding=True, truncation=True)#, return_tensors=\"pt\")\n",
    "    tokenized_y = tokenizer(example[\"vulnerability type\"], padding=True, truncation=True)#, return_tensors=\"pt\")\n",
    "\n",
    "    tokenized_inputs[\"labels\"] = tokenized_y.input_ids\n",
    "    return tokenized_inputs\n",
    "\n",
    "tokenizer = RobertaTokenizerFast.from_pretrained(\"Salesforce/codet5-base\")\n",
    "\n",
    "train_dataset = dataset[\"train\"].train_test_split(test_size=0.1)\n",
    "test_dataset = dataset[\"test\"]\n",
    "\n",
    "train_dataset = train_dataset.map(partial(tokenize_and_align_labels, tokenizer), batched=True, batch_size=4, remove_columns=train_dataset[\"train\"].column_names)\n",
    "test_dataset = test_dataset.map(partial(tokenize_and_align_labels, tokenizer), batched=True, batch_size=4, remove_columns=test_dataset.column_names)"
   ]
  },
  {
   "cell_type": "markdown",
   "metadata": {},
   "source": [
    "## Train\n",
    "\n",
    "### Training Setup\n",
    "We load the T5 model and set the basic parameters for the trainer."
   ]
  },
  {
   "cell_type": "code",
   "execution_count": 15,
   "metadata": {},
   "outputs": [
    {
     "name": "stderr",
     "output_type": "stream",
     "text": [
      "Using the `WANDB_DISABLED` environment variable is deprecated and will be removed in v5. Use the --report_to flag to control the integrations used for logging result (for instance --report_to none).\n"
     ]
    },
    {
     "data": {
      "application/vnd.jupyter.widget-view+json": {
       "model_id": "d7a2e387ee5b4c38b506c136bffea5a7",
       "version_major": 2,
       "version_minor": 0
      },
      "text/plain": [
       "config.json:   0%|          | 0.00/1.57k [00:00<?, ?B/s]"
      ]
     },
     "metadata": {},
     "output_type": "display_data"
    },
    {
     "name": "stderr",
     "output_type": "stream",
     "text": [
      "C:\\Users\\e.seffen\\AppData\\Local\\anaconda3\\Lib\\site-packages\\huggingface_hub\\file_download.py:159: UserWarning: `huggingface_hub` cache-system uses symlinks by default to efficiently store duplicated files but your machine does not support them in C:\\Users\\e.seffen\\.cache\\huggingface\\hub\\models--Salesforce--codet5-base. Caching files will still work but in a degraded version that might require more space on your disk. This warning can be disabled by setting the `HF_HUB_DISABLE_SYMLINKS_WARNING` environment variable. For more details, see https://huggingface.co/docs/huggingface_hub/how-to-cache#limitations.\n",
      "To support symlinks on Windows, you either need to activate Developer Mode or to run Python as an administrator. In order to see activate developer mode, see this article: https://docs.microsoft.com/en-us/windows/apps/get-started/enable-your-device-for-development\n",
      "  warnings.warn(message)\n"
     ]
    },
    {
     "data": {
      "application/vnd.jupyter.widget-view+json": {
       "model_id": "35dba413a8a94f90920e654354f17815",
       "version_major": 2,
       "version_minor": 0
      },
      "text/plain": [
       "pytorch_model.bin:   0%|          | 0.00/892M [00:00<?, ?B/s]"
      ]
     },
     "metadata": {},
     "output_type": "display_data"
    }
   ],
   "source": [
    "training_args = TrainingArguments(\n",
    "    output_dir='codet5-base-buggy-error-description',          # output directory\n",
    "    num_train_epochs=1,                                        # total number of training epochs\n",
    "    per_device_train_batch_size=4,                             # batch size per device during training\n",
    "    per_device_eval_batch_size=4,                              # batch size for evaluation\n",
    "    warmup_steps=500,                                          # number of warmup steps for learning rate scheduler\n",
    "    weight_decay=0.01,                                         # strength of weight decay\n",
    "    logging_dir='./logs',                                      # directory for storing logs\n",
    "    logging_steps=1_000,                                       # Steps to report the loss value\n",
    "    save_strategy =\"no\",\n",
    ")\n",
    "\n",
    "model = T5ForConditionalGeneration.from_pretrained(\"Salesforce/codet5-base\")\n",
    "data_collator = DataCollatorForSeq2Seq(tokenizer, model, padding=True)"
   ]
  },
  {
   "cell_type": "code",
   "execution_count": 17,
   "metadata": {},
   "outputs": [],
   "source": [
    "def compute_metrics(p):\n",
    "    predictions, labels = p\n",
    "    \n",
    "    predictions = np.argmax(predictions[0], axis=2)\n",
    "   \n",
    "    true_predictions = [p for pred in predictions for p in pred]\n",
    "    true_labels = [p for pred in labels for p in pred]\n",
    "    \n",
    "    true_predictions1 = [pred[1] for pred in predictions]\n",
    "    true_labels1 = [label[1] for label in labels]\n",
    "    \n",
    "    return {\n",
    "        \"precision\": precision_score(true_labels, true_predictions, average=\"weighted\"),\n",
    "        \"recall\": recall_score(true_labels, true_predictions, average=\"weighted\"),\n",
    "        \"f1\": f1_score(true_labels, true_predictions, average=\"weighted\"),\n",
    "        \"accuracy\": accuracy_score(true_labels, true_predictions),\n",
    "        \"1_precision\": precision_score(true_labels1, true_predictions1, average=\"weighted\"),\n",
    "        \"1_recall\": recall_score(true_labels1, true_predictions1, average=\"weighted\"),\n",
    "        \"1_f1\": f1_score(true_labels1, true_predictions1, average=\"weighted\"),\n",
    "        \"1_accuracy\": accuracy_score(true_labels1, true_predictions1),\n",
    "    }"
   ]
  },
  {
   "cell_type": "code",
   "execution_count": 19,
   "metadata": {},
   "outputs": [
    {
     "data": {
      "text/html": [
       "\n",
       "    <div>\n",
       "      \n",
       "      <progress value='3358' max='3358' style='width:300px; height:20px; vertical-align: middle;'></progress>\n",
       "      [3358/3358 26:04, Epoch 1/1]\n",
       "    </div>\n",
       "    <table border=\"1\" class=\"dataframe\">\n",
       "  <thead>\n",
       " <tr style=\"text-align: left;\">\n",
       "      <th>Step</th>\n",
       "      <th>Training Loss</th>\n",
       "    </tr>\n",
       "  </thead>\n",
       "  <tbody>\n",
       "    <tr>\n",
       "      <td>1000</td>\n",
       "      <td>0.414900</td>\n",
       "    </tr>\n",
       "    <tr>\n",
       "      <td>2000</td>\n",
       "      <td>0.030900</td>\n",
       "    </tr>\n",
       "    <tr>\n",
       "      <td>3000</td>\n",
       "      <td>0.021000</td>\n",
       "    </tr>\n",
       "  </tbody>\n",
       "</table><p>"
      ],
      "text/plain": [
       "<IPython.core.display.HTML object>"
      ]
     },
     "metadata": {},
     "output_type": "display_data"
    },
    {
     "data": {
      "text/plain": [
       "TrainOutput(global_step=3358, training_loss=0.1408963359630555, metrics={'train_runtime': 1565.257, 'train_samples_per_second': 8.581, 'train_steps_per_second': 2.145, 'total_flos': 8161515310878720.0, 'train_loss': 0.1408963359630555, 'epoch': 1.0})"
      ]
     },
     "execution_count": 19,
     "metadata": {},
     "output_type": "execute_result"
    }
   ],
   "source": [
    "trainer = Trainer(\n",
    "    model=model,                         \n",
    "    args=training_args,                  \n",
    "    train_dataset=train_dataset[\"train\"],  \n",
    "    eval_dataset=train_dataset[\"test\"].select(range(200)),    \n",
    "    tokenizer=tokenizer,\n",
    "    compute_metrics=compute_metrics,\n",
    "    data_collator=data_collator,\n",
    ")\n",
    "\n",
    "trainer.train()"
   ]
  },
  {
   "cell_type": "code",
   "execution_count": 25,
   "metadata": {},
   "outputs": [
    {
     "name": "stderr",
     "output_type": "stream",
     "text": [
      "C:\\Users\\e.seffen\\AppData\\Local\\anaconda3\\Lib\\site-packages\\sklearn\\metrics\\_classification.py:1509: UndefinedMetricWarning: Precision is ill-defined and being set to 0.0 in labels with no predicted samples. Use `zero_division` parameter to control this behavior.\n",
      "  _warn_prf(average, modifier, f\"{metric.capitalize()} is\", len(result))\n",
      "C:\\Users\\e.seffen\\AppData\\Local\\anaconda3\\Lib\\site-packages\\sklearn\\metrics\\_classification.py:1509: UndefinedMetricWarning: Recall is ill-defined and being set to 0.0 in labels with no true samples. Use `zero_division` parameter to control this behavior.\n",
      "  _warn_prf(average, modifier, f\"{metric.capitalize()} is\", len(result))\n"
     ]
    },
    {
     "data": {
      "text/plain": [
       "{'eval_loss': 0.01904507353901863,\n",
       " 'eval_precision': 0.8124309340522828,\n",
       " 'eval_recall': 0.8933333333333333,\n",
       " 'eval_f1': 0.848437005961392,\n",
       " 'eval_accuracy': 0.8933333333333333,\n",
       " 'eval_1_precision': 0.9278030303030304,\n",
       " 'eval_1_recall': 0.925,\n",
       " 'eval_1_f1': 0.9236121212121212,\n",
       " 'eval_1_accuracy': 0.925,\n",
       " 'eval_runtime': 528.8209,\n",
       " 'eval_samples_per_second': 0.378,\n",
       " 'eval_steps_per_second': 0.095,\n",
       " 'epoch': 1.0}"
      ]
     },
     "execution_count": 25,
     "metadata": {},
     "output_type": "execute_result"
    }
   ],
   "source": [
    "# # This did not work, OOM which does not make sense because the training works, seem related to an issue\n",
    "# # https://discuss.huggingface.co/t/cuda-out-of-memory-during-evaluation-but-training-is-fine/1783/2\n",
    "trainer.evaluate()"
   ]
  },
  {
   "cell_type": "code",
   "execution_count": 27,
   "metadata": {},
   "outputs": [
    {
     "data": {
      "application/vnd.jupyter.widget-view+json": {
       "model_id": "2c32cd9b7d604bcd94a0d2b7a6ea4ced",
       "version_major": 2,
       "version_minor": 0
      },
      "text/plain": [
       "  0%|          | 0/830 [00:00<?, ?it/s]"
      ]
     },
     "metadata": {},
     "output_type": "display_data"
    },
    {
     "name": "stderr",
     "output_type": "stream",
     "text": [
      "C:\\Users\\e.seffen\\AppData\\Local\\anaconda3\\Lib\\site-packages\\transformers\\generation\\utils.py:1258: UserWarning: Using the model-agnostic default `max_length` (=20) to control the generation length. We recommend setting `max_new_tokens` to control the maximum length of the generation.\n",
      "  warnings.warn(\n"
     ]
    }
   ],
   "source": [
    "def predict(tokenizer, model, source, beam_size=5):\n",
    "    tokenized_inputs = tokenizer(source, padding=True, truncation=True, return_tensors=\"pt\").to(model.device)\n",
    "    tokenized_labels = model.generate(num_beams=beam_size, no_repeat_ngram_size=2, num_return_sequences=beam_size, **tokenized_inputs).cpu().detach().numpy()\n",
    "\n",
    "    return tokenizer.batch_decode(tokenized_labels, skip_special_tokens=True)\n",
    "\n",
    "\n",
    "def get_preds_1a(beam_sizes, total=1000, dataset=dataset[\"test\"]):\n",
    "    if total == -1:\n",
    "        total = len(dataset)\n",
    "    preds_1 = [[None for _ in range(total)] for _ in beam_sizes]\n",
    "    preds_a = [[None for _ in range(total)] for _ in beam_sizes]\n",
    "    \n",
    "    for i in tqdm(range(total)):\n",
    "        preds = predict(tokenizer, model, [dataset[i][\"input\"]], beam_size=beam_sizes[-1])\n",
    "\n",
    "        gt = dataset[i][\"vulnerability type\"]\n",
    "        gt_class = gt.split(\":\")[0]\n",
    "        for j, pred in enumerate(preds):\n",
    "            try:\n",
    "                pred_class = pred.split(\":\")[0]\n",
    "                for k in range(len(preds_1)):\n",
    "                    if j < beam_sizes[k] and (preds_1[k][i] is None or pred_class == gt_class):\n",
    "                        preds_1[k][i] = pred_class\n",
    "                    if  j < beam_sizes[k] and (preds_a[k][i] is None or pred == gt):\n",
    "                        preds_a[k][i] = pred\n",
    "            except:\n",
    "                print(\"Exception\")\n",
    "                \n",
    "    return preds_a, preds_1\n",
    "\n",
    "beam_sizes=[1, 5, 10, 50]\n",
    "total=-1\n",
    "preds_a, preds_1 = get_preds_1a(beam_sizes, total=total)"
   ]
  },
  {
   "cell_type": "code",
   "execution_count": 37,
   "metadata": {},
   "outputs": [
    {
     "name": "stdout",
     "output_type": "stream",
     "text": [
      "Number of classes is 8\n",
      "['UNSAFE_GUARDED_BY_ACCESS', 'CHECKERS_IMMUTABLE_CAST', 'NULL_DEREFERENCE', 'CHECKERS_PRINTF_ARGS', 'THREAD_SAFETY_VIOLATION', 'RESOURCE_LEAK', 'INTERFACE_NOT_THREAD_SAFE', 'Accepted']\n"
     ]
    }
   ],
   "source": [
    "ground_truth_1 = []\n",
    "ground_truth = []\n",
    "for i in range(len(dataset[\"test\"]) if total == -1 else total):\n",
    "    gt = dataset[\"test\"][i][\"vulnerability type\"]\n",
    "    ground_truth_1.append(gt.split(\":\")[0])\n",
    "    ground_truth.append(gt)\n",
    "    \n",
    "classes = list(set(ground_truth_1)) + [\"Accepted\"]\n",
    "n_classes = len(classes)\n",
    "\n",
    "def class2idx(class_names):\n",
    "    return np.array([classes.index(class_name) for class_name in class_names])\n",
    "\n",
    "print(f\"Number of classes is {n_classes}\")\n",
    "print(classes)"
   ]
  },
  {
   "cell_type": "code",
   "execution_count": 57,
   "metadata": {},
   "outputs": [
    {
     "name": "stdout",
     "output_type": "stream",
     "text": [
      "Metrics only for the first item (or the class or the error)\n",
      "Accuracy1 beam_size=1 0.8892\n",
      "Precision1 beam_size=1 0.8892\n",
      "Recall1 beam_size=1 0.8892\n",
      "F11 beam_size=1 0.8892\n",
      "Accuracy1 beam_size=5 0.9988\n",
      "Precision1 beam_size=5 0.9988\n",
      "Recall1 beam_size=5 0.9988\n",
      "F11 beam_size=5 0.9988\n",
      "Accuracy1 beam_size=10 0.9988\n",
      "Precision1 beam_size=10 0.9988\n",
      "Recall1 beam_size=10 0.9988\n",
      "F11 beam_size=10 0.9988\n",
      "Accuracy1 beam_size=50 1.0000\n",
      "Precision1 beam_size=50 1.0000\n",
      "Recall1 beam_size=50 1.0000\n",
      "F11 beam_size=50 1.0000\n"
     ]
    }
   ],
   "source": [
    "le_ground_truth_1 = class2idx(ground_truth_1)\n",
    "le_ground_truth_1 = torch.from_numpy(le_ground_truth_1)\n",
    "\n",
    "accuracy = Accuracy(num_classes=n_classes, task=\"multiclass\")\n",
    "precision = Precision(num_classes=n_classes, task=\"multiclass\")\n",
    "recall = Recall(num_classes=n_classes, task=\"multiclass\")\n",
    "f1 = F1Score(num_classes=n_classes, task=\"multiclass\")\n",
    "\n",
    "print(\"Metrics only for the first item (or the class or the error)\")\n",
    "for i, b in enumerate(beam_sizes):\n",
    "    le_preds_1 = torch.from_numpy(class2idx(preds_1[i]))\n",
    "    \n",
    "    acc = accuracy(le_preds_1, le_ground_truth_1).item()\n",
    "    p = precision(le_preds_1, le_ground_truth_1).item()\n",
    "    r = recall(le_preds_1, le_ground_truth_1).item()\n",
    "    f = f1(le_preds_1, le_ground_truth_1).item()\n",
    "    \n",
    "    print(f\"Accuracy1 beam_size={b} {acc:.4f}\")\n",
    "    print(f\"Precision1 beam_size={b} {p:.4f}\")\n",
    "    print(f\"Recall1 beam_size={b} {r:.4f}\")\n",
    "    print(f\"F11 beam_size={b} {f:.4f}\")"
   ]
  },
  {
   "cell_type": "code",
   "execution_count": 59,
   "metadata": {},
   "outputs": [
    {
     "name": "stdout",
     "output_type": "stream",
     "text": [
      "Metrics for the entire error message\n",
      "Accuracy beam_size=1 0.8891566265060241\n",
      "Accuracy beam_size=5 0.9987951807228915\n",
      "Accuracy beam_size=10 0.9987951807228915\n",
      "Accuracy beam_size=50 1.0\n"
     ]
    }
   ],
   "source": [
    "print(\"Metrics for the entire error message\")\n",
    "for i, b in enumerate(beam_sizes):\n",
    "    correct_preds = 0\n",
    "    total_preds = 0\n",
    "    \n",
    "    for pred, gt in zip(preds_a[i], ground_truth):\n",
    "        if pred == gt:\n",
    "            correct_preds += 1\n",
    "        total_preds += 1\n",
    "    \n",
    "    print(f\"Accuracy beam_size={b} {correct_preds / total_preds}\")"
   ]
  },
  {
   "cell_type": "code",
   "execution_count": 61,
   "metadata": {},
   "outputs": [
    {
     "data": {
      "image/png": "[encoded data removed]",
      "text/plain": [
       "<Figure size 800x500 with 1 Axes>"
      ]
     },
     "metadata": {},
     "output_type": "display_data"
    },
    {
     "data": {
      "image/png": "[encoded data removed]",
      "text/plain": [
       "<Figure size 800x500 with 1 Axes>"
      ]
     },
     "metadata": {},
     "output_type": "display_data"
    },
    {
     "data": {
      "image/png": "[encoded data removed]",
      "text/plain": [
       "<Figure size 800x500 with 1 Axes>"
      ]
     },
     "metadata": {},
     "output_type": "display_data"
    },
    {
     "data": {
      "image/png": "[encoded data removed]",
      "text/plain": [
       "<Figure size 800x500 with 1 Axes>"
      ]
     },
     "metadata": {},
     "output_type": "display_data"
    }
   ],
   "source": [
    "for i in range(len(beam_sizes)):\n",
    "    fig, ax = plt.subplots(figsize=(8, 5))\n",
    "    sns.histplot(preds_1[i], ax=ax)\n",
    "\n",
    "    plt.xticks(rotation=70)\n",
    "    plt.title(f\"Distribution of predictions when beam size={beam_sizes[i]}\")\n",
    "    plt.show()"
   ]
  },
  {
   "cell_type": "code",
   "execution_count": 69,
   "metadata": {},
   "outputs": [
    {
     "data": {
      "image/png": "[encoded data removed]",
      "text/plain": [
       "<Figure size 1000x1000 with 2 Axes>"
      ]
     },
     "metadata": {},
     "output_type": "display_data"
    }
   ],
   "source": [
    "confmat = ConfusionMatrix(num_classes=n_classes,task=\"multiclass\")\n",
    "\n",
    "confmat_1 = confmat(le_preds_1, le_ground_truth_1)\n",
    "\n",
    "fig, ax = plt.subplots(figsize=(10, 10))\n",
    "sns.heatmap(data=confmat_1, xticklabels=classes, yticklabels=classes, ax=ax)\n",
    "fig.suptitle(\"Confusion Matrix\")\n",
    "plt.show()\n",
    "\n",
    "# Ground truth is on the y axes and predictions are on the x axes"
   ]
  },
  {
   "cell_type": "code",
   "execution_count": 18,
   "metadata": {
    "execution": {
     "iopub.execute_input": "2024-09-03T09:36:36.001028Z",
     "iopub.status.busy": "2024-09-03T09:36:36.000732Z",
     "iopub.status.idle": "2024-09-03T09:36:36.005498Z",
     "shell.execute_reply": "2024-09-03T09:36:36.004459Z",
     "shell.execute_reply.started": "2024-09-03T09:36:36.000995Z"
    }
   },
   "outputs": [],
   "source": [
    "if KAGGLE_KERNEL_INTERACTIVE:\n",
    "    trainer.push_to_hub()"
   ]
  },
  {
   "cell_type": "markdown",
   "metadata": {},
   "source": [
    "## Inference"
   ]
  },
  {
   "cell_type": "code",
   "execution_count": 83,
   "metadata": {},
   "outputs": [
    {
     "data": {
      "text/plain": [
       "('codet5-base-buggy-error-description\\\\tokenizer_config.json',\n",
       " 'codet5-base-buggy-error-description\\\\special_tokens_map.json',\n",
       " 'codet5-base-buggy-error-description\\\\vocab.json',\n",
       " 'codet5-base-buggy-error-description\\\\merges.txt',\n",
       " 'codet5-base-buggy-error-description\\\\added_tokens.json',\n",
       " 'codet5-base-buggy-error-description\\\\tokenizer.json')"
      ]
     },
     "execution_count": 83,
     "metadata": {},
     "output_type": "execute_result"
    }
   ],
   "source": [
    "model.save_pretrained('codet5-base-buggy-error-description')\n",
    "tokenizer.save_pretrained('codet5-base-buggy-error-description')"
   ]
  },
  {
   "cell_type": "code",
   "execution_count": 71,
   "metadata": {},
   "outputs": [],
   "source": [
    "def predict(tokenizer, model, source, beam_size=5):\n",
    "    tokenized_inputs = tokenizer(source, padding=True, truncation=True, return_tensors=\"pt\").to(model.device)\n",
    "    tokenized_labels = model.generate(num_beams=beam_size, no_repeat_ngram_size=2, num_return_sequences=beam_size, **tokenized_inputs).cpu().detach().numpy()\n",
    "\n",
    "    return tokenizer.batch_decode(tokenized_labels, skip_special_tokens=True)"
   ]
  },
  {
   "cell_type": "code",
   "execution_count": 93,
   "metadata": {},
   "outputs": [
    {
     "data": {
      "text/html": [
       "<h2>Example 0</h2>"
      ],
      "text/plain": [
       "<IPython.core.display.HTML object>"
      ]
     },
     "metadata": {},
     "output_type": "display_data"
    },
    {
     "name": "stdout",
     "output_type": "stream",
     "text": [
      "@Override\n",
      "    public void reset() {\n",
      "        result = null;\n",
      "    }\n",
      "THREAD_SAFETY_VIOLATION\n",
      "THREAD_SAFETY_VIOLATION\n"
     ]
    },
    {
     "data": {
      "text/html": [
       "<h2>Example 1</h2>"
      ],
      "text/plain": [
       "<IPython.core.display.HTML object>"
      ]
     },
     "metadata": {},
     "output_type": "display_data"
    },
    {
     "name": "stdout",
     "output_type": "stream",
     "text": [
      "@Test\n",
      "\tpublic void testAddWorkdaysFromFriday() {\n",
      "\t\n",
      "\t\tCalendar startDate = Calendar.getInstance();\n",
      "\t\t// adjust to FRIDAY\n",
      "\t\tstartDate.set(Calendar.DAY_OF_WEEK, Calendar.FRIDAY);\n",
      "\t\tSystem.out.println(\"Startdate=\" + startDate.getTime());\n",
      "\t\n",
      "\t\t// adjust -3 Workdays -> THUSEDAY\n",
      "\t\tAssert.assertEquals(Calendar.TUESDAY,\n",
      "\t\t\t\tWorkflowSchedulerService.addWorkDays(startDate, 2).get(Calendar.DAY_OF_WEEK));\n",
      "\t\n",
      "\t\tAssert.assertEquals(Calendar.WEDNESDAY,\n",
      "\t\t\t\tWorkflowSchedulerService.addWorkDays(startDate, 8).get(Calendar.DAY_OF_WEEK));\n",
      "\t\n",
      "\t\tAssert.assertEquals(Calendar.FRIDAY,\n",
      "\t\t\t\tWorkflowSchedulerService.addWorkDays(startDate, 10).get(Calendar.DAY_OF_WEEK));\n",
      "\t\n",
      "\t\tAssert.assertEquals(Calendar.THURSDAY,\n",
      "\t\t\t\tWorkflowSchedulerService.addWorkDays(startDate, 14).get(Calendar.DAY_OF_WEEK));\n",
      "\t\n",
      "\t}\n",
      "NULL_DEREFERENCE\n",
      "NULL_DEREFERENCE\n"
     ]
    },
    {
     "data": {
      "text/html": [
       "<h2>Example 2</h2>"
      ],
      "text/plain": [
       "<IPython.core.display.HTML object>"
      ]
     },
     "metadata": {},
     "output_type": "display_data"
    },
    {
     "name": "stdout",
     "output_type": "stream",
     "text": [
      "@Override\n",
      "  public void handleDataDeleted(String dataPath) {\n",
      "    if (_zkClientForListener == null || _zkClientForListener.isClosed()) {\n",
      "      return;\n",
      "    }\n",
      "    // Resubscribe\n",
      "    _zkClientForListener.unsubscribeAll();\n",
      "    _zkClientForListener.subscribeRoutingDataChanges(this, this);\n",
      "    resetZkResources();\n",
      "  }\n",
      "THREAD_SAFETY_VIOLATION\n",
      "THREAD_SAFETY_VIOLATION\n"
     ]
    },
    {
     "data": {
      "text/html": [
       "<h2>Example 3</h2>"
      ],
      "text/plain": [
       "<IPython.core.display.HTML object>"
      ]
     },
     "metadata": {},
     "output_type": "display_data"
    },
    {
     "name": "stdout",
     "output_type": "stream",
     "text": [
      "public static String exec(String cmd) throws IOException {\n",
      "        Process process = Runtime.getRuntime().exec(cmd);\n",
      "        InputStream inputStream = process.getInputStream();\n",
      "        InputStream errorStream = process.getErrorStream();\n",
      "        try {\n",
      "            String err = IOUtils.toString(errorStream, \"UTF-8\");\n",
      "            String out = IOUtils.toString(inputStream, \"UTF-8\");\n",
      "            return err + \"\\n\" + out;\n",
      "        } finally {\n",
      "            inputStream.close();\n",
      "            errorStream.close();\n",
      "        }\n",
      "    }\n",
      "RESOURCE_LEAK\n",
      "RESOURCE_LEAK\n"
     ]
    },
    {
     "data": {
      "text/html": [
       "<h2>Example 4</h2>"
      ],
      "text/plain": [
       "<IPython.core.display.HTML object>"
      ]
     },
     "metadata": {},
     "output_type": "display_data"
    },
    {
     "name": "stdout",
     "output_type": "stream",
     "text": [
      "@Test\n",
      "    public void testResponseContentOverwriteHeaders() throws Exception {\n",
      "        ResponseContent interceptor = new ResponseContent(true);\n",
      "        HttpContext context = new BasicHttpContext(null);\n",
      "        HttpResponse response = new BasicHttpResponse(HttpVersion.HTTP_1_1, HttpStatus.SC_OK, \"OK\");\n",
      "        response.addHeader(new BasicHeader(HTTP.CONTENT_LEN, \"10\"));\n",
      "        response.addHeader(new BasicHeader(HTTP.TRANSFER_ENCODING, \"whatever\"));\n",
      "        interceptor.process(response, context);\n",
      "        Assert.assertEquals(\"0\", response.getFirstHeader(HTTP.CONTENT_LEN).getValue());\n",
      "        Assert.assertEquals(\"whatever\", response.getFirstHeader(HTTP.TRANSFER_ENCODING).getValue());\n",
      "    }\n",
      "NULL_DEREFERENCE\n",
      "NULL_DEREFERENCE\n"
     ]
    },
    {
     "data": {
      "text/html": [
       "<h2>Example 5</h2>"
      ],
      "text/plain": [
       "<IPython.core.display.HTML object>"
      ]
     },
     "metadata": {},
     "output_type": "display_data"
    },
    {
     "name": "stdout",
     "output_type": "stream",
     "text": [
      "@Test\n",
      "\tpublic void evolutionVCard() throws Exception {\n",
      "\t\tVCardReader reader = new VCardReader(new InputStreamReader(getClass().getResourceAsStream(\"John_Doe_EVOLUTION.vcf\")));\n",
      "\t\treader.setCompatibilityMode(CompatibilityMode.EVOLUTION);\n",
      "\t\tVCard vcard = reader.readNext();\n",
      "\n",
      "\t\t//VERSION\n",
      "\t\tassertEquals(VCardVersion.V3_0, vcard.getVersion());\n",
      "\n",
      "\t\t//URL\n",
      "\t\t{\n",
      "\t\t\tIterator<UrlType> it = vcard.getUrls().iterator();\n",
      "\n",
      "\t\t\tUrlType t = it.next();\n",
      "\t\t\tassertEquals(\"http://www.ibm.com\", t.getValue());\n",
      "\t\t\tassertEquals(\"0abc9b8d-0845-47d0-9a91-3db5bb74620d\", t.getSubTypes().getFirst(\"X-COUCHDB-UUID\"));\n",
      "\n",
      "\t\t\tassertFalse(it.hasNext());\n",
      "\t\t}\n",
      "\n",
      "\t\t//TEL\n",
      "\t\t{\n",
      "\t\t\tIterator<TelephoneType> it = vcard.getTelephoneNumbers().iterator();\n",
      "\n",
      "\t\t\tTelephoneType t = it.next();\n",
      "\t\t\tassertEquals(\"905-666-1234\", t.getValue());\n",
      "\t\t\tSet<TelephoneTypeParameter> types = t.getTypes();\n",
      "\t\t\tassertEquals(1, types.size());\n",
      "\t\t\tassertTrue(types.contains(TelephoneTypeParameter.CELL));\n",
      "\t\t\tassertEquals(\"c2fa1caa-2926-4087-8971-609cfc7354ce\", t.getSubTypes().getFirst(\"X-COUCHDB-UUID\"));\n",
      "\n",
      "\t\t\tt = it.next();\n",
      "\t\t\tassertEquals(\"905-555-1234\", t.getValue());\n",
      "\t\t\ttypes = t.getTypes();\n",
      "\t\t\tassertEquals(2, types.size());\n",
      "\t\t\tassertTrue(types.contains(TelephoneTypeParameter.WORK));\n",
      "\t\t\tassertTrue(types.contains(TelephoneTypeParameter.VOICE));\n",
      "\t\t\tassertEquals(\"fbfb2722-4fd8-4dbf-9abd-eeb24072fd8e\", t.getSubTypes().getFirst(\"X-COUCHDB-UUID\"));\n",
      "\n",
      "\t\t\tassertFalse(it.hasNext());\n",
      "\t\t}\n",
      "\n",
      "\t\t//UID\n",
      "\t\t{\n",
      "\t\t\tUidType t = vcard.getUid();\n",
      "\t\t\tassertEquals(\"477343c8e6bf375a9bac1f96a5000837\", t.getValue());\n",
      "\t\t}\n",
      "\n",
      "\t\t//N\n",
      "\t\t{\n",
      "\t\t\tStructuredNameType t = vcard.getStructuredName();\n",
      "\t\t\tassertEquals(\"Doe\", t.getFamily());\n",
      "\t\t\tassertEquals(\"John\", t.getGiven());\n",
      "\t\t\tList<String> list = t.getAdditional();\n",
      "\t\t\tassertEquals(Arrays.asList(\"Richter, James\"), list);\n",
      "\t\t\tlist = t.getPrefixes();\n",
      "\t\t\tassertEquals(Arrays.asList(\"Mr.\"), list);\n",
      "\t\t\tlist = t.getSuffixes();\n",
      "\t\t\tassertEquals(Arrays.asList(\"Sr.\"), list);\n",
      "\t\t}\n",
      "\n",
      "\t\t//FN\n",
      "\t\t{\n",
      "\t\t\tFormattedNameType t = vcard.getFormattedName();\n",
      "\t\t\tassertEquals(\"Mr. John Richter, James Doe Sr.\", t.getValue());\n",
      "\t\t}\n",
      "\n",
      "\t\t//NICKNAME\n",
      "\t\t{\n",
      "\t\t\tNicknameType t = vcard.getNickname();\n",
      "\t\t\tassertEquals(Arrays.asList(\"Johny\"), t.getValues());\n",
      "\t\t}\n",
      "\n",
      "\t\t//ORG\n",
      "\t\t{\n",
      "\t\t\tOrganizationType t = vcard.getOrganization();\n",
      "\t\t\tassertEquals(Arrays.asList(\"IBM\", \"Accounting\", \"Dungeon\"), t.getValues());\n",
      "\t\t}\n",
      "\n",
      "\t\t//TITLE\n",
      "\t\t{\n",
      "\t\t\tIterator<TitleType> it = vcard.getTitles().iterator();\n",
      "\n",
      "\t\t\tTitleType t = it.next();\n",
      "\t\t\tassertEquals(\"Money Counter\", t.getValue());\n",
      "\n",
      "\t\t\tassertFalse(it.hasNext());\n",
      "\t\t}\n",
      "\n",
      "\t\t//CATEGORIES\n",
      "\t\t{\n",
      "\t\t\tCategoriesType t = vcard.getCategories();\n",
      "\t\t\tassertEquals(Arrays.asList(\"VIP\"), t.getValues());\n",
      "\t\t}\n",
      "\n",
      "\t\t//NOTE\n",
      "\t\t{\n",
      "\t\t\tIterator<NoteType> it = vcard.getNotes().iterator();\n",
      "\t\t\tNoteType t = it.next();\n",
      "\t\t\tassertEquals(\"THIS SOFTWARE IS PROVIDED BY THE COPYRIGHT HOLDERS AND CONTRIBUTORS \\\"AS IS\\\" AND ANY EXPRESS OR IMPLIED WARRANTIES, INCLUDING, BUT NOT LIMITED TO, THE IMPLIED WARRANTIES OF MERCHANTABILITY AND FITNESS FOR A PARTICULAR PURPOSE ARE DISCLAIMED. IN NO EVENT SHALL THE COPYRIGHT HOLDER OR CONTRIBUTORS BE LIABLE FOR ANY DIRECT, INDIRECT, INCIDENTAL, SPECIAL, EXEMPLARY, OR CONSEQUENTIAL DAMAGES (INCLUDING, BUT NOT LIMITED TO, PROCUREMENT OF SUBSTITUTE GOODS OR SERVICES; LOSS OF USE, DATA, OR PROFITS; OR BUSINESS INTERRUPTION) HOWEVER CAUSED AND ON ANY THEORY OF LIABILITY, WHETHER IN CONTRACT, STRICT LIABILITY, OR TORT (INCLUDING NEGLIGENCE OR OTHERWISE) ARISING IN ANY WAY OUT OF THE USE OF THIS SOFTWARE, EVEN IF ADVISED OF THE POSSIBILITY OF SUCH DAMAGE.\", t.getValue());\n",
      "\t\t\tassertFalse(it.hasNext());\n",
      "\t\t}\n",
      "\n",
      "\t\t//EMAIL\n",
      "\t\t{\n",
      "\t\t\tIterator<EmailType> it = vcard.getEmails().iterator();\n",
      "\n",
      "\t\t\tEmailType t = it.next();\n",
      "\t\t\tassertEquals(\"john.doe@ibm.com\", t.getValue());\n",
      "\t\t\tSet<EmailTypeParameter> types = t.getTypes();\n",
      "\t\t\tassertEquals(1, types.size());\n",
      "\t\t\tassertTrue(types.contains(new EmailTypeParameter(\"work\"))); //non-standard type\n",
      "\t\t\tassertEquals(\"83a75a5d-2777-45aa-bab5-76a4bd972490\", t.getSubTypes().getFirst(\"X-COUCHDB-UUID\"));\n",
      "\n",
      "\t\t\tassertFalse(it.hasNext());\n",
      "\t\t}\n",
      "\n",
      "\t\t//ADR\n",
      "\t\t{\n",
      "\t\t\tIterator<AddressType> it = vcard.getAddresses().iterator();\n",
      "\n",
      "\t\t\tAddressType t = it.next();\n",
      "\t\t\tassertEquals(\"ASB-123\", t.getPoBox());\n",
      "\t\t\tassertEquals(null, t.getExtendedAddress());\n",
      "\t\t\tassertEquals(\"15 Crescent moon drive\", t.getStreetAddress());\n",
      "\t\t\tassertEquals(\"Albaney\", t.getLocality());\n",
      "\t\t\tassertEquals(\"New York\", t.getRegion());\n",
      "\t\t\tassertEquals(\"12345\", t.getPostalCode());\n",
      "\t\t\t//the space between \"United\" and \"States\" is lost because it was included with the folding character and ignored (see .vcf file)\n",
      "\t\t\tassertEquals(\"UnitedStates of America\", t.getCountry());\n",
      "\n",
      "\t\t\tSet<AddressTypeParameter> types = t.getTypes();\n",
      "\t\t\tassertEquals(1, types.size());\n",
      "\t\t\tassertTrue(types.contains(AddressTypeParameter.HOME));\n",
      "\n",
      "\t\t\tassertFalse(it.hasNext());\n",
      "\t\t}\n",
      "\n",
      "\t\t//BDAY\n",
      "\t\t{\n",
      "\t\t\tBirthdayType t = vcard.getBirthday();\n",
      "\t\t\tCalendar c = Calendar.getInstance();\n",
      "\t\t\tc.clear();\n",
      "\t\t\tc.set(Calendar.YEAR, 1980);\n",
      "\t\t\tc.set(Calendar.MONTH, Calendar.MARCH);\n",
      "\t\t\tc.set(Calendar.DAY_OF_MONTH, 22);\n",
      "\t\t\tDate expected = c.getTime();\n",
      "\t\t\tassertEquals(expected, t.getDate());\n",
      "\t\t}\n",
      "\n",
      "\t\t//REV\n",
      "\t\t{\n",
      "\t\t\tRevisionType t = vcard.getRevision();\n",
      "\t\t\tCalendar c = Calendar.getInstance(TimeZone.getTimeZone(\"UTC\"));\n",
      "\t\t\tc.clear();\n",
      "\t\t\tc.set(Calendar.YEAR, 2012);\n",
      "\t\t\tc.set(Calendar.MONTH, Calendar.MARCH);\n",
      "\t\t\tc.set(Calendar.DAY_OF_MONTH, 5);\n",
      "\t\t\tc.set(Calendar.HOUR_OF_DAY, 13);\n",
      "\t\t\tc.set(Calendar.MINUTE, 32);\n",
      "\t\t\tc.set(Calendar.SECOND, 54);\n",
      "\t\t\tassertEquals(c.getTime(), t.getTimestamp());\n",
      "\t\t}\n",
      "\n",
      "\t\t//extended types\n",
      "\t\t{\n",
      "\t\t\tassertEquals(7, countExtTypes(vcard));\n",
      "\n",
      "\t\t\tIterator<RawType> it = vcard.getExtendedType(\"X-COUCHDB-APPLICATION-ANNOTATIONS\").iterator();\n",
      "\t\t\tRawType t = it.next();\n",
      "\t\t\tassertEquals(\"X-COUCHDB-APPLICATION-ANNOTATIONS\", t.getTypeName());\n",
      "\t\t\tassertEquals(\"{\\\"Evolution\\\":{\\\"revision\\\":\\\"2012-03-05T13:32:54Z\\\"}}\", t.getValue());\n",
      "\t\t\tassertFalse(it.hasNext());\n",
      "\n",
      "\t\t\tit = vcard.getExtendedType(\"X-AIM\").iterator();\n",
      "\t\t\tt = it.next();\n",
      "\t\t\tassertEquals(\"X-AIM\", t.getTypeName());\n",
      "\t\t\tassertEquals(\"johnny5@aol.com\", t.getValue());\n",
      "\t\t\tassertEquals(\"HOME\", t.getSubTypes().getType());\n",
      "\t\t\tassertEquals(\"cb9e11fc-bb97-4222-9cd8-99820c1de454\", t.getSubTypes().getFirst(\"X-COUCHDB-UUID\"));\n",
      "\t\t\tassertFalse(it.hasNext());\n",
      "\n",
      "\t\t\tit = vcard.getExtendedType(\"X-EVOLUTION-FILE-AS\").iterator();\n",
      "\t\t\tt = it.next();\n",
      "\t\t\tassertEquals(\"X-EVOLUTION-FILE-AS\", t.getTypeName());\n",
      "\t\t\tassertEquals(\"Doe\\\\, John\", t.getValue());\n",
      "\t\t\tassertFalse(it.hasNext());\n",
      "\n",
      "\t\t\tit = vcard.getExtendedType(\"X-EVOLUTION-SPOUSE\").iterator();\n",
      "\t\t\tt = it.next();\n",
      "\t\t\tassertEquals(\"X-EVOLUTION-SPOUSE\", t.getTypeName());\n",
      "\t\t\tassertEquals(\"Maria\", t.getValue());\n",
      "\t\t\tassertFalse(it.hasNext());\n",
      "\n",
      "\t\t\tit = vcard.getExtendedType(\"X-EVOLUTION-MANAGER\").iterator();\n",
      "\t\t\tt = it.next();\n",
      "\t\t\tassertEquals(\"X-EVOLUTION-MANAGER\", t.getTypeName());\n",
      "\t\t\tassertEquals(\"Big Blue\", t.getValue());\n",
      "\t\t\tassertFalse(it.hasNext());\n",
      "\n",
      "\t\t\tit = vcard.getExtendedType(\"X-EVOLUTION-ASSISTANT\").iterator();\n",
      "\t\t\tt = it.next();\n",
      "\t\t\tassertEquals(\"X-EVOLUTION-ASSISTANT\", t.getTypeName());\n",
      "\t\t\tassertEquals(\"Little Red\", t.getValue());\n",
      "\t\t\tassertFalse(it.hasNext());\n",
      "\n",
      "\t\t\tit = vcard.getExtendedType(\"X-EVOLUTION-ANNIVERSARY\").iterator();\n",
      "\t\t\tt = it.next();\n",
      "\t\t\tassertEquals(\"X-EVOLUTION-ANNIVERSARY\", t.getTypeName());\n",
      "\t\t\tassertEquals(\"1980-03-22\", t.getValue());\n",
      "\t\t\tassertFalse(it.hasNext());\n",
      "\t\t}\n",
      "\t}\n",
      "RESOURCE_LEAK\n",
      "RESOURCE_LEAK\n"
     ]
    },
    {
     "data": {
      "text/html": [
       "<h2>Example 6</h2>"
      ],
      "text/plain": [
       "<IPython.core.display.HTML object>"
      ]
     },
     "metadata": {},
     "output_type": "display_data"
    },
    {
     "name": "stdout",
     "output_type": "stream",
     "text": [
      "@Test\n",
      "\tpublic void testIndexesAreSuccessfullyAsserted() {\n",
      "\n",
      "\t\tcreateLoginConstraint();\n",
      "\n",
      "\t\tComponents.getConfiguration().setAutoIndex(\"assert\");\n",
      "\n",
      "\t\tAutoIndexManager indexManager = new AutoIndexManager(metaData, Components.driver());\n",
      "\t\tassertEquals(AutoIndexMode.ASSERT.getName(), Components.getConfiguration().getAutoIndex());\n",
      "\t\tassertEquals(1, indexManager.getIndexes().size());\n",
      "\t\tindexManager.build();\n",
      "\n",
      "\t\tdropLoginConstraint();\n",
      "\t}\n",
      "NULL_DEREFERENCE\n",
      "NULL_DEREFERENCE\n"
     ]
    },
    {
     "data": {
      "text/html": [
       "<h2>Example 7</h2>"
      ],
      "text/plain": [
       "<IPython.core.display.HTML object>"
      ]
     },
     "metadata": {},
     "output_type": "display_data"
    },
    {
     "name": "stdout",
     "output_type": "stream",
     "text": [
      "@Override\n",
      "    public Raft.VoteResponse requestVote(Raft.VoteRequest request) {\n",
      "        if (request.getTerm() > raftNode.getCurrentTerm()) {\n",
      "            LOG.info(\"Received RequestVote request from server {} \" +\n",
      "                    \"in term {} (this server's term was {})\",\n",
      "                    request.getServerId(), request.getTerm(),\n",
      "                    raftNode.getCurrentTerm());\n",
      "            raftNode.stepDown(request.getTerm());\n",
      "        }\n",
      "        if (request.getTerm() == raftNode.getCurrentTerm()) {\n",
      "            if ((raftNode.getVotedFor() == 0\n",
      "                    || raftNode.getVotedFor() == request.getServerId())\n",
      "                    && (raftNode.getCurrentTerm() == request.getTerm()\n",
      "                    && raftNode.getCommitIndex() == request.getLastLogIndex())) {\n",
      "                raftNode.setVotedFor(request.getServerId());\n",
      "                raftNode.stepDown(raftNode.getCurrentTerm());\n",
      "                raftNode.resetElectionTimer();\n",
      "                raftNode.updateMetaData();\n",
      "                Raft.VoteResponse response = Raft.VoteResponse.newBuilder()\n",
      "                        .setGranted(true)\n",
      "                        .setTerm(raftNode.getCurrentTerm()).build();\n",
      "                return response;\n",
      "            }\n",
      "        }\n",
      "\n",
      "        Raft.VoteResponse response = Raft.VoteResponse.newBuilder()\n",
      "                .setGranted(false)\n",
      "                .setTerm(raftNode.getCurrentTerm()).build();\n",
      "        return response;\n",
      "    }\n",
      "THREAD_SAFETY_VIOLATION\n",
      "THREAD_SAFETY_VIOLATION\n"
     ]
    },
    {
     "data": {
      "text/html": [
       "<h2>Example 8</h2>"
      ],
      "text/plain": [
       "<IPython.core.display.HTML object>"
      ]
     },
     "metadata": {},
     "output_type": "display_data"
    },
    {
     "name": "stdout",
     "output_type": "stream",
     "text": [
      "@Override\n",
      "    public void forEachRemaining(Consumer<? super E> action) {\n",
      "        Objects.requireNonNull(action);\n",
      "        if (!exhausted) {\n",
      "            exhausted = true;\n",
      "            ReentrantLock lock = queueLock;\n",
      "            Object p = current;\n",
      "            current = null;\n",
      "            do {\n",
      "                E e = null;\n",
      "                lock.lock();\n",
      "                try {\n",
      "                    if (p != null || (p = getQueueFirst(queue)) != null)\n",
      "                        do {\n",
      "                            e = getNodeItem(p);\n",
      "                            p = succ(p);\n",
      "                        } while (e == null && p != null);\n",
      "                } finally {\n",
      "                    // checkInvariants();\n",
      "                    lock.unlock();\n",
      "                }\n",
      "                if (e != null)\n",
      "                    action.accept(e);\n",
      "            } while (p != null);\n",
      "        }\n",
      "    }\n",
      "THREAD_SAFETY_VIOLATION\n",
      "THREAD_SAFETY_VIOLATION\n"
     ]
    },
    {
     "data": {
      "text/html": [
       "<h2>Example 9</h2>"
      ],
      "text/plain": [
       "<IPython.core.display.HTML object>"
      ]
     },
     "metadata": {},
     "output_type": "display_data"
    },
    {
     "name": "stdout",
     "output_type": "stream",
     "text": [
      "protected Properties getProperties() {\n",
      "\t\tif (propertyFile!=null) { \n",
      "\t\t\tProperties properties = new Properties(); // TODO: should we \"inherit\" from the ant projects properties ?\n",
      "\t\t\ttry {\n",
      "\t\t\t\tproperties.load(new FileInputStream(propertyFile) );\n",
      "\t\t\t\treturn properties;\n",
      "\t\t\t} \n",
      "\t\t\tcatch (FileNotFoundException e) {\n",
      "\t\t\t\tthrow new BuildException(propertyFile + \" not found.\",e);\t\t\t\t\t\n",
      "\t\t\t} \n",
      "\t\t\tcatch (IOException e) {\n",
      "\t\t\t\tthrow new BuildException(\"Problem while loading \" + propertyFile,e);\t\t\t\t\n",
      "\t\t\t}\t\t\n",
      "\t\t} else {\n",
      "\t\t\treturn null;\n",
      "\t\t}\n",
      "\t}\n",
      "RESOURCE_LEAK\n",
      "RESOURCE_LEAK\n"
     ]
    },
    {
     "data": {
      "text/html": [
       "<h2>Example 10</h2>"
      ],
      "text/plain": [
       "<IPython.core.display.HTML object>"
      ]
     },
     "metadata": {},
     "output_type": "display_data"
    },
    {
     "name": "stdout",
     "output_type": "stream",
     "text": [
      "@Test\n",
      "    public void testEmptyLineBehaviourCSV() throws Exception {\n",
      "        String[] codes = {\n",
      "                \"hello,\\r\\n\\r\\n\\r\\n\",\n",
      "                \"hello,\\n\\n\\n\",\n",
      "                \"hello,\\\"\\\"\\r\\n\\r\\n\\r\\n\",\n",
      "                \"hello,\\\"\\\"\\n\\n\\n\"\n",
      "        };\n",
      "        String[][] res = {\n",
      "                {\"hello\", \"\"}  // CSV format ignores empty lines\n",
      "        };\n",
      "        for (String code : codes) {\n",
      "            CSVParser parser = new CSVParser(new StringReader(code));\n",
      "            String[][] tmp = parser.getRecords();\n",
      "            assertEquals(res.length, tmp.length);\n",
      "            assertTrue(tmp.length > 0);\n",
      "            for (int i = 0; i < res.length; i++) {\n",
      "                assertTrue(Arrays.equals(res[i], tmp[i]));\n",
      "            }\n",
      "        }\n",
      "    }\n",
      "NULL_DEREFERENCE\n",
      "RESOURCE_LEAK\n"
     ]
    },
    {
     "data": {
      "text/html": [
       "<h2>Example 11</h2>"
      ],
      "text/plain": [
       "<IPython.core.display.HTML object>"
      ]
     },
     "metadata": {},
     "output_type": "display_data"
    },
    {
     "name": "stdout",
     "output_type": "stream",
     "text": [
      "@Test\n",
      "  public void testConfigure() throws Exception {\n",
      "    double epsilon = 0.000000000000001 ;\n",
      "    Settings nsgaIISettings = new NSGAIIBinarySettings(\"ZDT5\");\n",
      "    Algorithm algorithm = nsgaIISettings.configure() ;\n",
      "    Problem problem = new ZDT5(\"Binary\") ;\n",
      "\n",
      "    SinglePointCrossover crossover = (SinglePointCrossover)algorithm.getOperator(\"crossover\") ;\n",
      "    double pc = (Double)crossover.getParameter(\"probability\") ;\n",
      "    BitFlipMutation mutation = (BitFlipMutation)algorithm.getOperator(\"mutation\") ;\n",
      "    double pm = (Double)mutation.getParameter(\"probability\") ;\n",
      "\n",
      "    assertEquals(\"NSGAIIBinary_SettingsTest\", 100, ((Integer)algorithm.getInputParameter(\"populationSize\")).intValue());\n",
      "    assertEquals(\"NSGAIIBinary_SettingsTest\", 25000, ((Integer)algorithm.getInputParameter(\"maxEvaluations\")).intValue());\n",
      "\n",
      "    assertEquals(\"NSGAIIBinary_SettingsTest\", 0.9, pc, epsilon);\n",
      "    assertEquals(\"NSGAIIBinary_SettingsTest\", 1.0/problem.getNumberOfBits(), pm, epsilon);\n",
      "  }\n",
      "NULL_DEREFERENCE\n",
      "NULL_DEREFERENCE\n"
     ]
    },
    {
     "data": {
      "text/html": [
       "<h2>Example 12</h2>"
      ],
      "text/plain": [
       "<IPython.core.display.HTML object>"
      ]
     },
     "metadata": {},
     "output_type": "display_data"
    },
    {
     "name": "stdout",
     "output_type": "stream",
     "text": [
      "@Test\n",
      "    public void testSkipPastEnd() throws Throwable {\n",
      "        InputStream ins = new ByteArrayInputStream(StringUtils.getBytesIso8859_1(ENCODED_B64));\n",
      "        Base64InputStream b64stream = new Base64InputStream(ins);\n",
      "        // due to CODEC-130, skip now skips correctly decoded characters rather than encoded\n",
      "        assertEquals(6, b64stream.skip(10));\n",
      "        // End of stream reached\n",
      "        assertEquals(-1, b64stream.read());\n",
      "        assertEquals(-1, b64stream.read());\n",
      "    }\n",
      "RESOURCE_LEAK\n",
      "RESOURCE_LEAK\n"
     ]
    },
    {
     "data": {
      "text/html": [
       "<h2>Example 13</h2>"
      ],
      "text/plain": [
       "<IPython.core.display.HTML object>"
      ]
     },
     "metadata": {},
     "output_type": "display_data"
    },
    {
     "name": "stdout",
     "output_type": "stream",
     "text": [
      "@Override\n",
      "    public List<String> getURLsFromPage(Document doc) {\n",
      "        List<String> result = new ArrayList<>();\n",
      "        if (getHost().contains(\"www.totempole666.com\")\n",
      "                || getHost().contains(\"buttsmithy.com\")\n",
      "                || getHost().contains(\"themonsterunderthebed.net\")\n",
      "                || getHost().contains(\"prismblush.com\")\n",
      "                || getHost().contains(\"www.konradokonski.com\")\n",
      "                || getHost().contains(\"thisis.delvecomic.com\")\n",
      "                || getHost().contains(\"tnbtu.com\")) {\n",
      "            Element elem = doc.select(\"div.comic-table > div#comic > a > img\").first();\n",
      "            // If doc is the last page in the comic then elem.attr(\"src\") returns null\n",
      "            // because there is no link <a> to the next page\n",
      "            if (elem == null) {\n",
      "                elem = doc.select(\"div.comic-table > div#comic > img\").first();\n",
      "            }\n",
      "            // Check if this is a site where we can get the page number from the title\n",
      "            if (url.toExternalForm().contains(\"buttsmithy.com\")) {\n",
      "                // Set the page title\n",
      "                pageTitle = doc.select(\"meta[property=og:title]\").attr(\"content\");\n",
      "                pageTitle = pageTitle.replace(\" \", \"\");\n",
      "                pageTitle = pageTitle.replace(\"P\", \"p\");\n",
      "            }\n",
      "            if (url.toExternalForm().contains(\"www.totempole666.com\")) {\n",
      "                String postDate = doc.select(\"span.post-date\").first().text().replaceAll(\"/\", \"_\");\n",
      "                String postTitle = doc.select(\"h2.post-title\").first().text().replaceAll(\"#\", \"\");\n",
      "                pageTitle = postDate + \"_\" + postTitle;\n",
      "            }\n",
      "            if (url.toExternalForm().contains(\"themonsterunderthebed.net\")) {\n",
      "                pageTitle = doc.select(\"title\").first().text().replaceAll(\"#\", \"\");\n",
      "                pageTitle = pageTitle.replace(\"“\", \"\");\n",
      "                pageTitle = pageTitle.replace(\"”\", \"\");\n",
      "                pageTitle = pageTitle.replace(\"The Monster Under the Bed\", \"\");\n",
      "                pageTitle = pageTitle.replace(\"–\", \"\");\n",
      "                pageTitle = pageTitle.replace(\",\", \"\");\n",
      "                pageTitle = pageTitle.replace(\" \", \"\");\n",
      "            }\n",
      "\n",
      "            result.add(elem.attr(\"src\"));\n",
      "        }\n",
      "\n",
      "        // freeadultcomix gets it own if because it needs to add http://freeadultcomix.com to the start of each link\n",
      "        // TODO review the above comment which no longer applies -- see if there's a refactoring we should do here.\n",
      "        if (url.toExternalForm().contains(\"freeadultcomix.com\")) {\n",
      "            for (Element elem : doc.select(\"div.single-post > p > img.aligncenter\")) {\n",
      "                result.add(elem.attr(\"src\"));\n",
      "            }\n",
      "        }\n",
      "\n",
      "        if (url.toExternalForm().contains(\"comics-xxx.com\")) {\n",
      "            for (Element elem : doc.select(\"div.single-post > center > p > img\")) {\n",
      "                result.add(elem.attr(\"src\"));\n",
      "            }\n",
      "        }\n",
      "\n",
      "        if (url.toExternalForm().contains(\"shipinbottle.pepsaga.com\")) {\n",
      "            for (Element elem : doc.select(\"div#comic > div.comicpane > a > img\")) {\n",
      "                result.add(elem.attr(\"src\"));\n",
      "            }\n",
      "        }\n",
      "\n",
      "        if (url.toExternalForm().contains(\"8muses.download\")) {\n",
      "            for (Element elem : doc.select(\"div.popup-gallery > figure > a\")) {\n",
      "                result.add(elem.attr(\"href\"));\n",
      "            }\n",
      "        }\n",
      "\n",
      "        return result;\n",
      "    }\n",
      "NULL_DEREFERENCE\n",
      "NULL_DEREFERENCE\n"
     ]
    },
    {
     "data": {
      "text/html": [
       "<h2>Example 14</h2>"
      ],
      "text/plain": [
       "<IPython.core.display.HTML object>"
      ]
     },
     "metadata": {},
     "output_type": "display_data"
    },
    {
     "name": "stdout",
     "output_type": "stream",
     "text": [
      "@Test\n",
      "    public void testClear() {\n",
      "        Assert.assertEquals(100, trie.get(\"杨尚川\"), 0);\n",
      "        Assert.assertEquals(1, trie.get(\"中华人民共和国\"), 0);\n",
      "        trie.clear();\n",
      "        Assert.assertEquals(null, trie.get(\"杨尚川\"));\n",
      "        Assert.assertEquals(null, trie.get(\"中华人民共和国\"));\n",
      "    }\n",
      "NULL_DEREFERENCE\n",
      "NULL_DEREFERENCE\n"
     ]
    },
    {
     "data": {
      "text/html": [
       "<h2>Example 15</h2>"
      ],
      "text/plain": [
       "<IPython.core.display.HTML object>"
      ]
     },
     "metadata": {},
     "output_type": "display_data"
    },
    {
     "name": "stdout",
     "output_type": "stream",
     "text": [
      "@SuppressWarnings(\"unchecked\")\n",
      "    protected QueryPlan compileJoinQuery(StatementContext context, List<Object> binds, JoinTable joinTable, boolean asSubquery, boolean projectPKColumns, List<OrderByNode> orderBy) throws SQLException {\n",
      "        byte[] emptyByteArray = new byte[0];\n",
      "        List<JoinSpec> joinSpecs = joinTable.getJoinSpecs();\n",
      "        if (joinSpecs.isEmpty()) {\n",
      "            Table table = joinTable.getTable();\n",
      "            SelectStatement subquery = table.getAsSubquery(orderBy);\n",
      "            if (!table.isSubselect()) {\n",
      "                context.setCurrentTable(table.getTableRef());\n",
      "                PTable projectedTable = table.createProjectedTable(!projectPKColumns, context);\n",
      "                TupleProjector.serializeProjectorIntoScan(context.getScan(), new TupleProjector(projectedTable));\n",
      "                context.setResolver(FromCompiler.getResolverForProjectedTable(projectedTable, context.getConnection(), subquery.getUdfParseNodes()));\n",
      "                table.projectColumns(context.getScan());\n",
      "                return compileSingleQuery(context, subquery, binds, asSubquery, !asSubquery);\n",
      "            }\n",
      "            QueryPlan plan = compileSubquery(subquery, false);\n",
      "            PTable projectedTable = table.createProjectedTable(plan.getProjector());\n",
      "            context.setResolver(FromCompiler.getResolverForProjectedTable(projectedTable, context.getConnection(), subquery.getUdfParseNodes()));\n",
      "            return new TupleProjectionPlan(plan, new TupleProjector(plan.getProjector()), table.compilePostFilterExpression(context));\n",
      "        }\n",
      "\n",
      "        boolean[] starJoinVector;\n",
      "        if (!this.useSortMergeJoin && (starJoinVector = joinTable.getStarJoinVector()) != null) {\n",
      "            Table table = joinTable.getTable();\n",
      "            PTable initialProjectedTable;\n",
      "            TableRef tableRef;\n",
      "            SelectStatement query;\n",
      "            TupleProjector tupleProjector;\n",
      "            if (!table.isSubselect()) {\n",
      "                context.setCurrentTable(table.getTableRef());\n",
      "                initialProjectedTable = table.createProjectedTable(!projectPKColumns, context);\n",
      "                tableRef = table.getTableRef();\n",
      "                table.projectColumns(context.getScan());\n",
      "                query = joinTable.getAsSingleSubquery(table.getAsSubquery(orderBy), asSubquery);\n",
      "                tupleProjector = new TupleProjector(initialProjectedTable);\n",
      "            } else {\n",
      "                SelectStatement subquery = table.getAsSubquery(orderBy);\n",
      "                QueryPlan plan = compileSubquery(subquery, false);\n",
      "                initialProjectedTable = table.createProjectedTable(plan.getProjector());\n",
      "                tableRef = plan.getTableRef();\n",
      "                context.getScan().setFamilyMap(plan.getContext().getScan().getFamilyMap());\n",
      "                query = joinTable.getAsSingleSubquery((SelectStatement) plan.getStatement(), asSubquery);\n",
      "                tupleProjector = new TupleProjector(plan.getProjector());\n",
      "            }\n",
      "            context.setCurrentTable(tableRef);\n",
      "            PTable projectedTable = initialProjectedTable;\n",
      "            int count = joinSpecs.size();\n",
      "            ImmutableBytesPtr[] joinIds = new ImmutableBytesPtr[count];\n",
      "            List<Expression>[] joinExpressions = new List[count];\n",
      "            JoinType[] joinTypes = new JoinType[count];\n",
      "            PTable[] tables = new PTable[count];\n",
      "            int[] fieldPositions = new int[count];\n",
      "            HashSubPlan[] subPlans = new HashSubPlan[count];\n",
      "            fieldPositions[0] = projectedTable.getColumns().size() - projectedTable.getPKColumns().size();\n",
      "            for (int i = 0; i < count; i++) {\n",
      "                JoinSpec joinSpec = joinSpecs.get(i);\n",
      "                Scan subScan = ScanUtil.newScan(originalScan);\n",
      "                StatementContext subContext = new StatementContext(statement, context.getResolver(), subScan, new SequenceManager(statement));\n",
      "                QueryPlan joinPlan = compileJoinQuery(subContext, binds, joinSpec.getJoinTable(), true, true, null);\n",
      "                boolean hasPostReference = joinSpec.getJoinTable().hasPostReference();\n",
      "                if (hasPostReference) {\n",
      "                    tables[i] = subContext.getResolver().getTables().get(0).getTable();\n",
      "                    projectedTable = JoinCompiler.joinProjectedTables(projectedTable, tables[i], joinSpec.getType());\n",
      "                } else {\n",
      "                    tables[i] = null;\n",
      "                }\n",
      "                context.setResolver(FromCompiler.getResolverForProjectedTable(projectedTable, context.getConnection(), query.getUdfParseNodes()));\n",
      "                joinIds[i] = new ImmutableBytesPtr(emptyByteArray); // place-holder\n",
      "                Pair<List<Expression>, List<Expression>> joinConditions = joinSpec.compileJoinConditions(context, subContext, true);\n",
      "                joinExpressions[i] = joinConditions.getFirst();\n",
      "                List<Expression> hashExpressions = joinConditions.getSecond();\n",
      "                Pair<Expression, Expression> keyRangeExpressions = new Pair<Expression, Expression>(null, null);\n",
      "                boolean optimized = getKeyExpressionCombinations(keyRangeExpressions, context, joinTable.getStatement(), tableRef, joinSpec.getType(), joinExpressions[i], hashExpressions);\n",
      "                Expression keyRangeLhsExpression = keyRangeExpressions.getFirst();\n",
      "                Expression keyRangeRhsExpression = keyRangeExpressions.getSecond();\n",
      "                joinTypes[i] = joinSpec.getType();\n",
      "                if (i < count - 1) {\n",
      "                    fieldPositions[i + 1] = fieldPositions[i] + (tables[i] == null ? 0 : (tables[i].getColumns().size() - tables[i].getPKColumns().size()));\n",
      "                }\n",
      "                subPlans[i] = new HashSubPlan(i, joinPlan, optimized ? null : hashExpressions, joinSpec.isSingleValueOnly(), keyRangeLhsExpression, keyRangeRhsExpression);\n",
      "            }\n",
      "            TupleProjector.serializeProjectorIntoScan(context.getScan(), tupleProjector);\n",
      "            QueryPlan plan = compileSingleQuery(context, query, binds, asSubquery, !asSubquery && joinTable.isAllLeftJoin());\n",
      "            Expression postJoinFilterExpression = joinTable.compilePostFilterExpression(context, table);\n",
      "            Integer limit = null;\n",
      "            if (!query.isAggregate() && !query.isDistinct() && query.getOrderBy().isEmpty()) {\n",
      "                limit = plan.getLimit();\n",
      "            }\n",
      "            HashJoinInfo joinInfo = new HashJoinInfo(projectedTable, joinIds, joinExpressions, joinTypes, starJoinVector, tables, fieldPositions, postJoinFilterExpression, limit);\n",
      "            return HashJoinPlan.create(joinTable.getStatement(), plan, joinInfo, subPlans);\n",
      "        }\n",
      "\n",
      "        JoinSpec lastJoinSpec = joinSpecs.get(joinSpecs.size() - 1);\n",
      "        JoinType type = lastJoinSpec.getType();\n",
      "        if (!this.useSortMergeJoin \n",
      "                && (type == JoinType.Right || type == JoinType.Inner) \n",
      "                && lastJoinSpec.getJoinTable().getJoinSpecs().isEmpty()\n",
      "                && lastJoinSpec.getJoinTable().getTable().isFlat()) {\n",
      "            JoinTable rhsJoinTable = lastJoinSpec.getJoinTable();\n",
      "            Table rhsTable = rhsJoinTable.getTable();\n",
      "            JoinTable lhsJoin = joinTable.getSubJoinTableWithoutPostFilters();\n",
      "            Scan subScan = ScanUtil.newScan(originalScan);\n",
      "            StatementContext lhsCtx = new StatementContext(statement, context.getResolver(), subScan, new SequenceManager(statement));\n",
      "            QueryPlan lhsPlan = compileJoinQuery(lhsCtx, binds, lhsJoin, true, true, null);\n",
      "            PTable rhsProjTable;\n",
      "            TableRef rhsTableRef;\n",
      "            SelectStatement rhs;\n",
      "            TupleProjector tupleProjector;\n",
      "            if (!rhsTable.isSubselect()) {\n",
      "                context.setCurrentTable(rhsTable.getTableRef());\n",
      "                rhsProjTable = rhsTable.createProjectedTable(!projectPKColumns, context);\n",
      "                rhsTableRef = rhsTable.getTableRef();\n",
      "                rhsTable.projectColumns(context.getScan());\n",
      "                rhs = rhsJoinTable.getAsSingleSubquery(rhsTable.getAsSubquery(orderBy), asSubquery);\n",
      "                tupleProjector = new TupleProjector(rhsProjTable);\n",
      "            } else {\n",
      "                SelectStatement subquery = rhsTable.getAsSubquery(orderBy);\n",
      "                QueryPlan plan = compileSubquery(subquery, false);\n",
      "                rhsProjTable = rhsTable.createProjectedTable(plan.getProjector());\n",
      "                rhsTableRef = plan.getTableRef();\n",
      "                context.getScan().setFamilyMap(plan.getContext().getScan().getFamilyMap());\n",
      "                rhs = rhsJoinTable.getAsSingleSubquery((SelectStatement) plan.getStatement(), asSubquery);\n",
      "                tupleProjector = new TupleProjector(plan.getProjector());\n",
      "            }\n",
      "            context.setCurrentTable(rhsTableRef);\n",
      "            context.setResolver(FromCompiler.getResolverForProjectedTable(rhsProjTable, context.getConnection(), rhs.getUdfParseNodes()));\n",
      "            ImmutableBytesPtr[] joinIds = new ImmutableBytesPtr[] {new ImmutableBytesPtr(emptyByteArray)};\n",
      "            Pair<List<Expression>, List<Expression>> joinConditions = lastJoinSpec.compileJoinConditions(lhsCtx, context, true);\n",
      "            List<Expression> joinExpressions = joinConditions.getSecond();\n",
      "            List<Expression> hashExpressions = joinConditions.getFirst();\n",
      "            boolean needsMerge = lhsJoin.hasPostReference();\n",
      "            PTable lhsTable = needsMerge ? lhsCtx.getResolver().getTables().get(0).getTable() : null;\n",
      "            int fieldPosition = needsMerge ? rhsProjTable.getColumns().size() - rhsProjTable.getPKColumns().size() : 0;\n",
      "            PTable projectedTable = needsMerge ? JoinCompiler.joinProjectedTables(rhsProjTable, lhsTable, type == JoinType.Right ? JoinType.Left : type) : rhsProjTable;\n",
      "            TupleProjector.serializeProjectorIntoScan(context.getScan(), tupleProjector);\n",
      "            context.setResolver(FromCompiler.getResolverForProjectedTable(projectedTable, context.getConnection(), rhs.getUdfParseNodes()));\n",
      "            QueryPlan rhsPlan = compileSingleQuery(context, rhs, binds, asSubquery, !asSubquery && type == JoinType.Right);\n",
      "            Expression postJoinFilterExpression = joinTable.compilePostFilterExpression(context, rhsTable);\n",
      "            Integer limit = null;\n",
      "            if (!rhs.isAggregate() && !rhs.isDistinct() && rhs.getOrderBy().isEmpty()) {\n",
      "                limit = rhsPlan.getLimit();\n",
      "            }\n",
      "            HashJoinInfo joinInfo = new HashJoinInfo(projectedTable, joinIds, new List[] {joinExpressions}, new JoinType[] {type == JoinType.Right ? JoinType.Left : type}, new boolean[] {true}, new PTable[] {lhsTable}, new int[] {fieldPosition}, postJoinFilterExpression, limit);\n",
      "            Pair<Expression, Expression> keyRangeExpressions = new Pair<Expression, Expression>(null, null);\n",
      "            getKeyExpressionCombinations(keyRangeExpressions, context, joinTable.getStatement(), rhsTableRef, type, joinExpressions, hashExpressions);\n",
      "            return HashJoinPlan.create(joinTable.getStatement(), rhsPlan, joinInfo, new HashSubPlan[] {new HashSubPlan(0, lhsPlan, hashExpressions, false, keyRangeExpressions.getFirst(), keyRangeExpressions.getSecond())});\n",
      "        }\n",
      "\n",
      "        JoinTable lhsJoin = joinTable.getSubJoinTableWithoutPostFilters();\n",
      "        JoinTable rhsJoin = lastJoinSpec.getJoinTable();        \n",
      "        if (type == JoinType.Right) {\n",
      "            JoinTable temp = lhsJoin;\n",
      "            lhsJoin = rhsJoin;\n",
      "            rhsJoin = temp;\n",
      "        }\n",
      "        \n",
      "        List<EqualParseNode> joinConditionNodes = lastJoinSpec.getOnConditions();\n",
      "        List<OrderByNode> lhsOrderBy = Lists.<OrderByNode> newArrayListWithExpectedSize(joinConditionNodes.size());\n",
      "        List<OrderByNode> rhsOrderBy = Lists.<OrderByNode> newArrayListWithExpectedSize(joinConditionNodes.size());\n",
      "        for (EqualParseNode condition : joinConditionNodes) {\n",
      "            lhsOrderBy.add(NODE_FACTORY.orderBy(type == JoinType.Right ? condition.getRHS() : condition.getLHS(), false, true));\n",
      "            rhsOrderBy.add(NODE_FACTORY.orderBy(type == JoinType.Right ? condition.getLHS() : condition.getRHS(), false, true));\n",
      "        }\n",
      "        \n",
      "        Scan lhsScan = ScanUtil.newScan(originalScan);\n",
      "        StatementContext lhsCtx = new StatementContext(statement, context.getResolver(), lhsScan, new SequenceManager(statement));\n",
      "        boolean preserveRowkey = !projectPKColumns && type != JoinType.Full;\n",
      "        QueryPlan lhsPlan = compileJoinQuery(lhsCtx, binds, lhsJoin, true, !preserveRowkey, lhsOrderBy);\n",
      "        PTable lhsProjTable = lhsCtx.getResolver().getTables().get(0).getTable();\n",
      "        boolean isInRowKeyOrder = preserveRowkey && lhsPlan.getOrderBy().getOrderByExpressions().isEmpty();\n",
      "        \n",
      "        Scan rhsScan = ScanUtil.newScan(originalScan);\n",
      "        StatementContext rhsCtx = new StatementContext(statement, context.getResolver(), rhsScan, new SequenceManager(statement));\n",
      "        QueryPlan rhsPlan = compileJoinQuery(rhsCtx, binds, rhsJoin, true, true, rhsOrderBy);\n",
      "        PTable rhsProjTable = rhsCtx.getResolver().getTables().get(0).getTable();\n",
      "        \n",
      "        Pair<List<Expression>, List<Expression>> joinConditions = lastJoinSpec.compileJoinConditions(type == JoinType.Right ? rhsCtx : lhsCtx, type == JoinType.Right ? lhsCtx : rhsCtx, false);\n",
      "        List<Expression> lhsKeyExpressions = type == JoinType.Right ? joinConditions.getSecond() : joinConditions.getFirst();\n",
      "        List<Expression> rhsKeyExpressions = type == JoinType.Right ? joinConditions.getFirst() : joinConditions.getSecond();\n",
      "        \n",
      "        boolean needsMerge = rhsJoin.hasPostReference();\n",
      "        int fieldPosition = needsMerge ? lhsProjTable.getColumns().size() - lhsProjTable.getPKColumns().size() : 0;\n",
      "        PTable projectedTable = needsMerge ? JoinCompiler.joinProjectedTables(lhsProjTable, rhsProjTable, type == JoinType.Right ? JoinType.Left : type) : lhsProjTable;\n",
      "\n",
      "        ColumnResolver resolver = FromCompiler.getResolverForProjectedTable(projectedTable, context.getConnection(), new HashMap<String,UDFParseNode>(1));\n",
      "        TableRef tableRef = resolver.getTables().get(0);\n",
      "        StatementContext subCtx = new StatementContext(statement, resolver, ScanUtil.newScan(originalScan), new SequenceManager(statement));\n",
      "        subCtx.setCurrentTable(tableRef);\n",
      "        QueryPlan innerPlan = new SortMergeJoinPlan(subCtx, joinTable.getStatement(), tableRef, type == JoinType.Right ? JoinType.Left : type, lhsPlan, rhsPlan, lhsKeyExpressions, rhsKeyExpressions, projectedTable, lhsProjTable, needsMerge ? rhsProjTable : null, fieldPosition, lastJoinSpec.isSingleValueOnly());\n",
      "        context.setCurrentTable(tableRef);\n",
      "        context.setResolver(resolver);\n",
      "        TableNode from = NODE_FACTORY.namedTable(tableRef.getTableAlias(), NODE_FACTORY.table(tableRef.getTable().getSchemaName().getString(), tableRef.getTable().getTableName().getString()));\n",
      "        ParseNode where = joinTable.getPostFiltersCombined();\n",
      "        SelectStatement select = asSubquery ? NODE_FACTORY.select(from, joinTable.getStatement().getHint(), false, Collections.<AliasedNode> emptyList(), where, null, null, orderBy, null, 0, false, joinTable.getStatement().hasSequence(), Collections.<SelectStatement>emptyList(), joinTable.getStatement().getUdfParseNodes())\n",
      "                : NODE_FACTORY.select(joinTable.getStatement(), from, where);\n",
      "        \n",
      "        return compileSingleFlatQuery(context, select, binds, asSubquery, false, innerPlan, null, isInRowKeyOrder);\n",
      "    }\n",
      "NULL_DEREFERENCE\n",
      "NULL_DEREFERENCE\n"
     ]
    },
    {
     "data": {
      "text/html": [
       "<h2>Example 16</h2>"
      ],
      "text/plain": [
       "<IPython.core.display.HTML object>"
      ]
     },
     "metadata": {},
     "output_type": "display_data"
    },
    {
     "name": "stdout",
     "output_type": "stream",
     "text": [
      "public synchronized Scoreboard getScoreboard() {\n",
      "        if (this.scoreboard == null) {\n",
      "            this.scoreboard = Bukkit.getScoreboardManager().getNewScoreboard();\n",
      "        }\n",
      "\n",
      "        return this.scoreboard;\n",
      "    }\n",
      "NULL_DEREFERENCE\n",
      "NULL_DEREFERENCE\n"
     ]
    },
    {
     "data": {
      "text/html": [
       "<h2>Example 17</h2>"
      ],
      "text/plain": [
       "<IPython.core.display.HTML object>"
      ]
     },
     "metadata": {},
     "output_type": "display_data"
    },
    {
     "name": "stdout",
     "output_type": "stream",
     "text": [
      "@Override\n",
      "  public void handleNewSession(String sessionId) {\n",
      "    if (_zkClientForListener == null || _zkClientForListener.isClosed()) {\n",
      "      return;\n",
      "    }\n",
      "    // Resubscribe\n",
      "    _zkClientForListener.unsubscribeAll();\n",
      "    _zkClientForListener.subscribeRoutingDataChanges(this, this);\n",
      "    resetZkResources();\n",
      "  }\n",
      "THREAD_SAFETY_VIOLATION\n",
      "THREAD_SAFETY_VIOLATION\n"
     ]
    },
    {
     "data": {
      "text/html": [
       "<h2>Example 18</h2>"
      ],
      "text/plain": [
       "<IPython.core.display.HTML object>"
      ]
     },
     "metadata": {},
     "output_type": "display_data"
    },
    {
     "name": "stdout",
     "output_type": "stream",
     "text": [
      "public void downloadObject(File targetFile, DownloadInstructions downloadInstructions) {\n",
      "        new DownloadObjectToFileCommand(getAccount(), getClient(), getAccess(), this, downloadInstructions, targetFile).call();\n",
      "    }\n",
      "RESOURCE_LEAK\n",
      "RESOURCE_LEAK\n"
     ]
    },
    {
     "data": {
      "text/html": [
       "<h2>Example 19</h2>"
      ],
      "text/plain": [
       "<IPython.core.display.HTML object>"
      ]
     },
     "metadata": {},
     "output_type": "display_data"
    },
    {
     "name": "stdout",
     "output_type": "stream",
     "text": [
      "public void next() {\n",
      "\t\tif (_waitingToEmit.isEmpty()) {\n",
      "\n",
      "\t\t\tfill();\n",
      "\t\t}\n",
      "\n",
      "\t\twhile (true) {\n",
      "\t\t\tMessageAndOffset msgAndOffset = _waitingToEmit.pollFirst();\n",
      "\t\t\t\n",
      "\t\t\tif (msgAndOffset != null) {\n",
      "\t\t\t\t\n",
      "\t\t\t\tLong key = msgAndOffset.offset();\n",
      "\t\t\t\tMessage msg = msgAndOffset.message();\n",
      "\n",
      "\n",
      "\t\t\t\ttry {\n",
      "\t\t\t\t\t_lastEnquedOffset = key;\n",
      "\t\t\t\t\tif (_lastEnquedOffset > _lastComittedOffset) {\n",
      "\n",
      "\t\t\t\t\t\tif (msg.payload() != null) {\n",
      "\t\t\t\t\t\t\t\n",
      "\t\t\t\t\t\t\tsynchronized (_receiver) {\n",
      "\t\t\t\t\t\t\t\t _receiver.store(new String(Utils.toByteArray(msg.payload())));\n",
      "\t\t\t\t\t\t\t}\n",
      "\t\t\t\t\t\t\t LOG.info(\"Store for topic \" + _topic + \" for partition \" + _partition.partition + \" is : \"+  _lastEnquedOffset);\n",
      "\n",
      "\t\t\t\t\t\t}\n",
      "\t\t\t\t\t}\n",
      "\t\t\t\t} catch (Exception e) {\n",
      "\t\t\t\t\tLOG.info(\"Process Failed for offset \" + key + \" for  \"\n",
      "\t\t\t\t\t\t\t+ _partition + \" for topic \" + _topic\n",
      "\t\t\t\t\t\t\t+ \" with Exception\" + e.getMessage());\n",
      "\t\t\t\t\te.printStackTrace();\n",
      "\t\t\t\t}\n",
      "\t\t\t}else{\n",
      "\t\t\t\t\n",
      "\t\t\t\tbreak;\n",
      "\t\t\t}\n",
      "\t\t}\n",
      "\n",
      "\t\tlong now = System.currentTimeMillis();\n",
      "\t\tif ((_lastEnquedOffset > _lastComittedOffset) && ((now - _lastCommitMs) > _kafkaconfig._stateUpdateIntervalMs)) {\n",
      "\t\t\tcommit();\n",
      "\t\t\tLOG.info(\"After commit , Waiting To Emit queue size is  \"\n",
      "\t\t\t\t\t+ _waitingToEmit.size());\n",
      "\t\t\t_lastCommitMs = System.currentTimeMillis();\n",
      "\t\t}\n",
      "\t}\n",
      "THREAD_SAFETY_VIOLATION\n",
      "THREAD_SAFETY_VIOLATION\n"
     ]
    },
    {
     "data": {
      "text/html": [
       "<h2>Example 20</h2>"
      ],
      "text/plain": [
       "<IPython.core.display.HTML object>"
      ]
     },
     "metadata": {},
     "output_type": "display_data"
    },
    {
     "name": "stdout",
     "output_type": "stream",
     "text": [
      "@Override\n",
      "  public void visitAssignmentExpression(AssignmentExpressionTree assignment) {\n",
      "    SyntaxToken lastToken = ((PHPTree) assignment.variable()).getLastToken();\n",
      "    String variableName = lastToken.text();\n",
      "    checkVariable(lastToken, variableName, assignment.value());\n",
      "    super.visitAssignmentExpression(assignment);\n",
      "  }\n",
      "NULL_DEREFERENCE\n",
      "NULL_DEREFERENCE\n"
     ]
    },
    {
     "data": {
      "text/html": [
       "<h2>Example 21</h2>"
      ],
      "text/plain": [
       "<IPython.core.display.HTML object>"
      ]
     },
     "metadata": {},
     "output_type": "display_data"
    },
    {
     "name": "stdout",
     "output_type": "stream",
     "text": [
      "@BeforeClass\n",
      "    public static void setupClass() throws Exception {\n",
      "        // MockContextFactory becomes the primary JNDI provider\n",
      "        final StatusConsoleListener l = new StatusConsoleListener(Level.ERROR);\n",
      "        StatusLogger.getLogger().registerListener(l);\n",
      "        MockContextFactory.setAsInitial();\n",
      "        context = new InitialContext();\n",
      "        context.rebind(FACTORY_NAME, new QueueConnectionFactoryImpl() );\n",
      "        context.rebind(QUEUE_NAME, new MockQueue(QUEUE_NAME));\n",
      "        ((LoggerContext) LogManager.getContext()).reconfigure();\n",
      "        receiver = new JmsQueueReceiver(FACTORY_NAME, QUEUE_NAME, null, null);\n",
      "    }\n",
      "RESOURCE_LEAK\n",
      "RESOURCE_LEAK\n"
     ]
    },
    {
     "data": {
      "text/html": [
       "<h2>Example 22</h2>"
      ],
      "text/plain": [
       "<IPython.core.display.HTML object>"
      ]
     },
     "metadata": {},
     "output_type": "display_data"
    },
    {
     "name": "stdout",
     "output_type": "stream",
     "text": [
      "public Object execute(Object ctx, Map tokens, TemplateRegistry registry) {\n",
      "\n",
      "        if (nodes == null) {\n",
      "            return new String(expression);\n",
      "        }\n",
      "        else if (nodes.length == 2) {\n",
      "            /**\n",
      "             * This is an optimization for property expressions.\n",
      "             */\n",
      "            switch (nodes[0].getToken()) {\n",
      "                case PROPERTY_EX:\n",
      "                    //noinspection unchecked\n",
      "                    if (CACHE_DISABLE || !cacheAggressively) {\n",
      "                        char[] seg = new char[expression.length - 3];\n",
      "                        //      arraycopy(expression, 2, seg, 0, seg.length);\n",
      "                        for (int i = 0; i < seg.length; i++)\n",
      "                            seg[i] = expression[i + 2];\n",
      "\n",
      "                        return MVEL.eval(seg, ctx, tokens);\n",
      "                    }\n",
      "                    else {\n",
      "                        String s = new String(expression, 2, expression.length - 3);\n",
      "                        if (!EX_PRECOMP_CACHE.containsKey(s)) {\n",
      "                            synchronized (EX_PRECOMP_CACHE) {\n",
      "                                EX_PRECOMP_CACHE.put(s, compileExpression(s));\n",
      "                                return executeExpression(EX_PRECOMP_CACHE.get(s), ctx, tokens);\n",
      "                            }\n",
      "                        }\n",
      "                        else {\n",
      "                            return executeExpression(EX_PRECOMP_CACHE.get(s), ctx, tokens);\n",
      "                        }\n",
      "\n",
      "                    }\n",
      "                case LITERAL:\n",
      "                    return new String(expression);\n",
      "\n",
      "            }\n",
      "\n",
      "            return new String(expression);\n",
      "        }\n",
      "\n",
      "        Object register = null;\n",
      "\n",
      "        StringAppender sbuf = new StringAppender(10);\n",
      "        Node currNode = null;\n",
      "\n",
      "        try {\n",
      "            //noinspection unchecked\n",
      "            MVELInterpretedRuntime oParser = new MVELInterpretedRuntime(ctx, tokens);\n",
      "\n",
      "            initStack();\n",
      "            pushAndForward();\n",
      "\n",
      "            while ((currNode = pop()) != null) {\n",
      "                node = currNode.getNode();\n",
      "\n",
      "                switch (currNode.getToken()) {\n",
      "                    case LITERAL: {\n",
      "                        sbuf.append(register = new String(expression, currNode.getStartPos(),\n",
      "                                currNode.getEndPos() - currNode.getStartPos()));\n",
      "                        break;\n",
      "                    }\n",
      "                    case PROPERTY_EX: {\n",
      "                        sbuf.append(\n",
      "                                valueOf(register = oParser.setExpressionArray(getInternalSegment(currNode)).parse())\n",
      "                        );\n",
      "                        break;\n",
      "                    }\n",
      "                    case IF:\n",
      "                    case ELSEIF: {\n",
      "                        try {\n",
      "                            if (!((Boolean) oParser.setExpressionArray(getInternalSegment(currNode)).parse())) {\n",
      "                                exitContext();\n",
      "                            }\n",
      "                        }\n",
      "                        catch (ClassCastException e) {\n",
      "                            throw new CompileException(\"IF expression does not return a boolean: \" + new String(getSegment(currNode)));\n",
      "                        }\n",
      "                        break;\n",
      "                    }\n",
      "                    case FOREACH: {\n",
      "\n",
      "                        if (tokens == null) {\n",
      "                            tokens = new HashMap();\n",
      "                        }\n",
      "\n",
      "                        ForeachContext foreachContext;\n",
      "\n",
      "                        if (!(localStack.peek() instanceof ForeachContext)) {\n",
      "                             foreachContext = ((ForeachContext) currNode.getRegister()).clone();\n",
      "\n",
      "                      //  if (foreachContext.getItererators() == null) {\n",
      "                            try {\n",
      "                                String[] lists = getForEachSegment(currNode).split(\",\");\n",
      "                                Iterator[] iters = new Iterator[lists.length];\n",
      "                                for (int i = 0; i < lists.length; i++) {\n",
      "                                    //noinspection unchecked\n",
      "                                    Object listObject = new MVELInterpretedRuntime(lists[i], ctx, tokens).parse();\n",
      "                                    if (listObject instanceof Object[]) {\n",
      "                                        listObject = Arrays.asList((Object[]) listObject);\n",
      "                                    }\n",
      "                                    iters[i] = ((Collection) listObject).iterator();\n",
      "                                }\n",
      "\n",
      "                                foreachContext.setIterators(iters);\n",
      "                                localStack.push(foreachContext);\n",
      "                            }\n",
      "                            catch (ClassCastException e) {\n",
      "                                throw new CompileException(\"expression for collections does not return a collections object: \" + new String(getSegment(currNode)));\n",
      "                            }\n",
      "                            catch (NullPointerException e) {\n",
      "                                throw new CompileException(\"null returned for foreach in expression: \" + (getForEachSegment(currNode)));\n",
      "                            }\n",
      "                        }\n",
      "\n",
      "                        foreachContext = (ForeachContext) localStack.peek();\n",
      "\n",
      "                        Iterator[] iters = foreachContext.getItererators();\n",
      "                        String[] alias = currNode.getAlias().split(\",\");\n",
      "                        // must trim vars\n",
      "                        for (int i = 0; i < alias.length; i++) {\n",
      "                            alias[i] = alias[i].trim();\n",
      "                        }\n",
      "\n",
      "                        if (iters[0].hasNext()) {\n",
      "                            push();\n",
      "\n",
      "                            //noinspection unchecked\n",
      "                            for (int i = 0; i < iters.length; i++) {\n",
      "\n",
      "                                //noinspection unchecked\n",
      "                                tokens.put(alias[i], iters[i].next());\n",
      "                            }\n",
      "                            if (foreachContext.getCount() != 0) {\n",
      "                                sbuf.append(foreachContext.getSeperator());\n",
      "                            }\n",
      "                            //noinspection unchecked\n",
      "                            tokens.put(\"i0\", foreachContext.getCount());\n",
      "                            foreachContext.setCount(foreachContext.getCount() + 1);\n",
      "                        }\n",
      "                        else {\n",
      "                            for (int i = 0; i < iters.length; i++) {\n",
      "                                tokens.remove(alias[i]);\n",
      "                            }\n",
      "                            foreachContext.setIterators(null);\n",
      "                            foreachContext.setCount(0);\n",
      "                            localStack.pop();\n",
      "                            exitContext();\n",
      "                        }\n",
      "                        break;\n",
      "                    }\n",
      "                    case ELSE:\n",
      "                    case END:\n",
      "                        if (stack.isEmpty()) forwardAndPush();\n",
      "                        continue;\n",
      "                    case GOTO:\n",
      "                        pushNode(currNode.getEndNode());\n",
      "                        continue;\n",
      "                    case TERMINUS: {\n",
      "                        if (nodes.length != 2) {\n",
      "                            return sbuf.toString();\n",
      "                        }\n",
      "                        else {\n",
      "                            return register;\n",
      "                        }\n",
      "                    }\n",
      "                    case INCLUDE_BY_REF: {\n",
      "                        IncludeRef includeRef = (IncludeRef) nodes[node].getRegister();\n",
      "\n",
      "                        IncludeRefParam[] params = includeRef.getParams();\n",
      "                        Map<String, Object> vars = new HashMap<String, Object>(params.length * 2);\n",
      "                        for (IncludeRefParam param : params) {\n",
      "                            vars.put(param.getIdentifier(), MVEL.eval(param.getValue(), ctx, tokens));\n",
      "                        }\n",
      "\n",
      "                        if (registry == null) {\n",
      "                            throw new CompileException(\"No TemplateRegistry specified, cannot load template='\" + includeRef.getName() + \"'\");\n",
      "                        }\n",
      "                        String template = registry.getTemplate(includeRef.getName());\n",
      "\n",
      "                        if (template == null) {\n",
      "                            throw new CompileException(\"Template does not exist in the TemplateRegistry, cannot load template='\" + includeRef.getName() + \"'\");\n",
      "                        }\n",
      "\n",
      "                        sbuf.append(TemplateInterpreter.parse(template, ctx, vars, registry));\n",
      "                    }\n",
      "                }\n",
      "\n",
      "                forwardAndPush();\n",
      "            }\n",
      "            throw new CompileException(\"expression did not end properly: expected TERMINUS node\");\n",
      "        }\n",
      "        catch (CompileException e) {\n",
      "            throw e;\n",
      "        }\n",
      "        catch (Exception e) {\n",
      "            if (currNode != null) {\n",
      "                throw new CompileException(\"problem encountered at node [\" + currNode.getNode() + \"] \"\n",
      "                        + currNode.getToken() + \"{\" + currNode.getStartPos() + \",\" + currNode.getEndPos() + \"}: \" + e.getMessage(), e);\n",
      "            }\n",
      "            throw new CompileException(\"unhandled fatal exception (node:\" + node + \")\", e);\n",
      "        }\n",
      "\n",
      "    }\n",
      "THREAD_SAFETY_VIOLATION\n",
      "THREAD_SAFETY_VIOLATION\n"
     ]
    },
    {
     "data": {
      "text/html": [
       "<h2>Example 23</h2>"
      ],
      "text/plain": [
       "<IPython.core.display.HTML object>"
      ]
     },
     "metadata": {},
     "output_type": "display_data"
    },
    {
     "name": "stdout",
     "output_type": "stream",
     "text": [
      "protected void manage(Architecture arch, String version) {\n",
      "        httpClient = new HttpClient(config());\n",
      "        try (HttpClient wdmHttpClient = httpClient) {\n",
      "            downloader = new Downloader(getDriverManagerType());\n",
      "            urlFilter = new UrlFilter();\n",
      "\n",
      "            boolean getLatest = isVersionLatest(version);\n",
      "            boolean cache = config().isForceCache();\n",
      "\n",
      "            if (getLatest) {\n",
      "                Optional<String> optionalBrowserVersion = config()\n",
      "                        .isAvoidAutoVersion() ? empty() : getBrowserVersion();\n",
      "                if (optionalBrowserVersion.isPresent()) {\n",
      "                    String browserVersion = optionalBrowserVersion.get();\n",
      "                    preferenceKey = getDriverManagerType().name().toLowerCase()\n",
      "                            + browserVersion;\n",
      "                    if (getLatest && !config.isOverride()\n",
      "                            && !config().isAvoidAutoVersion()\n",
      "                            && !config().isAvoidPreferences() && preferences\n",
      "                                    .checkKeyInPreferences(preferenceKey)) {\n",
      "                        version = preferences\n",
      "                                .getValueFromPreferences(preferenceKey);\n",
      "                    } else {\n",
      "                        version = getVersionForInstalledBrowser(\n",
      "                                getDriverManagerType());\n",
      "                    }\n",
      "                    getLatest = version.isEmpty();\n",
      "                }\n",
      "            }\n",
      "\n",
      "            // For Edge\n",
      "            if (checkInsiderVersion(version)) {\n",
      "                return;\n",
      "            }\n",
      "\n",
      "            String os = config().getOs();\n",
      "            log.trace(\"Managing {} arch={} version={} getLatest={} cache={}\",\n",
      "                    getDriverName(), arch, version, getLatest, cache);\n",
      "\n",
      "            if (getLatest && latestVersion != null) {\n",
      "                log.debug(\"Latest version of {} is {} (recently resolved)\",\n",
      "                        getDriverName(), latestVersion);\n",
      "                version = latestVersion;\n",
      "                cache = true;\n",
      "            }\n",
      "\n",
      "            Optional<String> driverInCache = handleCache(arch, version, os,\n",
      "                    getLatest, cache);\n",
      "\n",
      "            String versionStr = getLatest ? \"(latest version)\" : version;\n",
      "            if (driverInCache.isPresent() && !config().isOverride()) {\n",
      "                storeVersionToDownload(version);\n",
      "                downloadedVersion = version;\n",
      "                log.debug(\"Driver {} {} found in cache\", getDriverName(),\n",
      "                        versionStr);\n",
      "                exportDriver(driverInCache.get());\n",
      "            } else {\n",
      "                List<URL> candidateUrls = filterCandidateUrls(arch, version,\n",
      "                        getLatest);\n",
      "\n",
      "                if (candidateUrls.isEmpty()) {\n",
      "                    String errorMessage = getDriverName() + \" \" + versionStr\n",
      "                            + \" for \" + os + arch.toString() + \" not found in \"\n",
      "                            + getDriverUrl();\n",
      "                    log.error(errorMessage);\n",
      "                    throw new WebDriverManagerException(errorMessage);\n",
      "                }\n",
      "\n",
      "                downloadCandidateUrls(candidateUrls);\n",
      "            }\n",
      "\n",
      "        } catch (Exception e) {\n",
      "            handleException(e, arch, version);\n",
      "        }\n",
      "    }\n",
      "THREAD_SAFETY_VIOLATION\n",
      "THREAD_SAFETY_VIOLATION\n"
     ]
    },
    {
     "data": {
      "text/html": [
       "<h2>Example 24</h2>"
      ],
      "text/plain": [
       "<IPython.core.display.HTML object>"
      ]
     },
     "metadata": {},
     "output_type": "display_data"
    },
    {
     "name": "stdout",
     "output_type": "stream",
     "text": [
      "@Override\n",
      "    public List<IScanIssue> doActiveScan(IHttpRequestResponse baseRequestResponse, IScannerInsertionPoint insertionPoint) {\n",
      "    \t    \t\n",
      "    \tList<IScanIssue> issues = new ArrayList<IScanIssue>();\n",
      "    \tstdout.println(insertionPoint.getBaseValue());\n",
      "    \t// Full body insertion point\n",
      "    \tbyte[] request = baseRequestResponse.getRequest();\n",
      "    \tIRequestInfo requestInfo = helpers.analyzeRequest(request);\n",
      "    \tint bodyOffset = requestInfo.getBodyOffset();\n",
      "    \tint magicPos = helpers.indexOf(request, serializeMagic, false, 0, request.length);\n",
      "    \tint magicPosBase64 = helpers.indexOf(request, base64Magic, false, 0, request.length);\n",
      "    \tint magicPosAsciiHex = helpers.indexOf(request, asciiHexMagic, false, 0, request.length);\n",
      "        int magicPosBase64Gzip = helpers.indexOf(request, base64GzipMagic, false, 0, request.length);\n",
      "        int magicPosGzip = helpers.indexOf(request, gzipMagic, false, 0, request.length);\n",
      "    \t\n",
      "  //   \tif((magicPos > -1 && magicPos >= bodyOffset) || (magicPosBase64 > -1 && magicPosBase64 >= bodyOffset) || (magicPosAsciiHex > -1 && magicPosAsciiHex >= bodyOffset) || (magicPosBase64Gzip > -1 && magicPosBase64Gzip >= bodyOffset) || (magicPosGzip > -1 && magicPosGzip >= bodyOffset)) {\n",
      "    \t\t\n",
      "  //   \t\tList<String> headers = requestInfo.getHeaders();\n",
      "    \t\t\n",
      "  //   \t\tSet<String> payloadKeys = payloads.keySet();\n",
      "  //   \t\tIterator<String> iter = payloadKeys.iterator();\n",
      "  //   \t\tString currentKey;\n",
      "  //   \t\twhile (iter.hasNext()) {\n",
      "    \t\t\t\n",
      "  //   \t\t\tcurrentKey = iter.next();\n",
      "        \t\t\n",
      "  //       \t\tbyte[] newBody = null; \n",
      "  //       \t\tif(magicPos > -1)\t {\t\n",
      "  //       \t\t\t// Put directly the payload\n",
      "  //       \t\t\tnewBody = ArrayUtils.addAll(Arrays.copyOfRange(request, bodyOffset, magicPos),payloads.get(currentKey));     \t\t\t\n",
      "  //       \t\t} else if(magicPosBase64 > -1) {\n",
      "  //       \t\t\t// Encode the payload in Base64\n",
      "  //       \t\t\tnewBody = ArrayUtils.addAll(Arrays.copyOfRange(request, bodyOffset, magicPosBase64),Base64.encodeBase64URLSafe(payloads.get(currentKey)));\n",
      "  //       \t\t} else if(magicPosAsciiHex > -1) {\n",
      "  //       \t\t\t// Encode the payload in Ascii HEX\n",
      "  //       \t\t\tnewBody = ArrayUtils.addAll(Arrays.copyOfRange(request, bodyOffset, magicPosAsciiHex),Hex.encodeHexString(payloads.get(currentKey)).getBytes());\n",
      "  //       \t\t} else if(magicPosBase64Gzip > -1) {\n",
      "  //                   // Encode/compress the payload in Gzip and Base64\n",
      "  //                   newBody = ArrayUtils.addAll(Arrays.copyOfRange(request, bodyOffset, magicPosBase64Gzip),helpers.urlEncode(Base64.encodeBase64(gzipData(payloads.get(currentKey)))));\n",
      "  //               } else {\n",
      "  //                   // Encode/compress the payload with Gzip\n",
      "  //                   newBody = ArrayUtils.addAll(Arrays.copyOfRange(request, bodyOffset, magicPosGzip),gzipData(payloads.get(currentKey)));\n",
      "  //               }\n",
      "\n",
      "  //       \t\tbyte[] newRequest = helpers.buildHttpMessage(headers, newBody);\n",
      "        \t\t\n",
      "  //       \t\tlong startTime = System.nanoTime();\n",
      "  //       \t\tIHttpRequestResponse checkRequestResponse = callbacks.makeHttpRequest(baseRequestResponse.getHttpService(), newRequest);\n",
      "  //       \t\tlong endTime = System.nanoTime();\n",
      "  //       \t\tlong duration = (long)((((float)(endTime - startTime))) / 1000000000L);  //divide by 1000000 to get milliseconds.\n",
      "        \t\t\n",
      "  //       \t\tif(((int)duration) >= 10){\n",
      "        \t\t\t\n",
      "  //       \t\t\t// Vulnerability founded\n",
      "        \t\t\t\n",
      "  //       \t\t\tList<int[]> requestMarkers = new ArrayList<int[]>();\n",
      "        \t\t\t\n",
      "  //       \t    \tint markerStartPos = 0;\n",
      "  //       \t    \tString issueName = \"\";\n",
      "  //       \t    \tif(magicPos > -1) {\n",
      "  //       \t    \t\tmarkerStartPos = helpers.indexOf(newRequest, serializeMagic, false, 0, newRequest.length);\n",
      "  //       \t    \t\tissueName = activeScanIssue + currentKey;\n",
      "  //       \t\t\t} else if(magicPosBase64 > -1) {\n",
      "  //       \t\t\t\tmarkerStartPos = helpers.indexOf(newRequest, base64Magic, false, 0, newRequest.length);\n",
      "  //       \t\t\t\tissueName = activeScanIssue + currentKey + \" (encoded in Base64)\";\n",
      "  //       \t\t\t} else if (magicPosAsciiHex > -1) {\n",
      "  //       \t\t\t\tmarkerStartPos = helpers.indexOf(newRequest, asciiHexMagic, false, 0, newRequest.length);\n",
      "  //       \t\t\t\tissueName = activeScanIssue + currentKey + \" (encoded in Ascii HEX)\";\n",
      "  //       \t\t\t} else if (magicPosBase64Gzip > -1) {\n",
      "  //                       markerStartPos = helpers.indexOf(newRequest, base64GzipMagic, false, 0, newRequest.length);\n",
      "  //                       issueName = activeScanIssue + currentKey + \" (encoded in Base64 and Gzipped)\";\n",
      "  //                   } else {\n",
      "  //                       markerStartPos = helpers.indexOf(newRequest, gzipMagic, false, 0, newRequest.length);\n",
      "  //                       issueName = activeScanIssue + currentKey + \" (encoded/compressed with Gzip)\";\n",
      "  //                   }\n",
      "  //       \t    \trequestMarkers.add(new int[]{markerStartPos,newRequest.length});\n",
      "        \t    \t\n",
      "  //                   issues.add(new CustomScanIssue(\n",
      "  //                           baseRequestResponse.getHttpService(),\n",
      "  //                           helpers.analyzeRequest(baseRequestResponse).getUrl(), \n",
      "  //                           new IHttpRequestResponse[] { callbacks.applyMarkers(checkRequestResponse, requestMarkers, new ArrayList<int[]>()) }, \n",
      "  //                           issueName,\n",
      "  //                           activeScanSeverity,\n",
      "  //                           activeScanConfidence,\n",
      "  //                           activeScanIssueDetail + currentKey + \".\",\n",
      "  //                           activeScanRemediationDetail));\n",
      "\n",
      "  //       \t\t}\n",
      "        \t\t\n",
      "  //   \t\t}    \t\t\n",
      "    \t\t\n",
      "\t\t// }\n",
      "    \t    \t\n",
      "    \t// Current insertion point\n",
      "    \tbyte[] insertionPointBaseValue = insertionPoint.getBaseValue().getBytes();\n",
      "\t\tmagicPos = helpers.indexOf(insertionPointBaseValue, serializeMagic, false, 0, insertionPointBaseValue.length);\n",
      "\t\tmagicPosBase64 = helpers.indexOf(insertionPointBaseValue, base64Magic, false, 0, insertionPointBaseValue.length);\n",
      "\t\tmagicPosAsciiHex = helpers.indexOf(insertionPointBaseValue, asciiHexMagic, false, 0, insertionPointBaseValue.length);\n",
      "\t\tmagicPosBase64Gzip = helpers.indexOf(insertionPointBaseValue, base64GzipMagic, false, 0, insertionPointBaseValue.length);\n",
      "        magicPosGzip = helpers.indexOf(insertionPointBaseValue, gzipMagic, false, 0, insertionPointBaseValue.length);\n",
      "stdout.println(magicPosBase64Gzip);\n",
      "\t\tif(magicPos > -1 || magicPosBase64 > -1 || magicPosAsciiHex > -1 || magicPosBase64Gzip > -1 || magicPosGzip > -1) {\n",
      "            \n",
      "    \t\tSet<String> payloadKeys = payloads.keySet();\n",
      "    \t\tIterator<String> iter = payloadKeys.iterator();\n",
      "    \t\tString currentKey;\n",
      "    \t\twhile (iter.hasNext()) {\n",
      "    \t\t\tcurrentKey = iter.next();\n",
      "        \t\tbyte[] newPayload = null;\n",
      "        \t\t\n",
      "        \t\tif(magicPos > -1) {\n",
      "        \t\t\tnewPayload = ArrayUtils.addAll(Arrays.copyOfRange(insertionPointBaseValue, 0, magicPos),payloads.get(currentKey));\n",
      "        \t\t} else if(magicPosBase64 > -1) {\n",
      "        \t\t\tnewPayload = ArrayUtils.addAll(Arrays.copyOfRange(insertionPointBaseValue, 0, magicPosBase64),Base64.encodeBase64URLSafe(payloads.get(currentKey)));\n",
      "        \t\t} else if(magicPosAsciiHex > -1) {\n",
      "        \t\t\tnewPayload = ArrayUtils.addAll(Arrays.copyOfRange(insertionPointBaseValue, 0, magicPosAsciiHex),Hex.encodeHexString(payloads.get(currentKey)).getBytes());\n",
      "        \t\t} else if(magicPosBase64Gzip > -1) {\n",
      "                   newPayload = ArrayUtils.addAll(Arrays.copyOfRange(insertionPointBaseValue, 0, magicPosBase64Gzip),Base64.encodeBase64(gzipData(payloads.get(currentKey))));\n",
      "                } else {\n",
      "                    newPayload = ArrayUtils.addAll(Arrays.copyOfRange(insertionPointBaseValue, 0, magicPosGzip),gzipData(payloads.get(currentKey))); \n",
      "                }\n",
      "        \t\t\n",
      "        \t\tbyte[] newRequest = insertionPoint.buildRequest(newPayload);\n",
      "        \t\tlong startTime = System.nanoTime();\n",
      "        \t\tIHttpRequestResponse checkRequestResponse = callbacks.makeHttpRequest(baseRequestResponse.getHttpService(), newRequest);\n",
      "        \t\tlong endTime = System.nanoTime();\n",
      "        \t\t\n",
      "        \t\tlong duration = TimeUnit.SECONDS.convert((endTime - startTime), TimeUnit.NANOSECONDS);\n",
      "        \t\t        \t\t\n",
      "        \t\tif(((int)duration) >= 10){\n",
      "\n",
      "        \t\t\t// Vulnerability founded\n",
      "        \t\t\tstdout.println(new String(newRequest));\n",
      "                    //stdout.println(new String(helpers.urlEncode(Base64.encodeBase64(gzipData(payloads.get(currentKey))))));\n",
      "                    try {\n",
      "                        stdout.println(URLEncoder.encode(new String(Base64.encodeBase64(gzipData(payloads.get(currentKey)))), \"UTF-8\"));\n",
      "                    } catch (Exception ex) {\n",
      "                        stderr.println(ex.getMessage());\n",
      "                    }\n",
      "        \t\t\t// Adding of marker for the vulnerability report\n",
      "        \t\t\tList<int[]> requestMarkers = new ArrayList<int[]>();\n",
      "        \t\t\tint markerStart = 0;\n",
      "        \t\t\tint markerEnd = 0;\n",
      "        \t\t\tString issueName = \"\";\n",
      "        \t\t\t\n",
      "        \t\t\tif(magicPos > -1) {\n",
      "        \t\t\t\tmarkerStart =  helpers.indexOf(newRequest, helpers.urlEncode(payloads.get(currentKey)), false, 0, newRequest.length);\n",
      "        \t\t\t\tmarkerEnd = markerStart + helpers.urlEncode(payloads.get(currentKey)).length;\n",
      "        \t\t\t\tissueName = activeScanIssue + currentKey;\n",
      "        \t\t\t}else if(magicPosBase64 > -1) {\n",
      "        \t\t\t\tmarkerStart = helpers.indexOf(newRequest, Base64.encodeBase64URLSafe(payloads.get(currentKey)), false, 0, newRequest.length);\n",
      "        \t\t\t\tmarkerEnd = markerStart + helpers.urlEncode(Base64.encodeBase64URLSafe(payloads.get(currentKey))).length;\n",
      "        \t\t\t\tissueName = activeScanIssue + currentKey + \" (encoded in Base64)\";\n",
      "        \t\t\t} else if(magicPosAsciiHex > -1) {\n",
      "        \t\t\t\tmarkerStart = helpers.indexOf(newRequest, Hex.encodeHexString(payloads.get(currentKey)).getBytes(), false, 0, newRequest.length);\n",
      "        \t\t\t\tmarkerEnd = markerStart + helpers.urlEncode(Hex.encodeHexString(payloads.get(currentKey)).getBytes()).length;\n",
      "        \t\t\t\tissueName = activeScanIssue + currentKey + \" (encoded in Ascii HEX)\";\n",
      "        \t\t\t} else if(magicPosBase64Gzip > -1) {\n",
      "                        //Need to use more comprehensive URL encoding as / doesn't get encoded\n",
      "                        try {\n",
      "                            markerStart = helpers.indexOf(newRequest, URLEncoder.encode(new String(Base64.encodeBase64(gzipData(payloads.get(currentKey)))), \"UTF-8\").getBytes(), false, 0, newRequest.length);\n",
      "                            markerEnd = markerStart + URLEncoder.encode(new String(Base64.encodeBase64(gzipData(payloads.get(currentKey)))), \"UTF-8\").getBytes().length;\n",
      "                            issueName = activeScanIssue + currentKey + \" (encoded in Base64 and Gzipped)\";\n",
      "                        }\n",
      "                        catch (Exception ex) {\n",
      "                            stderr.println(ex.getMessage());\n",
      "                        }\n",
      "                    } else {\n",
      "                        markerStart = helpers.indexOf(newRequest, gzipData(payloads.get(currentKey)), false, 0, newRequest.length);\n",
      "                        markerEnd = markerStart + helpers.urlEncode(gzipData(payloads.get(currentKey))).length;\n",
      "                        issueName = activeScanIssue + currentKey + \" (encoded/compressed with Gzip)\";\n",
      "                    }    \t\t\t\n",
      "        \t\t\tstdout.println(markerStart + \" - \" + markerEnd);\n",
      "        \t\t\trequestMarkers.add(new int[]{markerStart,markerEnd});\n",
      "            \t\t\n",
      "                    issues.add(new CustomScanIssue(\n",
      "                            baseRequestResponse.getHttpService(),\n",
      "                            helpers.analyzeRequest(baseRequestResponse).getUrl(), \n",
      "                            new IHttpRequestResponse[] { callbacks.applyMarkers(checkRequestResponse, requestMarkers, new ArrayList<int[]>()) }, \n",
      "                            issueName,\n",
      "                            activeScanSeverity,\n",
      "                            activeScanConfidence,\n",
      "                            activeScanIssueDetail + currentKey + \".\",\n",
      "                            activeScanRemediationDetail));        \t\t        \t\t\t\n",
      "        \t\t}        \t\t\n",
      "    \t\t}\n",
      "    \t}\t\n",
      "    \t       \n",
      "        if(issues.size() > 0) {\n",
      "        \t//stdout.println(\"Reporting \" + issues.size() + \" active results\");\n",
      "        \treturn issues;\n",
      "        } else {\n",
      "        \treturn null;\n",
      "        }\n",
      "\n",
      "    }\n",
      "NULL_DEREFERENCE\n",
      "NULL_DEREFERENCE\n"
     ]
    },
    {
     "data": {
      "text/html": [
       "<h2>Example 25</h2>"
      ],
      "text/plain": [
       "<IPython.core.display.HTML object>"
      ]
     },
     "metadata": {},
     "output_type": "display_data"
    },
    {
     "name": "stdout",
     "output_type": "stream",
     "text": [
      "@Override\n",
      "  public void process(ClusterEvent event) throws Exception\n",
      "  {\n",
      "    ClusterDataCache cache = event.getAttribute(\"ClusterDataCache\");\n",
      "    Map<String, IdealState> idealStates = cache.getIdealStates();\n",
      "\n",
      "    Map<String, ResourceGroup> resourceGroupMap = new LinkedHashMap<String, ResourceGroup>();\n",
      "\n",
      "    if (idealStates != null && idealStates.size() > 0)\n",
      "    {\n",
      "      for (IdealState idealState : idealStates.values())\n",
      "      {\n",
      "      \tSet<String> resourceSet = idealState.getResourceKeySet();\n",
      "      \tString resourceGroupName = idealState.getResourceGroup();\n",
      "\n",
      "          for (String resourceKey : resourceSet)\n",
      "          {\n",
      "            addResource(resourceKey, resourceGroupName, resourceGroupMap);\n",
      "            ResourceGroup resourceGroup = resourceGroupMap\n",
      "                .get(resourceGroupName);\n",
      "            resourceGroup.setStateModelDefRef(idealState.getStateModelDefRef());\n",
      "          }\n",
      "\n",
      "      }\n",
      "    }\n",
      "    // It's important to get resourceKeys from CurrentState as well since the\n",
      "    // idealState might be removed.\n",
      "    Map<String, LiveInstance> availableInstances = cache.getLiveInstances();\n",
      "\n",
      "    if (availableInstances != null && availableInstances.size() > 0)\n",
      "    {\n",
      "      for (LiveInstance instance : availableInstances.values())\n",
      "      {\n",
      "        String instanceName = instance.getInstanceName();\n",
      "        String clientSessionId = instance.getSessionId();\n",
      "\n",
      "        Map<String, CurrentState> currentStateMap = cache.getCurrentState(instanceName, clientSessionId);\n",
      "        if (currentStateMap == null || currentStateMap.size() == 0)\n",
      "        {\n",
      "          continue;\n",
      "        }\n",
      "        for (CurrentState currentState : currentStateMap.values())\n",
      "        {\n",
      "          String resourceGroupName = currentState.getResourceGroupName();\n",
      "          Map<String, String> resourceStateMap = currentState.getResourceKeyStateMap();\n",
      "\n",
      "          for (String resourceKey : resourceStateMap.keySet())\n",
      "          {\n",
      "            addResource(resourceKey, resourceGroupName, resourceGroupMap);\n",
      "            ResourceGroup resourceGroup = resourceGroupMap\n",
      "                .get(resourceGroupName);\n",
      "            resourceGroup.setStateModelDefRef(currentState.getStateModelDefRef());\n",
      "          }\n",
      "        }\n",
      "      }\n",
      "    }\n",
      "    event.addAttribute(AttributeName.RESOURCE_GROUPS.toString(),\n",
      "        resourceGroupMap);\n",
      "  }\n",
      "NULL_DEREFERENCE\n",
      "NULL_DEREFERENCE\n"
     ]
    },
    {
     "data": {
      "text/html": [
       "<h2>Example 26</h2>"
      ],
      "text/plain": [
       "<IPython.core.display.HTML object>"
      ]
     },
     "metadata": {},
     "output_type": "display_data"
    },
    {
     "name": "stdout",
     "output_type": "stream",
     "text": [
      "public static void main(String ... args) throws InterruptedException, ExecutionException, TimeoutException {\n",
      "        RpcServer server = createServer();\n",
      "        server.start();\n",
      "\n",
      "        RpcClient client = createClient();\n",
      "\n",
      "        Request request = Request.newBuilder()\n",
      "                .withContentType(\"text/plain\")\n",
      "                .withBody(\"Johnny\".getBytes(Charset.forName(\"UTF-8\")))\n",
      "                .withCorrelationId(UUID.randomUUID().toString())\n",
      "                .build();\n",
      "\n",
      "        CompletableFuture<Response> future = client.call(request);\n",
      "\n",
      "        Response response = future.get(20, TimeUnit.SECONDS);\n",
      "        System.out.println(\"Responded -> \" + new String(response.getBody()));\n",
      "\n",
      "        client.shutdown();\n",
      "        server.shutdown();\n",
      "\n",
      "        System.exit(0);\n",
      "    }\n",
      "RESOURCE_LEAK\n",
      "RESOURCE_LEAK\n"
     ]
    },
    {
     "data": {
      "text/html": [
       "<h2>Example 27</h2>"
      ],
      "text/plain": [
       "<IPython.core.display.HTML object>"
      ]
     },
     "metadata": {},
     "output_type": "display_data"
    },
    {
     "name": "stdout",
     "output_type": "stream",
     "text": [
      "public Result<TokenInfo> getTokenInfo(String accessToken) {\n",
      "    List<NameValuePair> params = new ArrayList<NameValuePair>();\n",
      "    weibo.addParameter(params, \"access_token\", accessToken);\n",
      "    String result = weibo.post(\"https://api.weibo.com/oauth2/get_token_info\", params);\n",
      "    return Result.perse(result, TokenInfo.class);\n",
      "  }\n",
      "NULL_DEREFERENCE\n",
      "NULL_DEREFERENCE\n"
     ]
    },
    {
     "data": {
      "text/html": [
       "<h2>Example 28</h2>"
      ],
      "text/plain": [
       "<IPython.core.display.HTML object>"
      ]
     },
     "metadata": {},
     "output_type": "display_data"
    },
    {
     "name": "stdout",
     "output_type": "stream",
     "text": [
      "protected List<URL> getCandidateUrls(String driverVersion)\n",
      "            throws IOException {\n",
      "        List<URL> urls = getDrivers();\n",
      "        List<URL> candidateUrls;\n",
      "        log.trace(\"All URLs: {}\", urls);\n",
      "        boolean getLatest = isUnknown(driverVersion);\n",
      "        Architecture arch = config().getArchitecture();\n",
      "        boolean continueSearchingVersion;\n",
      "\n",
      "        do {\n",
      "            // Get the latest or concrete version\n",
      "            String shortDriverName = getShortDriverName();\n",
      "            candidateUrls = getLatest ? checkLatest(urls, shortDriverName)\n",
      "                    : getVersion(urls, shortDriverName, driverVersion);\n",
      "            log.trace(\"Candidate URLs: {}\", candidateUrls);\n",
      "            if (versionToDownload == null) {\n",
      "                break;\n",
      "            }\n",
      "\n",
      "            // Filter by OS\n",
      "            if (!getDriverName().equalsIgnoreCase(\"IEDriverServer\")\n",
      "                    && !getDriverName()\n",
      "                            .equalsIgnoreCase(\"selenium-server-standalone\")) {\n",
      "                candidateUrls = urlFilter.filterByOs(candidateUrls,\n",
      "                        config().getOs());\n",
      "            }\n",
      "\n",
      "            // Filter by architecture\n",
      "            candidateUrls = urlFilter.filterByArch(candidateUrls, arch,\n",
      "                    forcedArch);\n",
      "\n",
      "            // Filter by distro\n",
      "            candidateUrls = filterByDistro(candidateUrls);\n",
      "\n",
      "            // Filter by ignored versions\n",
      "            candidateUrls = filterByIgnoredVersions(candidateUrls);\n",
      "\n",
      "            // Filter by beta\n",
      "            candidateUrls = urlFilter.filterByBeta(candidateUrls,\n",
      "                    config().isUseBetaVersions());\n",
      "\n",
      "            // Find out if driver version has been found or not\n",
      "            continueSearchingVersion = candidateUrls.isEmpty() && getLatest;\n",
      "            if (continueSearchingVersion) {\n",
      "                log.info(\n",
      "                        \"No proper driver found for {} {} ... seeking another version\",\n",
      "                        getDriverName(), versionToDownload);\n",
      "                urls = removeFromList(urls, versionToDownload);\n",
      "                versionToDownload = null;\n",
      "            }\n",
      "        } while (continueSearchingVersion);\n",
      "        return candidateUrls;\n",
      "    }\n",
      "THREAD_SAFETY_VIOLATION\n",
      "THREAD_SAFETY_VIOLATION\n"
     ]
    },
    {
     "data": {
      "text/html": [
       "<h2>Example 29</h2>"
      ],
      "text/plain": [
       "<IPython.core.display.HTML object>"
      ]
     },
     "metadata": {},
     "output_type": "display_data"
    },
    {
     "name": "stdout",
     "output_type": "stream",
     "text": [
      "OriginateResult originate(final EndPoint local, final EndPoint target, final HashMap<String, String> myVars,\n",
      "            final CallerID callerID, final Integer timeout, final boolean hideCallerId, final String context)\n",
      "    {\n",
      "        OriginateBaseClass.logger.debug(\"originate called\");\n",
      "        this.originateSeen = false;\n",
      "        this.channelSeen = false;\n",
      "\n",
      "        if (this.hungup == true)\n",
      "        {\n",
      "            // the monitored channel already hungup so just return false and\n",
      "            // shutdown\n",
      "            return null;\n",
      "        }\n",
      "\n",
      "        OriginateBaseClass.logger.debug(\"originate connection endPoint \\n\" + local + \" to endPoint \" + target //$NON-NLS-2$\n",
      "                + \" vars \" + myVars);\n",
      "        ManagerResponse response = null;\n",
      "\n",
      "        final AsteriskSettings settings = PBXFactory.getActiveProfile();\n",
      "\n",
      "        final OriginateAction originate = new OriginateAction();\n",
      "        this.originateID = originate.getActionId();\n",
      "\n",
      "        channelId = \"\" + (System.currentTimeMillis() / 1000) + \".AJ\" + originateSeed.incrementAndGet();\n",
      "        originate.setChannelId(channelId);\n",
      "\n",
      "        Integer localTimeout = timeout;\n",
      "\n",
      "        if (timeout == null)\n",
      "        {\n",
      "            localTimeout = 30000;\n",
      "            try\n",
      "            {\n",
      "                localTimeout = settings.getDialTimeout() * 1000;\n",
      "            }\n",
      "            catch (final Exception e)\n",
      "            {\n",
      "                OriginateBaseClass.logger.error(\"Invalid dial timeout value\");\n",
      "            }\n",
      "        }\n",
      "\n",
      "        // Whilst the originate document says that it takes a channel it\n",
      "        // actually takes an\n",
      "        // end point. I haven't check but I'm skeptical that you can actually\n",
      "        // originate to\n",
      "        // a channel as the doco talks about 'dialing the channel'. I suspect\n",
      "        // this\n",
      "        // may be part of asterisk's sloppy terminology.\n",
      "        if (local.isLocal())\n",
      "        {\n",
      "            originate.setEndPoint(local);\n",
      "            originate.setOption(\"/n\");\n",
      "        }\n",
      "        else\n",
      "        {\n",
      "            originate.setEndPoint(local);\n",
      "        }\n",
      "\n",
      "        originate.setContext(context);\n",
      "        originate.setExten(target);\n",
      "        originate.setPriority(1);\n",
      "\n",
      "        // Set the caller id.\n",
      "        if (hideCallerId)\n",
      "        {\n",
      "            // hide callerID\n",
      "            originate.setCallingPres(32);\n",
      "        }\n",
      "        else\n",
      "        {\n",
      "            originate.setCallerId(callerID);\n",
      "        }\n",
      "\n",
      "        originate.setVariables(myVars);\n",
      "        originate.setAsync(true);\n",
      "        originate.setTimeout(localTimeout);\n",
      "\n",
      "        try\n",
      "        {\n",
      "            // Just add us as an asterisk event listener.\n",
      "            this.startListener();\n",
      "\n",
      "            response = pbx.sendAction(originate, localTimeout);\n",
      "            OriginateBaseClass.logger.debug(\"Originate.sendAction completed\");\n",
      "            if (response.getResponse().compareToIgnoreCase(\"Success\") != 0)\n",
      "            {\n",
      "                OriginateBaseClass.logger\n",
      "                        .error(\"Error Originating call\" + originate.toString() + \" : \" + response.getMessage());//$NON-NLS-2$\n",
      "                throw new ManagerCommunicationException(response.getMessage(), null);\n",
      "            }\n",
      "\n",
      "            // wait the set timeout +1 second to allow for\n",
      "            // asterisk to start the originate\n",
      "            originateLatch.await(localTimeout + 1000, TimeUnit.MILLISECONDS);\n",
      "        }\n",
      "        catch (final InterruptedException e)\n",
      "        {\n",
      "            OriginateBaseClass.logger.debug(e, e);\n",
      "        }\n",
      "        catch (final Exception e)\n",
      "        {\n",
      "            OriginateBaseClass.logger.error(e, e);\n",
      "        }\n",
      "        finally\n",
      "        {\n",
      "            this.close();\n",
      "        }\n",
      "\n",
      "        if (this.originateSuccess == true)\n",
      "        {\n",
      "            this.result.setSuccess(true);\n",
      "            this.result.setChannelData(this.newChannel);\n",
      "            OriginateBaseClass.logger.debug(\"new channel ok: \" + this.newChannel);\n",
      "        }\n",
      "        else\n",
      "        {\n",
      "            OriginateBaseClass.logger.warn(\"originate failed to connect endPoint: \" + local + \" to ext \" + target); //$NON-NLS-2$\n",
      "\n",
      "            if (this.newChannel != null)\n",
      "            {\n",
      "                try\n",
      "                {\n",
      "                    logger.info(\"Hanging up\");\n",
      "                    pbx.hangup(this.newChannel);\n",
      "                }\n",
      "                catch (IllegalArgumentException | IllegalStateException | PBXException e)\n",
      "                {\n",
      "                    logger.error(e, e);\n",
      "\n",
      "                }\n",
      "            }\n",
      "        }\n",
      "        return this.result;\n",
      "    }\n",
      "THREAD_SAFETY_VIOLATION\n",
      "THREAD_SAFETY_VIOLATION\n"
     ]
    },
    {
     "data": {
      "text/html": [
       "<h2>Example 30</h2>"
      ],
      "text/plain": [
       "<IPython.core.display.HTML object>"
      ]
     },
     "metadata": {},
     "output_type": "display_data"
    },
    {
     "name": "stdout",
     "output_type": "stream",
     "text": [
      "public String getBeanId() {\n",
      "\t\tClass<?> factoryClass = objectFactory(destObjClass).getClass();\n",
      "\t\tClass<?> destClass = null;\n",
      "\t\tString methodName = \"create\" + destObjClass.substring(destObjClass.lastIndexOf(\".\") + 1) + StringUtils.capitalize(destFieldName);\n",
      "\n",
      "\t\ttry {\n",
      "\t\t\tMethod method = ReflectionUtils.findAMethod(factoryClass, methodName);\n",
      "\t\t\tClass<?>[] parameterTypes = method.getParameterTypes();\n",
      "\t\t\tfor (Class<?> parameterClass : parameterTypes) {\n",
      "\t\t\t\tdestClass = parameterClass;\n",
      "\t\t\t\tbreak;\n",
      "\t\t\t}\n",
      "\t\t} catch (NoSuchMethodException e) {\n",
      "\t\t\tMappingUtils.throwMappingException(e);\n",
      "\t\t}\n",
      "\n",
      "\t\treturn destClass.getCanonicalName();\n",
      "\t}\n",
      "NULL_DEREFERENCE\n",
      "NULL_DEREFERENCE\n"
     ]
    },
    {
     "data": {
      "text/html": [
       "<h2>Example 31</h2>"
      ],
      "text/plain": [
       "<IPython.core.display.HTML object>"
      ]
     },
     "metadata": {},
     "output_type": "display_data"
    },
    {
     "name": "stdout",
     "output_type": "stream",
     "text": [
      "@Test\n",
      "  public void test2() throws JMException {\n",
      "    double epsilon = 0.000000000000001;\n",
      "    Settings GDE3Settings = new GDE3_Settings(\"Fonseca\");\n",
      "    Algorithm algorithm = GDE3Settings.configure(configuration_);\n",
      "    //Problem problem = new Fonseca(\"Real\");\n",
      "\n",
      "    DifferentialEvolutionCrossover crossover = (DifferentialEvolutionCrossover)algorithm.getOperator(\"crossover\") ;\n",
      "    double CR = (Double)crossover.getParameter(\"CR\") ;\n",
      "    double F = (Double)crossover.getParameter(\"F\") ;\n",
      "\n",
      "    Assert.assertEquals(\"GDE3_SettingsTest\", 100, ((Integer)algorithm.getInputParameter(\"populationSize\")).intValue());\n",
      "    Assert.assertEquals(\"GDE3_SettingsTest\", 250, ((Integer)algorithm.getInputParameter(\"maxIterations\")).intValue());\n",
      "\n",
      "    Assert.assertEquals(\"GDE3_SettingsTest\", 0.5, CR, epsilon);\n",
      "    Assert.assertEquals(\"GDE3_SettingsTest\", 0.5, F, epsilon);\n",
      "  }\n",
      "NULL_DEREFERENCE\n",
      "NULL_DEREFERENCE\n"
     ]
    },
    {
     "data": {
      "text/html": [
       "<h2>Example 32</h2>"
      ],
      "text/plain": [
       "<IPython.core.display.HTML object>"
      ]
     },
     "metadata": {},
     "output_type": "display_data"
    },
    {
     "name": "stdout",
     "output_type": "stream",
     "text": [
      "public <T> MappingIterator<T> readValues(byte[] src, int offset, int length)\n",
      "        throws IOException, JsonProcessingException\n",
      "    {\n",
      "        if (_dataFormatReaders != null) {\n",
      "            return _detectBindAndReadValues(_dataFormatReaders.findFormat(src, offset, length), false);\n",
      "        }\n",
      "        return _bindAndReadValues(considerFilter(_parserFactory.createParser(src)));\n",
      "    }\n",
      "RESOURCE_LEAK\n",
      "RESOURCE_LEAK\n"
     ]
    },
    {
     "data": {
      "text/html": [
       "<h2>Example 33</h2>"
      ],
      "text/plain": [
       "<IPython.core.display.HTML object>"
      ]
     },
     "metadata": {},
     "output_type": "display_data"
    },
    {
     "name": "stdout",
     "output_type": "stream",
     "text": [
      "@Override\n",
      "    @SuppressWarnings(\"unchecked\")\n",
      "    public boolean retainAll(Collection<?> c) {\n",
      "        this.clear();\n",
      "        Iterator<? extends Model> iterator = (Iterator<? extends Model>) c\n",
      "                .iterator();\n",
      "        boolean success = true;\n",
      "        while (iterator.hasNext()) {\n",
      "            T element = (T) iterator.next();\n",
      "            success &= internalAdd(element, false);\n",
      "        }\n",
      "        refreshStorage(true);\n",
      "        return success;\n",
      "    }\n",
      "THREAD_SAFETY_VIOLATION\n",
      "THREAD_SAFETY_VIOLATION\n"
     ]
    },
    {
     "data": {
      "text/html": [
       "<h2>Example 34</h2>"
      ],
      "text/plain": [
       "<IPython.core.display.HTML object>"
      ]
     },
     "metadata": {},
     "output_type": "display_data"
    },
    {
     "name": "stdout",
     "output_type": "stream",
     "text": [
      "public void testCodingBeyondContentLimitFile() throws Exception {\n",
      "        ReadableByteChannel channel = new ReadableByteChannelMockup(\n",
      "                new String[] {\n",
      "                        \"stuff;\", \n",
      "                        \"more stuff; and a lot more stuff\"}, \"US-ASCII\"); \n",
      "        HttpParams params = new BasicHttpParams();\n",
      "        \n",
      "        SessionInputBuffer inbuf = new SessionInputBufferImpl(1024, 256, params); \n",
      "        HttpTransportMetricsImpl metrics = new HttpTransportMetricsImpl();\n",
      "        LengthDelimitedDecoder decoder = new LengthDelimitedDecoder(\n",
      "                channel, inbuf, metrics, 16); \n",
      "        \n",
      "        File fileHandle = File.createTempFile(\"testFile\", \".txt\");\n",
      "        RandomAccessFile testfile  = new RandomAccessFile(fileHandle, \"rw\");\n",
      "        FileChannel fchannel = testfile.getChannel();\n",
      "        \n",
      "        long bytesRead = decoder.transfer(fchannel, 0, 6);\n",
      "        assertEquals(6, bytesRead);\n",
      "        assertFalse(decoder.isCompleted());\n",
      "        \n",
      "        bytesRead = decoder.transfer(fchannel,0 , 10);\n",
      "        assertEquals(10, bytesRead);\n",
      "        assertTrue(decoder.isCompleted());\n",
      "        \n",
      "        bytesRead = decoder.transfer(fchannel, 0, 1);\n",
      "        assertEquals(-1, bytesRead);\n",
      "        assertTrue(decoder.isCompleted());\n",
      "        \n",
      "        fileHandle.delete();\n",
      "    }\n",
      "RESOURCE_LEAK\n",
      "RESOURCE_LEAK\n"
     ]
    },
    {
     "data": {
      "text/html": [
       "<h2>Example 35</h2>"
      ],
      "text/plain": [
       "<IPython.core.display.HTML object>"
      ]
     },
     "metadata": {},
     "output_type": "display_data"
    },
    {
     "name": "stdout",
     "output_type": "stream",
     "text": [
      "@Test\n",
      "\tpublic void write_example2() throws Throwable {\n",
      "\t\t//see: RFC 6321 p.51\n",
      "\t\tVTimezone usEasternTz;\n",
      "\t\tICalendar ical = new ICalendar();\n",
      "\t\tical.getProperties().clear();\n",
      "\t\tical.setProductId(\"-//Example Inc.//Example Client//EN\");\n",
      "\t\tical.setVersion(Version.v2_0());\n",
      "\t\t{\n",
      "\t\t\tusEasternTz = new VTimezone(null);\n",
      "\t\t\tusEasternTz.setLastModified(utcFormatter.parse(\"2004-01-10T03:28:45\"));\n",
      "\t\t\tusEasternTz.setTimezoneId(\"US/Eastern\");\n",
      "\t\t\t{\n",
      "\t\t\t\tDaylightSavingsTime daylight = new DaylightSavingsTime();\n",
      "\t\t\t\tdaylight.setDateStart(localFormatter.parse(\"2000-04-04T02:00:00\")).setLocalTime(true);\n",
      "\n",
      "\t\t\t\tRecurrenceRule rrule = new RecurrenceRule(Frequency.YEARLY);\n",
      "\t\t\t\trrule.addByDay(1, DayOfWeek.SUNDAY);\n",
      "\t\t\t\trrule.addByMonth(4);\n",
      "\t\t\t\tdaylight.setRecurrenceRule(rrule);\n",
      "\n",
      "\t\t\t\tdaylight.addTimezoneName(\"EDT\");\n",
      "\t\t\t\tdaylight.setTimezoneOffsetFrom(-5, 0);\n",
      "\t\t\t\tdaylight.setTimezoneOffsetTo(-4, 0);\n",
      "\n",
      "\t\t\t\tusEasternTz.addDaylightSavingsTime(daylight);\n",
      "\t\t\t}\n",
      "\t\t\t{\n",
      "\t\t\t\tStandardTime standard = new StandardTime();\n",
      "\t\t\t\tstandard.setDateStart(localFormatter.parse(\"2000-10-26T02:00:00\")).setLocalTime(true);\n",
      "\n",
      "\t\t\t\tRecurrenceRule rrule = new RecurrenceRule(Frequency.YEARLY);\n",
      "\t\t\t\trrule.addByDay(-1, DayOfWeek.SUNDAY);\n",
      "\t\t\t\trrule.addByMonth(10);\n",
      "\t\t\t\tstandard.setRecurrenceRule(rrule);\n",
      "\n",
      "\t\t\t\tstandard.addTimezoneName(\"EST\");\n",
      "\t\t\t\tstandard.setTimezoneOffsetFrom(-4, 0);\n",
      "\t\t\t\tstandard.setTimezoneOffsetTo(-5, 0);\n",
      "\n",
      "\t\t\t\tusEasternTz.addStandardTime(standard);\n",
      "\t\t\t}\n",
      "\t\t\tical.addTimezone(usEasternTz);\n",
      "\t\t}\n",
      "\t\t{\n",
      "\t\t\tVEvent event = new VEvent();\n",
      "\t\t\tevent.setDateTimeStamp(utcFormatter.parse(\"2006-02-06T00:11:21\"));\n",
      "\t\t\tevent.setDateStart(usEasternFormatter.parse(\"2006-01-02T12:00:00\")).setTimezone(usEasternTz);\n",
      "\t\t\tevent.setDuration(new Duration.Builder().hours(1).build());\n",
      "\n",
      "\t\t\tRecurrenceRule rrule = new RecurrenceRule(Frequency.DAILY);\n",
      "\t\t\trrule.setCount(5);\n",
      "\t\t\tevent.setRecurrenceRule(rrule);\n",
      "\n",
      "\t\t\tRecurrenceDates rdate = new RecurrenceDates(Arrays.asList(new Period(usEasternFormatter.parse(\"2006-01-02T15:00:00\"), new Duration.Builder().hours(2).build())));\n",
      "\t\t\trdate.setTimezone(usEasternTz);\n",
      "\t\t\tevent.addRecurrenceDates(rdate);\n",
      "\n",
      "\t\t\tevent.setSummary(\"Event #2\");\n",
      "\t\t\tevent.setDescription(\"We are having a meeting all this week at 12pm for one hour, with an additional meeting on the first day 2 hours long.\\nPlease bring your own lunch for the 12 pm meetings.\");\n",
      "\t\t\tevent.setUid(\"00959BC664CA650E933C892C@example.com\");\n",
      "\t\t\tical.addEvent(event);\n",
      "\t\t}\n",
      "\t\t{\n",
      "\t\t\tVEvent event = new VEvent();\n",
      "\t\t\tevent.setDateTimeStamp(utcFormatter.parse(\"2006-02-06T00:11:21\"));\n",
      "\t\t\tevent.setDateStart(usEasternFormatter.parse(\"2006-01-04T14:00:00\")).setTimezone(usEasternTz);\n",
      "\t\t\tevent.setDuration(new Duration.Builder().hours(1).build());\n",
      "\n",
      "\t\t\tevent.setRecurrenceId(usEasternFormatter.parse(\"2006-01-04T12:00:00\")).setTimezone(usEasternTz);\n",
      "\n",
      "\t\t\tevent.setSummary(\"Event #2 bis\");\n",
      "\t\t\tevent.setUid(\"00959BC664CA650E933C892C@example.com\");\n",
      "\t\t\tical.addEvent(event);\n",
      "\t\t}\n",
      "\n",
      "\t\tassertWarnings(0, ical.validate());\n",
      "\t\tassertExample(ical, \"rfc6321-example2.xml\");\n",
      "\t}\n",
      "NULL_DEREFERENCE\n",
      "NULL_DEREFERENCE\n"
     ]
    },
    {
     "data": {
      "text/html": [
       "<h2>Example 36</h2>"
      ],
      "text/plain": [
       "<IPython.core.display.HTML object>"
      ]
     },
     "metadata": {},
     "output_type": "display_data"
    },
    {
     "name": "stdout",
     "output_type": "stream",
     "text": [
      "protected void reset() {\n",
      "        config().reset();\n",
      "        mirrorLog = false;\n",
      "        versionToDownload = null;\n",
      "        forcedArch = false;\n",
      "        forcedOs = false;\n",
      "        retryCount = 0;\n",
      "        isSnap = false;\n",
      "    }\n",
      "THREAD_SAFETY_VIOLATION\n",
      "THREAD_SAFETY_VIOLATION\n"
     ]
    },
    {
     "data": {
      "text/html": [
       "<h2>Example 37</h2>"
      ],
      "text/plain": [
       "<IPython.core.display.HTML object>"
      ]
     },
     "metadata": {},
     "output_type": "display_data"
    },
    {
     "name": "stdout",
     "output_type": "stream",
     "text": [
      "private List<String> readContractList() {\n",
      "        return ResourceLoader\n",
      "            .getBufferedReader(getClass(), SLA_CONTRACTS_LIST)\n",
      "            .lines()\n",
      "            .filter(l -> !l.startsWith(\"#\"))\n",
      "            .filter(l -> !l.trim().isEmpty())\n",
      "            .collect(toList());\n",
      "    }\n",
      "RESOURCE_LEAK\n",
      "RESOURCE_LEAK\n"
     ]
    },
    {
     "data": {
      "text/html": [
       "<h2>Example 38</h2>"
      ],
      "text/plain": [
       "<IPython.core.display.HTML object>"
      ]
     },
     "metadata": {},
     "output_type": "display_data"
    },
    {
     "name": "stdout",
     "output_type": "stream",
     "text": [
      "@Override\n",
      "    public BranchStatus branchRollback(BranchType branchType, String xid, long branchId, String resourceId,\n",
      "                                       String applicationData) throws TransactionException {\n",
      "        try {\n",
      "            BranchRollbackRequest request = new BranchRollbackRequest();\n",
      "            request.setXid(xid);\n",
      "            request.setBranchId(branchId);\n",
      "            request.setResourceId(resourceId);\n",
      "            request.setApplicationData(applicationData);\n",
      "            request.setBranchType(branchType);\n",
      "\n",
      "            GlobalSession globalSession = SessionHolder.findGlobalSession(xid);\n",
      "            if (globalSession == null) {\n",
      "                return BranchStatus.PhaseTwo_Rollbacked;\n",
      "            }\n",
      "\n",
      "            if (BranchType.SAGA.equals(branchType)) {\n",
      "\n",
      "                Map<String, Channel> channels = ChannelManager.getRmChannels();\n",
      "                if (channels == null || channels.size() == 0) {\n",
      "                    LOGGER.error(\n",
      "                        \"Failed to rollback SAGA global[\" + globalSession.getXid() + \", RM channels is empty.\");\n",
      "                    return BranchStatus.PhaseTwo_RollbackFailed_Retryable;\n",
      "                }\n",
      "                String sagaResourceId = globalSession.getApplicationId() + \"#\" + globalSession\n",
      "                    .getTransactionServiceGroup();\n",
      "                Channel sagaChannel = channels.get(sagaResourceId);\n",
      "                if (sagaChannel == null) {\n",
      "                    LOGGER.error(\"Failed to rollback SAGA global[\" + globalSession.getXid()\n",
      "                        + \", cannot find channel by resourceId[\" + sagaResourceId + \"]\");\n",
      "                    return BranchStatus.PhaseTwo_RollbackFailed_Retryable;\n",
      "                }\n",
      "                BranchRollbackResponse response = (BranchRollbackResponse)messageSender.sendSyncRequest(sagaChannel,\n",
      "                    request);\n",
      "                return response.getBranchStatus();\n",
      "            } else {\n",
      "\n",
      "                BranchSession branchSession = globalSession.getBranch(branchId);\n",
      "\n",
      "                BranchRollbackResponse response = (BranchRollbackResponse)messageSender.sendSyncRequest(resourceId,\n",
      "                    branchSession.getClientId(), request);\n",
      "                return response.getBranchStatus();\n",
      "            }\n",
      "\n",
      "        } catch (IOException | TimeoutException e) {\n",
      "            throw new BranchTransactionException(FailedToSendBranchRollbackRequest,\n",
      "                String.format(\"Send branch rollback failed, xid = %s branchId = %s\", xid, branchId), e);\n",
      "        }\n",
      "    }\n",
      "NULL_DEREFERENCE\n",
      "NULL_DEREFERENCE\n"
     ]
    },
    {
     "data": {
      "text/html": [
       "<h2>Example 39</h2>"
      ],
      "text/plain": [
       "<IPython.core.display.HTML object>"
      ]
     },
     "metadata": {},
     "output_type": "display_data"
    },
    {
     "name": "stdout",
     "output_type": "stream",
     "text": [
      "@Test\n",
      "    public void determinesItemCSourceSetter() {\n",
      "        Target target = new Target();\n",
      "\n",
      "        target.setItemC( new ItemC() );\n",
      "\n",
      "        SourceWithItemC source = new SourceWithItemC();\n",
      "        GenericsHierarchyMapper.INSTANCE.intoSourceWithItemC( target, source );\n",
      "\n",
      "        assertThat( source.getItem().typeParameterIsResolvedToItemC() ).isTrue();\n",
      "    }\n",
      "NULL_DEREFERENCE\n",
      "NULL_DEREFERENCE\n"
     ]
    },
    {
     "data": {
      "text/html": [
       "<h2>Example 40</h2>"
      ],
      "text/plain": [
       "<IPython.core.display.HTML object>"
      ]
     },
     "metadata": {},
     "output_type": "display_data"
    },
    {
     "name": "stdout",
     "output_type": "stream",
     "text": [
      "public void testReadLookahead2() throws Exception {\n",
      "        char[] ref = new char[5];\n",
      "        char[] res = new char[5];\n",
      "\n",
      "        ExtendedBufferedReader br = getEBR(\"\");\n",
      "        assertEquals(0, br.read(res, 0, 0));\n",
      "        assertTrue(Arrays.equals(res, ref));\n",
      "\n",
      "        br = getEBR(\"abcdefg\");\n",
      "        ref[0] = 'a';\n",
      "        ref[1] = 'b';\n",
      "        ref[2] = 'c';\n",
      "        assertEquals(3, br.read(res, 0, 3));\n",
      "        assertTrue(Arrays.equals(res, ref));\n",
      "        assertEquals('c', br.readAgain());\n",
      "\n",
      "        assertEquals('d', br.lookAhead());\n",
      "        ref[4] = 'd';\n",
      "        assertEquals(1, br.read(res, 4, 1));\n",
      "        assertTrue(Arrays.equals(res, ref));\n",
      "        assertEquals('d', br.readAgain());\n",
      "\n",
      "    }\n",
      "RESOURCE_LEAK\n",
      "RESOURCE_LEAK\n"
     ]
    },
    {
     "data": {
      "text/html": [
       "<h2>Example 41</h2>"
      ],
      "text/plain": [
       "<IPython.core.display.HTML object>"
      ]
     },
     "metadata": {},
     "output_type": "display_data"
    },
    {
     "name": "stdout",
     "output_type": "stream",
     "text": [
      "@Before\n",
      "    public void setUp() throws Exception {\n",
      "        String content = File2String.read(\"init.xml\");\n",
      "        handler = new InitMsgXmlHandler(content);\n",
      "    }\n",
      "NULL_DEREFERENCE\n",
      "NULL_DEREFERENCE\n"
     ]
    },
    {
     "data": {
      "text/html": [
       "<h2>Example 42</h2>"
      ],
      "text/plain": [
       "<IPython.core.display.HTML object>"
      ]
     },
     "metadata": {},
     "output_type": "display_data"
    },
    {
     "name": "stdout",
     "output_type": "stream",
     "text": [
      "@Override\n",
      "    public void doFilter(final Logbook logbook, final HttpServletRequest httpRequest,\n",
      "            final HttpServletResponse httpResponse, final FilterChain chain) throws ServletException, IOException {\n",
      "\n",
      "        final TeeRequest request = new TeeRequest(httpRequest);\n",
      "        final TeeResponse response = new TeeResponse(httpResponse);\n",
      "\n",
      "        chain.doFilter(request, response);\n",
      "\n",
      "        if (isUnauthorized(response)) {\n",
      "            final Optional<Correlator> correlator;\n",
      "\n",
      "            if (isFirstRequest(request)) {\n",
      "                correlator = logbook.write(new UnauthorizedRawHttpRequest(request));\n",
      "            } else {\n",
      "                correlator = readCorrelator(request);\n",
      "            }\n",
      "\n",
      "            if (correlator.isPresent()) {\n",
      "                correlator.get().write(response);\n",
      "            }\n",
      "        }\n",
      "    }\n",
      "RESOURCE_LEAK\n",
      "RESOURCE_LEAK\n"
     ]
    },
    {
     "data": {
      "text/html": [
       "<h2>Example 43</h2>"
      ],
      "text/plain": [
       "<IPython.core.display.HTML object>"
      ]
     },
     "metadata": {},
     "output_type": "display_data"
    },
    {
     "name": "stdout",
     "output_type": "stream",
     "text": [
      "@Test\n",
      "    public void parse() {\n",
      "        Map<String,RouteParameter> params;\n",
      "        RouteParameter param;\n",
      "        \n",
      "        // no named parameters is null\n",
      "        params = RouteParameter.parse(\"/user\");\n",
      "        assertThat(params, is(nullValue()));\n",
      "        \n",
      "        params = RouteParameter.parse(\"/user/{id}/{email: [0-9]+}\");\n",
      "        \n",
      "        param = params.get(\"id\");\n",
      "        assertThat(param.getName(), is(\"id\"));\n",
      "        assertThat(param.getToken(), is(\"{id}\"));\n",
      "        assertThat(param.getRegex(), is(nullValue()));\n",
      "        \n",
      "        param = params.get(\"email\");\n",
      "        assertThat(param.getName(), is(\"email\"));\n",
      "        assertThat(param.getToken(), is(\"{email: [0-9]+}\"));\n",
      "        assertThat(param.getRegex(), is(\"[0-9]+\"));\n",
      "    }\n",
      "NULL_DEREFERENCE\n",
      "NULL_DEREFERENCE\n"
     ]
    },
    {
     "data": {
      "text/html": [
       "<h2>Example 44</h2>"
      ],
      "text/plain": [
       "<IPython.core.display.HTML object>"
      ]
     },
     "metadata": {},
     "output_type": "display_data"
    },
    {
     "name": "stdout",
     "output_type": "stream",
     "text": [
      "@Test\n",
      "    void resolveFieldOfEnumAsInternalClassOfClassUnqualifiedDifferentPackage() throws IOException {\n",
      "        File src = new File(\"src/test/resources/enumLiteralsInAnnotatedClass\");\n",
      "        File aClass = new File(src.getPath() + File.separator + \"foo\" + File.separator + \"bar\"\n",
      "                + File.separator + \"differentpackage\" + File.separator + \"AClass2.java\");\n",
      "\n",
      "        CombinedTypeSolver localCts = new CombinedTypeSolver();\n",
      "        localCts.add(new ReflectionTypeSolver());\n",
      "        localCts.add(new JavaParserTypeSolver(src));\n",
      "\n",
      "        ParserConfiguration parserConfiguration = new ParserConfiguration().setSymbolResolver(new JavaSymbolSolver(localCts));\n",
      "        JavaParser parser = new JavaParser(parserConfiguration);\n",
      "        StreamProvider classProvider = new StreamProvider(new FileInputStream(aClass));\n",
      "\n",
      "        CompilationUnit cu = parser.parse(ParseStart.COMPILATION_UNIT, classProvider).getResult().get();\n",
      "        Optional<FieldAccessExpr> fae = cu.findFirst(FieldAccessExpr.class, n -> n.toString().equals(\"BinaryExpr.Operator.OR\") && n.getRange().get().begin.line == 6);\n",
      "\n",
      "        assertTrue(fae.isPresent());\n",
      "\n",
      "        assertEquals(\"foo.bar.BinaryExpr.Operator\", fae.get().resolve().getType().describe());\n",
      "        assertEquals(\"OR\", fae.get().resolve().getName());\n",
      "    }\n",
      "RESOURCE_LEAK\n",
      "RESOURCE_LEAK\n"
     ]
    },
    {
     "data": {
      "text/html": [
       "<h2>Example 45</h2>"
      ],
      "text/plain": [
       "<IPython.core.display.HTML object>"
      ]
     },
     "metadata": {},
     "output_type": "display_data"
    },
    {
     "name": "stdout",
     "output_type": "stream",
     "text": [
      "private void setPermissions(File workdir) {\n",
      "        if (!System.getProperty(\"os.name\").startsWith(\"Windows\")) {\n",
      "            Runtime r = Runtime.getRuntime();\n",
      "            try {\n",
      "                r.exec(\"chmod 755 \" + workdir + \"/bin/ld\").waitFor();\n",
      "                r.exec(\"chmod 755 \" + workdir + \"/bin/windres\").waitFor();\n",
      "            } catch (InterruptedException e) {\n",
      "                getLog().warn(\"Interrupted while chmodding platform-specific binaries\", e);\n",
      "            } catch (IOException e) {\n",
      "                getLog().warn(\"Unable to set platform-specific binaries to 755\", e);\n",
      "            }\n",
      "        }\n",
      "    }\n",
      "RESOURCE_LEAK\n",
      "NULL_DEREFERENCE\n"
     ]
    },
    {
     "data": {
      "text/html": [
       "<h2>Example 46</h2>"
      ],
      "text/plain": [
       "<IPython.core.display.HTML object>"
      ]
     },
     "metadata": {},
     "output_type": "display_data"
    },
    {
     "name": "stdout",
     "output_type": "stream",
     "text": [
      "protected void testTypeAnnotationHashCode(String text, IonType type)\n",
      "    {\n",
      "        checkType(type, oneValue(\"annot1::\" + text));\n",
      "        checkType(type, oneValue(\"$99::\" + text));\n",
      "\n",
      "        assertIonEqImpliesHashEq(oneValue(\"annot1::\" + text),\n",
      "                                 oneValue(\"annot2::\" + text));\n",
      "        assertIonEqImpliesHashEq(oneValue(\"annot1::annot2::\" + text),\n",
      "                                 oneValue(\"annot1::annot2::\" + text));\n",
      "        assertIonEqImpliesHashEq(oneValue(\"annot1::annot2::annot3::\" + text),\n",
      "                                 oneValue(\"annot1::annot2::annot3::\" + text));\n",
      "\n",
      "        assertIonEqImpliesHashEq(oneValue(\"$99::\" + text),\n",
      "                                 oneValue(\"$98::\" + text));\n",
      "        assertIonEqImpliesHashEq(oneValue(\"$99::$98::\" + text),\n",
      "                                 oneValue(\"$99::$98::\" + text));\n",
      "        assertIonEqImpliesHashEq(oneValue(\"$99::$98::$97::\" + text),\n",
      "                                 oneValue(\"$99::$98::$97::\" + text));\n",
      "\n",
      "        assertIonNotEqImpliesHashNotEq(\"annot1::\" + text,\n",
      "                                       \"annot2::\" + text);\n",
      "        assertIonNotEqImpliesHashNotEq(\"annot1::annot2::\" + text,\n",
      "                                       \"annot2::annot1::\" + text);\n",
      "        assertIonNotEqImpliesHashNotEq(\"annot1::annot2::annot3::\" + text,\n",
      "                                       \"annot3::annot2::annot1::\" + text);\n",
      "\n",
      "        assertIonNotEqImpliesHashNotEq(\"$99::\" + text,\n",
      "                                       \"$98::\" + text);\n",
      "        assertIonNotEqImpliesHashNotEq(\"$99::$98::\" + text,\n",
      "                                       \"$98::$99::\" + text);\n",
      "        assertIonNotEqImpliesHashNotEq(\"$99::$98::$97::\" + text,\n",
      "                                       \"$97::$98::$99::\" + text);\n",
      "    }\n",
      "NULL_DEREFERENCE\n",
      "NULL_DEREFERENCE\n"
     ]
    },
    {
     "data": {
      "text/html": [
       "<h2>Example 47</h2>"
      ],
      "text/plain": [
       "<IPython.core.display.HTML object>"
      ]
     },
     "metadata": {},
     "output_type": "display_data"
    },
    {
     "name": "stdout",
     "output_type": "stream",
     "text": [
      "@Test\n",
      "    public void parsesJson() throws Exception {\n",
      "        final Farm farm = new PropsFarm(new FkFarm());\n",
      "        final Take take = new TkGithub(\n",
      "            farm, (frm, github, event) -> \"nothing\"\n",
      "        );\n",
      "        MatcherAssert.assertThat(\n",
      "            take.act(\n",
      "                new RqWithBody(\n",
      "                    new RqFake(\"POST\", \"/\"),\n",
      "                    String.format(\n",
      "                        \"payload=%s\",\n",
      "                        URLEncoder.encode(\n",
      "                            \"{\\\"foo\\\": \\\"bar\\\"}\",\n",
      "                            StandardCharsets.UTF_8.displayName()\n",
      "                        )\n",
      "                    )\n",
      "                )\n",
      "            ),\n",
      "            new HmRsStatus(HttpURLConnection.HTTP_OK)\n",
      "        );\n",
      "    }\n",
      "RESOURCE_LEAK\n",
      "RESOURCE_LEAK\n"
     ]
    },
    {
     "data": {
      "text/html": [
       "<h2>Example 48</h2>"
      ],
      "text/plain": [
       "<IPython.core.display.HTML object>"
      ]
     },
     "metadata": {},
     "output_type": "display_data"
    },
    {
     "name": "stdout",
     "output_type": "stream",
     "text": [
      "public void process(final Reader reader, final Writer writer)\n",
      "    throws IOException {\n",
      "    final StopWatch watch = new StopWatch();\n",
      "    watch.start(\"pack\");\n",
      "    final InputStream is = new ByteArrayInputStream(IOUtils.toByteArray(reader));\n",
      "    try {\n",
      "      final JavaScriptCompressor compressor = new JavaScriptCompressor(new InputStreamReader(is), new YUIErrorReporter());\n",
      "      compressor.compress(writer, linebreakpos, munge, verbose, preserveAllSemiColons, disableOptimizations);\n",
      "    } catch (final RuntimeException e) {\n",
      "      LOG.error(\"Problem while applying YUI compressor\", e);\n",
      "      //keep js unchanged if it contains errors -> this should be configurable\n",
      "      LOG.debug(\"Leave resource unchanged...\");\n",
      "      is.reset();\n",
      "      IOUtils.copy(is, writer);\n",
      "      //throw new WroRuntimeException(\"Problem while applying YUI compressor\", e);\n",
      "    } finally {\n",
      "      is.close();\n",
      "      reader.close();\n",
      "      writer.close();\n",
      "      watch.stop();\n",
      "      LOG.debug(watch.prettyPrint());\n",
      "    }\n",
      "  }\n",
      "RESOURCE_LEAK\n",
      "RESOURCE_LEAK\n"
     ]
    },
    {
     "data": {
      "text/html": [
       "<h2>Example 49</h2>"
      ],
      "text/plain": [
       "<IPython.core.display.HTML object>"
      ]
     },
     "metadata": {},
     "output_type": "display_data"
    },
    {
     "name": "stdout",
     "output_type": "stream",
     "text": [
      "@org.junit.Test\n",
      "    public void test() throws InterruptedException, IOException {\n",
      "        Node node = new MasterSlaveNode(new Configuration(\"com.zuoxiaolong.niubi.job.jobs\"), \"localhost:2181,localhost:3181,localhost:4181\");\n",
      "        node.join();\n",
      "        new BufferedReader(new InputStreamReader(System.in)).readLine();\n",
      "    }\n",
      "RESOURCE_LEAK\n",
      "RESOURCE_LEAK\n"
     ]
    }
   ],
   "source": [
    "from transformers import T5ForConditionalGeneration,RobertaTokenizer\n",
    "model_path = 'codet5-base-buggy-error-description'\n",
    "model = T5ForConditionalGeneration.from_pretrained(model_path)\n",
    "tokenizer =RobertaTokenizer.from_pretrained(model_path)\n",
    "for i in range(50):\n",
    "    display(HTML(f\"<h2>Example {i}</h2>\"))\n",
    "    print(dataset[\"test\"][i][\"input\"])\n",
    "    print(dataset[\"test\"][i][\"vulnerability type\"])\n",
    "    print(predict(tokenizer, model, [dataset[\"test\"][i][\"input\"]])[0])"
   ]
  },
  {
   "cell_type": "code",
   "execution_count": null,
   "metadata": {},
   "outputs": [],
   "source": []
  }
 ],
 "metadata": {
  "kaggle": {
   "accelerator": "gpu",
   "dataSources": [
    {
     "datasetId": 5630863,
     "sourceId": 9299909,
     "sourceType": "datasetVersion"
    },
    {
     "datasetId": 5635905,
     "sourceId": 9306822,
     "sourceType": "datasetVersion"
    }
   ],
   "dockerImageVersionId": 30177,
   "isGpuEnabled": true,
   "isInternetEnabled": true,
   "language": "python",
   "sourceType": "notebook"
  },
  "kernelspec": {
   "display_name": "Python 3 (ipykernel)",
   "language": "python",
   "name": "python3"
  },
  "language_info": {
   "codemirror_mode": {
    "name": "ipython",
    "version": 3
   },
   "file_extension": ".py",
   "mimetype": "text/x-python",
   "name": "python",
   "nbconvert_exporter": "python",
   "pygments_lexer": "ipython3",
   "version": "3.12.3"
  }
 },
 "nbformat": 4,
 "nbformat_minor": 4
}
