{
 "cells": [
  {
   "cell_type": "markdown",
   "metadata": {},
   "source": [
    "# Bug Localization"
   ]
  },
  {
   "cell_type": "code",
   "execution_count": 1,
   "metadata": {
    "_cell_guid": "b1076dfc-b9ad-4769-8c92-a6c4dae69d19",
    "_uuid": "8f2839f25d086af736a60e9eeb907d3b93b6e0e5",
    "execution": {
     "iopub.execute_input": "2024-10-27T12:41:34.432784Z",
     "iopub.status.busy": "2024-10-27T12:41:34.432178Z",
     "iopub.status.idle": "2024-10-27T12:41:44.691772Z",
     "shell.execute_reply": "2024-10-27T12:41:44.690987Z",
     "shell.execute_reply.started": "2024-10-27T12:41:34.432685Z"
    },
    "trusted": true
   },
   "outputs": [
    {
     "name": "stdout",
     "output_type": "stream",
     "text": [
      "Requirement already satisfied: datasets in /opt/conda/lib/python3.7/site-packages (1.18.4)\n",
      "Requirement already satisfied: transformers in /opt/conda/lib/python3.7/site-packages (4.16.2)\n",
      "Requirement already satisfied: sentencepiece in /opt/conda/lib/python3.7/site-packages (0.1.96)\n",
      "Requirement already satisfied: fsspec[http]>=2021.05.0 in /opt/conda/lib/python3.7/site-packages (from datasets) (2022.2.0)\n",
      "Requirement already satisfied: dill in /opt/conda/lib/python3.7/site-packages (from datasets) (0.3.4)\n",
      "Requirement already satisfied: xxhash in /opt/conda/lib/python3.7/site-packages (from datasets) (3.0.0)\n",
      "Requirement already satisfied: importlib-metadata in /opt/conda/lib/python3.7/site-packages (from datasets) (4.11.3)\n",
      "Requirement already satisfied: aiohttp in /opt/conda/lib/python3.7/site-packages (from datasets) (3.8.1)\n",
      "Requirement already satisfied: requests>=2.19.0 in /opt/conda/lib/python3.7/site-packages (from datasets) (2.26.0)\n",
      "Requirement already satisfied: responses<0.19 in /opt/conda/lib/python3.7/site-packages (from datasets) (0.18.0)\n",
      "Requirement already satisfied: tqdm>=4.62.1 in /opt/conda/lib/python3.7/site-packages (from datasets) (4.62.3)\n",
      "Requirement already satisfied: pandas in /opt/conda/lib/python3.7/site-packages (from datasets) (1.3.5)\n",
      "Requirement already satisfied: multiprocess in /opt/conda/lib/python3.7/site-packages (from datasets) (0.70.12.2)\n",
      "Requirement already satisfied: pyarrow!=4.0.0,>=3.0.0 in /opt/conda/lib/python3.7/site-packages (from datasets) (6.0.1)\n",
      "Requirement already satisfied: numpy>=1.17 in /opt/conda/lib/python3.7/site-packages (from datasets) (1.20.3)\n",
      "Requirement already satisfied: huggingface-hub<1.0.0,>=0.1.0 in /opt/conda/lib/python3.7/site-packages (from datasets) (0.4.0)\n",
      "Requirement already satisfied: packaging in /opt/conda/lib/python3.7/site-packages (from datasets) (21.3)\n",
      "Requirement already satisfied: pyyaml>=5.1 in /opt/conda/lib/python3.7/site-packages (from transformers) (6.0)\n",
      "Requirement already satisfied: tokenizers!=0.11.3,>=0.10.1 in /opt/conda/lib/python3.7/site-packages (from transformers) (0.11.6)\n",
      "Requirement already satisfied: sacremoses in /opt/conda/lib/python3.7/site-packages (from transformers) (0.0.49)\n",
      "Requirement already satisfied: filelock in /opt/conda/lib/python3.7/site-packages (from transformers) (3.6.0)\n",
      "Requirement already satisfied: regex!=2019.12.17 in /opt/conda/lib/python3.7/site-packages (from transformers) (2021.11.10)\n",
      "Requirement already satisfied: typing-extensions>=3.7.4.3 in /opt/conda/lib/python3.7/site-packages (from huggingface-hub<1.0.0,>=0.1.0->datasets) (4.1.1)\n",
      "Requirement already satisfied: pyparsing!=3.0.5,>=2.0.2 in /opt/conda/lib/python3.7/site-packages (from packaging->datasets) (3.0.6)\n",
      "Requirement already satisfied: urllib3<1.27,>=1.21.1 in /opt/conda/lib/python3.7/site-packages (from requests>=2.19.0->datasets) (1.26.7)\n",
      "Requirement already satisfied: idna<4,>=2.5 in /opt/conda/lib/python3.7/site-packages (from requests>=2.19.0->datasets) (3.1)\n",
      "Requirement already satisfied: charset-normalizer~=2.0.0 in /opt/conda/lib/python3.7/site-packages (from requests>=2.19.0->datasets) (2.0.9)\n",
      "Requirement already satisfied: certifi>=2017.4.17 in /opt/conda/lib/python3.7/site-packages (from requests>=2.19.0->datasets) (2021.10.8)\n",
      "Requirement already satisfied: yarl<2.0,>=1.0 in /opt/conda/lib/python3.7/site-packages (from aiohttp->datasets) (1.7.2)\n",
      "Requirement already satisfied: aiosignal>=1.1.2 in /opt/conda/lib/python3.7/site-packages (from aiohttp->datasets) (1.2.0)\n",
      "Requirement already satisfied: asynctest==0.13.0 in /opt/conda/lib/python3.7/site-packages (from aiohttp->datasets) (0.13.0)\n",
      "Requirement already satisfied: async-timeout<5.0,>=4.0.0a3 in /opt/conda/lib/python3.7/site-packages (from aiohttp->datasets) (4.0.1)\n",
      "Requirement already satisfied: frozenlist>=1.1.1 in /opt/conda/lib/python3.7/site-packages (from aiohttp->datasets) (1.2.0)\n",
      "Requirement already satisfied: attrs>=17.3.0 in /opt/conda/lib/python3.7/site-packages (from aiohttp->datasets) (21.2.0)\n",
      "Requirement already satisfied: multidict<7.0,>=4.5 in /opt/conda/lib/python3.7/site-packages (from aiohttp->datasets) (5.2.0)\n",
      "Requirement already satisfied: zipp>=0.5 in /opt/conda/lib/python3.7/site-packages (from importlib-metadata->datasets) (3.6.0)\n",
      "Requirement already satisfied: python-dateutil>=2.7.3 in /opt/conda/lib/python3.7/site-packages (from pandas->datasets) (2.8.2)\n",
      "Requirement already satisfied: pytz>=2017.3 in /opt/conda/lib/python3.7/site-packages (from pandas->datasets) (2021.3)\n",
      "Requirement already satisfied: joblib in /opt/conda/lib/python3.7/site-packages (from sacremoses->transformers) (1.1.0)\n",
      "Requirement already satisfied: click in /opt/conda/lib/python3.7/site-packages (from sacremoses->transformers) (8.0.3)\n",
      "Requirement already satisfied: six in /opt/conda/lib/python3.7/site-packages (from sacremoses->transformers) (1.16.0)\n",
      "\u001b[33mWARNING: Running pip as the 'root' user can result in broken permissions and conflicting behaviour with the system package manager. It is recommended to use a virtual environment instead: https://pip.pypa.io/warnings/venv\u001b[0m\n"
     ]
    }
   ],
   "source": [
    "!pip install datasets transformers sentencepiece"
   ]
  },
  {
   "cell_type": "code",
   "execution_count": 2,
   "metadata": {
    "execution": {
     "iopub.execute_input": "2024-10-27T12:41:49.059834Z",
     "iopub.status.busy": "2024-10-27T12:41:49.059095Z",
     "iopub.status.idle": "2024-10-27T12:42:07.593570Z",
     "shell.execute_reply": "2024-10-27T12:42:07.592861Z",
     "shell.execute_reply.started": "2024-10-27T12:41:49.059793Z"
    },
    "trusted": true
   },
   "outputs": [
    {
     "name": "stdout",
     "output_type": "stream",
     "text": [
      "Requirement already satisfied: huggingface_hub in /opt/conda/lib/python3.7/site-packages (0.4.0)\n",
      "Requirement already satisfied: typing-extensions>=3.7.4.3 in /opt/conda/lib/python3.7/site-packages (from huggingface_hub) (4.1.1)\n",
      "Requirement already satisfied: packaging>=20.9 in /opt/conda/lib/python3.7/site-packages (from huggingface_hub) (21.3)\n",
      "Requirement already satisfied: tqdm in /opt/conda/lib/python3.7/site-packages (from huggingface_hub) (4.62.3)\n",
      "Requirement already satisfied: filelock in /opt/conda/lib/python3.7/site-packages (from huggingface_hub) (3.6.0)\n",
      "Requirement already satisfied: requests in /opt/conda/lib/python3.7/site-packages (from huggingface_hub) (2.26.0)\n",
      "Requirement already satisfied: pyyaml in /opt/conda/lib/python3.7/site-packages (from huggingface_hub) (6.0)\n",
      "Requirement already satisfied: importlib-metadata in /opt/conda/lib/python3.7/site-packages (from huggingface_hub) (4.11.3)\n",
      "Requirement already satisfied: pyparsing!=3.0.5,>=2.0.2 in /opt/conda/lib/python3.7/site-packages (from packaging>=20.9->huggingface_hub) (3.0.6)\n",
      "Requirement already satisfied: zipp>=0.5 in /opt/conda/lib/python3.7/site-packages (from importlib-metadata->huggingface_hub) (3.6.0)\n",
      "Requirement already satisfied: urllib3<1.27,>=1.21.1 in /opt/conda/lib/python3.7/site-packages (from requests->huggingface_hub) (1.26.7)\n",
      "Requirement already satisfied: certifi>=2017.4.17 in /opt/conda/lib/python3.7/site-packages (from requests->huggingface_hub) (2021.10.8)\n",
      "Requirement already satisfied: charset-normalizer~=2.0.0 in /opt/conda/lib/python3.7/site-packages (from requests->huggingface_hub) (2.0.9)\n",
      "Requirement already satisfied: idna<4,>=2.5 in /opt/conda/lib/python3.7/site-packages (from requests->huggingface_hub) (3.1)\n",
      "\u001b[33mWARNING: Running pip as the 'root' user can result in broken permissions and conflicting behaviour with the system package manager. It is recommended to use a virtual environment instead: https://pip.pypa.io/warnings/venv\u001b[0m\n",
      "Reading package lists... Done\n",
      "Building dependency tree       \n",
      "Reading state information... Done\n",
      "The following NEW packages will be installed:\n",
      "  git-lfs\n",
      "0 upgraded, 1 newly installed, 0 to remove and 75 not upgraded.\n",
      "Need to get 3316 kB of archives.\n",
      "After this operation, 11.1 MB of additional disk space will be used.\n",
      "Get:1 http://archive.ubuntu.com/ubuntu focal/universe amd64 git-lfs amd64 2.9.2-1 [3316 kB]\n",
      "Fetched 3316 kB in 1s (2267 kB/s)  \u001b[0m33m\u001b[33m\u001b[33m\n",
      "\n",
      "\u001b7\u001b[0;23r\u001b8\u001b[1ASelecting previously unselected package git-lfs.\n",
      "(Reading database ... 103274 files and directories currently installed.)\n",
      "Preparing to unpack .../git-lfs_2.9.2-1_amd64.deb ...\n",
      "\u001b7\u001b[24;0f\u001b[42m\u001b[30mProgress: [  0%]\u001b[49m\u001b[39m [..........................................................] \u001b8\u001b7\u001b[24;0f\u001b[42m\u001b[30mProgress: [ 20%]\u001b[49m\u001b[39m [###########...............................................] \u001b8Unpacking git-lfs (2.9.2-1) ...\n",
      "\u001b7\u001b[24;0f\u001b[42m\u001b[30mProgress: [ 40%]\u001b[49m\u001b[39m [#######################...................................] \u001b8Setting up git-lfs (2.9.2-1) ...\n",
      "\u001b7\u001b[24;0f\u001b[42m\u001b[30mProgress: [ 60%]\u001b[49m\u001b[39m [##################################........................] \u001b8\u001b7\u001b[24;0f\u001b[42m\u001b[30mProgress: [ 80%]\u001b[49m\u001b[39m [##############################################............] \u001b8Processing triggers for man-db (2.9.1-1) ...\n",
      "\n",
      "\u001b7\u001b[0;24r\u001b8\u001b[1A\u001b[JError: Failed to call git rev-parse --git-dir: exit status 128 \n",
      "Git LFS initialized.\n"
     ]
    },
    {
     "data": {
      "application/vnd.jupyter.widget-view+json": {
       "model_id": "8db55b2318b64f1ea6e33cd2a06df7d6",
       "version_major": 2,
       "version_minor": 0
      },
      "text/plain": [
       "VBox(children=(HTML(value='<center>\\n<img src=https://huggingface.co/front/assets/huggingface_logo-noborder.sv…"
      ]
     },
     "metadata": {},
     "output_type": "display_data"
    }
   ],
   "source": [
    "import os\n",
    "\n",
    "KAGGLE_KERNEL_INTERACTIVE = os.environ[\"KAGGLE_KERNEL_RUN_TYPE\"] == \"Interactive\"\n",
    "\n",
    "if KAGGLE_KERNEL_INTERACTIVE:\n",
    "    !pip install huggingface_hub\n",
    "    !apt install git-lfs\n",
    "    !git lfs install\n",
    "\n",
    "    from huggingface_hub import notebook_login\n",
    "\n",
    "    notebook_login()"
   ]
  },
  {
   "cell_type": "code",
   "execution_count": 10,
   "metadata": {
    "execution": {
     "iopub.execute_input": "2024-10-29T09:02:56.522014Z",
     "iopub.status.busy": "2024-10-29T09:02:56.521638Z",
     "iopub.status.idle": "2024-10-29T09:02:56.529076Z",
     "shell.execute_reply": "2024-10-29T09:02:56.528303Z",
     "shell.execute_reply.started": "2024-10-29T09:02:56.521977Z"
    },
    "trusted": true
   },
   "outputs": [],
   "source": [
    "import os\n",
    "import json\n",
    "import torch\n",
    "\n",
    "import numpy as np\n",
    "import pandas as pd\n",
    "\n",
    "from sklearn.model_selection import train_test_split\n",
    "from sklearn.metrics import accuracy_score, precision_score, recall_score, f1_score\n",
    "from transformers import RobertaTokenizerFast, RobertaForTokenClassification, Trainer, TrainingArguments, DataCollatorForTokenClassification\n",
    "from datasets import load_metric, load_dataset\n",
    "\n",
    "from difflib import SequenceMatcher\n",
    "from tqdm.notebook import tqdm\n",
    "from IPython.display import HTML\n",
    "from functools import partial\n",
    "\n",
    "pd.set_option('max_columns', None)\n",
    "\n",
    "codenet_root = '/kaggle/input/java-localization/java_localization/'\n",
    "\n",
    "os.environ[\"WANDB_DISABLED\"] = \"true\"\n",
    "os.environ[\"TOKENIZERS_PARALLELISM\"] = \"false\""
   ]
  },
  {
   "cell_type": "markdown",
   "metadata": {},
   "source": [
    "## Preprocess Data"
   ]
  },
  {
   "cell_type": "code",
   "execution_count": 12,
   "metadata": {
    "execution": {
     "iopub.execute_input": "2024-10-29T09:03:06.405235Z",
     "iopub.status.busy": "2024-10-29T09:03:06.404981Z",
     "iopub.status.idle": "2024-10-29T09:03:07.792061Z",
     "shell.execute_reply": "2024-10-29T09:03:07.791383Z",
     "shell.execute_reply.started": "2024-10-29T09:03:06.405207Z"
    },
    "trusted": true
   },
   "outputs": [
    {
     "name": "stdout",
     "output_type": "stream",
     "text": [
      "Downloading and preparing dataset json/default to /root/.cache/huggingface/datasets/json/default-5d3950c02eb04f44/0.0.0/ac0ca5f5289a6cf108e706efcf040422dbbfa8e658dee6a819f20d76bb84d26b...\n"
     ]
    },
    {
     "data": {
      "application/vnd.jupyter.widget-view+json": {
       "model_id": "a62fc73694bd46cd82e4a2f055a78684",
       "version_major": 2,
       "version_minor": 0
      },
      "text/plain": [
       "  0%|          | 0/2 [00:00<?, ?it/s]"
      ]
     },
     "metadata": {},
     "output_type": "display_data"
    },
    {
     "data": {
      "application/vnd.jupyter.widget-view+json": {
       "model_id": "6c13414f65da4769bf3c3461839a3b2b",
       "version_major": 2,
       "version_minor": 0
      },
      "text/plain": [
       "  0%|          | 0/2 [00:00<?, ?it/s]"
      ]
     },
     "metadata": {},
     "output_type": "display_data"
    },
    {
     "name": "stdout",
     "output_type": "stream",
     "text": [
      "Dataset json downloaded and prepared to /root/.cache/huggingface/datasets/json/default-5d3950c02eb04f44/0.0.0/ac0ca5f5289a6cf108e706efcf040422dbbfa8e658dee6a819f20d76bb84d26b. Subsequent calls will reuse this data.\n"
     ]
    },
    {
     "data": {
      "application/vnd.jupyter.widget-view+json": {
       "model_id": "4fa1859cd4bd47a4aec0ef4de78a1097",
       "version_major": 2,
       "version_minor": 0
      },
      "text/plain": [
       "  0%|          | 0/2 [00:00<?, ?it/s]"
      ]
     },
     "metadata": {},
     "output_type": "display_data"
    }
   ],
   "source": [
    "dataset = load_dataset(\"json\", data_files={\"train\": codenet_root+\"java_train.json\", \"test\": codenet_root+\"java_test.json\"}, field='data')"
   ]
  },
  {
   "cell_type": "code",
   "execution_count": 13,
   "metadata": {
    "execution": {
     "iopub.execute_input": "2024-10-29T09:03:10.658753Z",
     "iopub.status.busy": "2024-10-29T09:03:10.658176Z",
     "iopub.status.idle": "2024-10-29T09:03:11.005866Z",
     "shell.execute_reply": "2024-10-29T09:03:11.005263Z",
     "shell.execute_reply.started": "2024-10-29T09:03:10.658705Z"
    },
    "trusted": true
   },
   "outputs": [
    {
     "data": {
      "application/vnd.jupyter.widget-view+json": {
       "model_id": "77913cf740804c6b8f3f5982cc7dbb07",
       "version_major": 2,
       "version_minor": 0
      },
      "text/plain": [
       "  0%|          | 0/8 [00:00<?, ?ba/s]"
      ]
     },
     "metadata": {},
     "output_type": "display_data"
    }
   ],
   "source": [
    "train_dataset = dataset[\"train\"].filter(lambda example: example[\"returncode\"] != 0).train_test_split(test_size=0.1)\n",
    "test_dataset = dataset[\"test\"]"
   ]
  },
  {
   "cell_type": "markdown",
   "metadata": {},
   "source": [
    "### Label Tokens\n"
   ]
  },
  {
   "cell_type": "code",
   "execution_count": 16,
   "metadata": {
    "execution": {
     "iopub.execute_input": "2024-10-29T09:04:11.204837Z",
     "iopub.status.busy": "2024-10-29T09:04:11.204344Z",
     "iopub.status.idle": "2024-10-29T09:14:52.012094Z",
     "shell.execute_reply": "2024-10-29T09:14:52.011459Z",
     "shell.execute_reply.started": "2024-10-29T09:04:11.204802Z"
    },
    "trusted": true
   },
   "outputs": [
    {
     "data": {
      "application/vnd.jupyter.widget-view+json": {
       "model_id": "02e7b6b819af414aa6fd9f4120f51232",
       "version_major": 2,
       "version_minor": 0
      },
      "text/plain": [
       "  0%|          | 0/1679 [00:00<?, ?ba/s]"
      ]
     },
     "metadata": {},
     "output_type": "display_data"
    },
    {
     "data": {
      "application/vnd.jupyter.widget-view+json": {
       "model_id": "358428906b7a419b9a368d704dc6c5e4",
       "version_major": 2,
       "version_minor": 0
      },
      "text/plain": [
       "  0%|          | 0/187 [00:00<?, ?ba/s]"
      ]
     },
     "metadata": {},
     "output_type": "display_data"
    },
    {
     "data": {
      "application/vnd.jupyter.widget-view+json": {
       "model_id": "5da40960e8104bba86ec80b924fa9761",
       "version_major": 2,
       "version_minor": 0
      },
      "text/plain": [
       "  0%|          | 0/208 [00:00<?, ?ba/s]"
      ]
     },
     "metadata": {},
     "output_type": "display_data"
    }
   ],
   "source": [
    "def generate_char_mask(original_src, changed_src):\n",
    "    s = SequenceMatcher(None, original_src, changed_src)\n",
    "    opcodes = [x for x in s.get_opcodes() if x[0] != \"equal\"]\n",
    "    \n",
    "    original_labels = np.zeros_like(list(original_src), dtype=np.int32)\n",
    "    for _, i1, i2, _, _ in opcodes:\n",
    "        original_labels[i1: max(i1+1, i2)] = 1\n",
    "\n",
    "    return original_labels.tolist()\n",
    "\n",
    "def tokenize_and_align_labels(tokenizer, example):\n",
    "    example = {\n",
    "        \"original_src\": example[\"original_src\"] + example[\"changed_src\"], \n",
    "        \"changed_src\": example[\"changed_src\"] + example[\"changed_src\"], \n",
    "        \"error_class_extra\": example[\"error_class_extra\"] + [\"Accepted\" for _ in example[\"changed_src\"]]\n",
    "    }\n",
    "    \n",
    "    y = [generate_char_mask(x_o, x_c) for (x_o, x_c) in zip(example[\"original_src\"], example[\"changed_src\"])]\n",
    "    X_tokenized = tokenizer(text=example[\"error_class_extra\"], text_pair=example[\"original_src\"], padding=True, truncation=True)\n",
    "    \n",
    "    labels = np.zeros_like(X_tokenized.input_ids, dtype=np.int32) - 100\n",
    "    for i, y_i in enumerate(y):\n",
    "        for j, y_i_j in enumerate(y_i):\n",
    "            idx = X_tokenized.char_to_token(i, j, sequence_index=1)\n",
    "            if idx is None:\n",
    "                continue\n",
    "            if labels[i, idx] == -100:\n",
    "                labels[i, idx] = y_i_j\n",
    "            else:\n",
    "                labels[i, idx] |= y_i_j\n",
    "            \n",
    "    X_tokenized[\"labels\"] = labels.tolist()\n",
    "    return X_tokenized\n",
    "\n",
    "tokenizer = RobertaTokenizerFast.from_pretrained(\"microsoft/codebert-base\")\n",
    "\n",
    "train_dataset = train_dataset.map(partial(tokenize_and_align_labels, tokenizer), batched=True, batch_size=4, remove_columns=train_dataset[\"train\"].column_names)\n",
    "test_dataset = test_dataset.map(partial(tokenize_and_align_labels, tokenizer), batched=True, batch_size=4, remove_columns=test_dataset.column_names)"
   ]
  },
  {
   "cell_type": "markdown",
   "metadata": {},
   "source": [
    "## Train\n",
    "\n"
   ]
  },
  {
   "cell_type": "code",
   "execution_count": 7,
   "metadata": {
    "execution": {
     "iopub.execute_input": "2024-10-27T13:00:01.235084Z",
     "iopub.status.busy": "2024-10-27T13:00:01.234232Z",
     "iopub.status.idle": "2024-10-27T13:00:14.778195Z",
     "shell.execute_reply": "2024-10-27T13:00:14.777432Z",
     "shell.execute_reply.started": "2024-10-27T13:00:01.235043Z"
    },
    "trusted": true
   },
   "outputs": [
    {
     "name": "stderr",
     "output_type": "stream",
     "text": [
      "Using the `WAND_DISABLED` environment variable is deprecated and will be removed in v5. Use the --report_to flag to control the integrations used for logging result (for instance --report_to none).\n"
     ]
    },
    {
     "data": {
      "application/vnd.jupyter.widget-view+json": {
       "model_id": "71aef47f108241a2b740a718fb92ddad",
       "version_major": 2,
       "version_minor": 0
      },
      "text/plain": [
       "Downloading:   0%|          | 0.00/476M [00:00<?, ?B/s]"
      ]
     },
     "metadata": {},
     "output_type": "display_data"
    },
    {
     "name": "stderr",
     "output_type": "stream",
     "text": [
      "Some weights of RobertaForTokenClassification were not initialized from the model checkpoint at microsoft/codebert-base and are newly initialized: ['classifier.weight', 'classifier.bias']\n",
      "You should probably TRAIN this model on a down-stream task to be able to use it for predictions and inference.\n"
     ]
    }
   ],
   "source": [
    "training_args = TrainingArguments(\n",
    "    output_dir='codebert-base-buggy-token-classification',          # output directory\n",
    "    num_train_epochs=3,                                             # total number of training epochs\n",
    "    per_device_train_batch_size=4,                                  # batch size per device during training\n",
    "    per_device_eval_batch_size=4,                                   # batch size for evaluation\n",
    "    warmup_steps=500,                                               # number of warmup steps for learning rate scheduler\n",
    "    weight_decay=0.01,                                              # strength of weight decay\n",
    "    logging_dir='./logs',                                           # directory for storing logs\n",
    "    logging_steps=1_000,                                            # Steps to report the loss value\n",
    "    save_strategy =\"no\",\n",
    "    push_to_hub=KAGGLE_KERNEL_INTERACTIVE,\n",
    ")\n",
    "\n",
    "model = RobertaForTokenClassification.from_pretrained(\"microsoft/codeT5-base\")\n",
    "data_collator = DataCollatorForTokenClassification(tokenizer, padding=True)"
   ]
  },
  {
   "cell_type": "code",
   "execution_count": 10,
   "metadata": {
    "execution": {
     "iopub.execute_input": "2024-10-27T13:03:46.583091Z",
     "iopub.status.busy": "2024-10-27T13:03:46.582353Z",
     "iopub.status.idle": "2024-10-27T13:03:46.596669Z",
     "shell.execute_reply": "2024-10-27T13:03:46.595871Z",
     "shell.execute_reply.started": "2024-10-27T13:03:46.583052Z"
    },
    "trusted": true
   },
   "outputs": [],
   "source": [
    "def document_level_metrics(true_predictions, true_labels):\n",
    "    tp = 0\n",
    "    fp = 0\n",
    "    fn = 0\n",
    "    tn = 0\n",
    "\n",
    "    for t_pred, t_label in zip(true_predictions, true_labels):\n",
    "        ref_accepted = 1 in t_pred\n",
    "        p_accepted = 1 in t_label\n",
    "\n",
    "        if ref_accepted and p_accepted:\n",
    "            tp += 1\n",
    "        if not ref_accepted and p_accepted:\n",
    "            fp += 1\n",
    "        if ref_accepted and not p_accepted:\n",
    "            fn += 1\n",
    "        if not ref_accepted and not p_accepted:\n",
    "            tn += 1\n",
    "\n",
    "    return {\n",
    "        \"document_precision\": tp / (tp + fp) if (tp + fp) != 0 else 0,\n",
    "        \"document_recall\": tp / (tp + fn) if (tp + fn) != 0 else 0,\n",
    "        \"document_f1\": (2 * tp) / (2 * tp + fp + fn) if (2 * tp + fp + fn) != 0 else 0,\n",
    "        \"document_accuracy\": (tp + tn) / (tp + fp + fn + tn) if (tp + fp + fn + tn) != 0 else 0,\n",
    "    }\n",
    "            \n",
    "\n",
    "def compute_metrics(p):\n",
    "    predictions, labels = p\n",
    "    predictions = np.argmax(predictions, axis=2)\n",
    "\n",
    "    true_predictionss = [\n",
    "        [p for (p, l) in zip(prediction, label) if l != -100]\n",
    "        for prediction, label in zip(predictions, labels)\n",
    "    ]\n",
    "    true_labelss = [\n",
    "        [l for (p, l) in zip(prediction, label) if l != -100]\n",
    "        for prediction, label in zip(predictions, labels)\n",
    "    ]\n",
    "    \n",
    "    true_predictions = [p for pred in true_predictionss for p in pred]\n",
    "    true_labels = [p for pred in true_labelss for p in pred]\n",
    "\n",
    "    \n",
    "    return {\n",
    "        \"precision\": precision_score(true_labels, true_predictions),\n",
    "        \"recall\": recall_score(true_labels, true_predictions),\n",
    "        \"f1\": f1_score(true_labels, true_predictions),\n",
    "        \"accuracy\": accuracy_score(true_labels, true_predictions),\n",
    "        **document_level_metrics(true_predictionss, true_labelss)\n",
    "    }"
   ]
  },
  {
   "cell_type": "code",
   "execution_count": 11,
   "metadata": {
    "execution": {
     "iopub.execute_input": "2024-10-27T13:03:56.022790Z",
     "iopub.status.busy": "2024-10-27T13:03:56.022112Z",
     "iopub.status.idle": "2024-10-27T13:49:57.460415Z",
     "shell.execute_reply": "2024-10-27T13:49:57.459615Z",
     "shell.execute_reply.started": "2024-10-27T13:03:56.022753Z"
    },
    "trusted": true
   },
   "outputs": [
    {
     "name": "stderr",
     "output_type": "stream",
     "text": [
      "Cloning https://huggingface.co/sefemna/codebert-base-buggy-token-classification into local empty directory.\n"
     ]
    },
    {
     "data": {
      "application/vnd.jupyter.widget-view+json": {
       "model_id": "9f95e4af7a694682b1696a8bfeb249bb",
       "version_major": 2,
       "version_minor": 0
      },
      "text/plain": [
       "Download file pytorch_model.bin:   0%|          | 14.7k/473M [00:00<?, ?B/s]"
      ]
     },
     "metadata": {},
     "output_type": "display_data"
    },
    {
     "data": {
      "application/vnd.jupyter.widget-view+json": {
       "model_id": "ffdbaa0fa535481f9ac68ec72f0f6ea2",
       "version_major": 2,
       "version_minor": 0
      },
      "text/plain": [
       "Download file training_args.bin: 100%|##########| 2.92k/2.92k [00:00<?, ?B/s]"
      ]
     },
     "metadata": {},
     "output_type": "display_data"
    },
    {
     "data": {
      "application/vnd.jupyter.widget-view+json": {
       "model_id": "0746deab1a0f44999e6b023a9b7fbc1d",
       "version_major": 2,
       "version_minor": 0
      },
      "text/plain": [
       "Clean file training_args.bin:  34%|###4      | 1.00k/2.92k [00:00<?, ?B/s]"
      ]
     },
     "metadata": {},
     "output_type": "display_data"
    },
    {
     "data": {
      "application/vnd.jupyter.widget-view+json": {
       "model_id": "045ecc5389f84e8da607096f516793ec",
       "version_major": 2,
       "version_minor": 0
      },
      "text/plain": [
       "Clean file pytorch_model.bin:   0%|          | 1.00k/473M [00:00<?, ?B/s]"
      ]
     },
     "metadata": {},
     "output_type": "display_data"
    },
    {
     "name": "stderr",
     "output_type": "stream",
     "text": [
      "/opt/conda/lib/python3.7/site-packages/transformers/optimization.py:309: FutureWarning: This implementation of AdamW is deprecated and will be removed in a future version. Use thePyTorch implementation torch.optim.AdamW instead, or set `no_deprecation_warning=True` to disable this warning\n",
      "  FutureWarning,\n",
      "***** Running training *****\n",
      "  Num examples = 13428\n",
      "  Num Epochs = 3\n",
      "  Instantaneous batch size per device = 4\n",
      "  Total train batch size (w. parallel, distributed & accumulation) = 4\n",
      "  Gradient Accumulation steps = 1\n",
      "  Total optimization steps = 10071\n"
     ]
    },
    {
     "data": {
      "text/html": [
       "\n",
       "    <div>\n",
       "      \n",
       "      <progress value='10071' max='10071' style='width:300px; height:20px; vertical-align: middle;'></progress>\n",
       "      [10071/10071 43:31, Epoch 3/3]\n",
       "    </div>\n",
       "    <table border=\"1\" class=\"dataframe\">\n",
       "  <thead>\n",
       " <tr style=\"text-align: left;\">\n",
       "      <th>Step</th>\n",
       "      <th>Training Loss</th>\n",
       "    </tr>\n",
       "  </thead>\n",
       "  <tbody>\n",
       "    <tr>\n",
       "      <td>1000</td>\n",
       "      <td>0.299000</td>\n",
       "    </tr>\n",
       "    <tr>\n",
       "      <td>2000</td>\n",
       "      <td>0.239500</td>\n",
       "    </tr>\n",
       "    <tr>\n",
       "      <td>3000</td>\n",
       "      <td>0.251800</td>\n",
       "    </tr>\n",
       "    <tr>\n",
       "      <td>4000</td>\n",
       "      <td>0.214300</td>\n",
       "    </tr>\n",
       "    <tr>\n",
       "      <td>5000</td>\n",
       "      <td>0.198500</td>\n",
       "    </tr>\n",
       "    <tr>\n",
       "      <td>6000</td>\n",
       "      <td>0.187400</td>\n",
       "    </tr>\n",
       "    <tr>\n",
       "      <td>7000</td>\n",
       "      <td>0.168200</td>\n",
       "    </tr>\n",
       "    <tr>\n",
       "      <td>8000</td>\n",
       "      <td>0.136500</td>\n",
       "    </tr>\n",
       "    <tr>\n",
       "      <td>9000</td>\n",
       "      <td>0.128000</td>\n",
       "    </tr>\n",
       "    <tr>\n",
       "      <td>10000</td>\n",
       "      <td>0.126400</td>\n",
       "    </tr>\n",
       "  </tbody>\n",
       "</table><p>"
      ],
      "text/plain": [
       "<IPython.core.display.HTML object>"
      ]
     },
     "metadata": {},
     "output_type": "display_data"
    },
    {
     "name": "stderr",
     "output_type": "stream",
     "text": [
      "\n",
      "\n",
      "Training completed. Do not forget to share your model on huggingface.co/models =)\n",
      "\n",
      "\n"
     ]
    },
    {
     "data": {
      "text/plain": [
       "TrainOutput(global_step=10071, training_loss=0.1946660041714387, metrics={'train_runtime': 2612.5249, 'train_samples_per_second': 15.42, 'train_steps_per_second': 3.855, 'total_flos': 1.052573763774072e+16, 'train_loss': 0.1946660041714387, 'epoch': 3.0})"
      ]
     },
     "execution_count": 11,
     "metadata": {},
     "output_type": "execute_result"
    }
   ],
   "source": [
    "trainer = Trainer(\n",
    "    model=model,                         \n",
    "    args=training_args,                  \n",
    "    train_dataset=train_dataset[\"train\"],         \n",
    "    eval_dataset=train_dataset[\"test\"],            \n",
    "    data_collator=data_collator,\n",
    "    tokenizer=tokenizer,\n",
    "    compute_metrics=compute_metrics\n",
    ")\n",
    "\n",
    "trainer.train()"
   ]
  },
  {
   "cell_type": "code",
   "execution_count": 12,
   "metadata": {
    "execution": {
     "iopub.execute_input": "2024-10-27T13:52:48.327493Z",
     "iopub.status.busy": "2024-10-27T13:52:48.327190Z",
     "iopub.status.idle": "2024-10-27T13:53:21.295662Z",
     "shell.execute_reply": "2024-10-27T13:53:21.294789Z",
     "shell.execute_reply.started": "2024-10-27T13:52:48.327463Z"
    },
    "trusted": true
   },
   "outputs": [
    {
     "name": "stderr",
     "output_type": "stream",
     "text": [
      "***** Running Evaluation *****\n",
      "  Num examples = 1494\n",
      "  Batch size = 4\n"
     ]
    },
    {
     "data": {
      "text/html": [
       "\n",
       "    <div>\n",
       "      \n",
       "      <progress value='374' max='374' style='width:300px; height:20px; vertical-align: middle;'></progress>\n",
       "      [374/374 00:30]\n",
       "    </div>\n",
       "    "
      ],
      "text/plain": [
       "<IPython.core.display.HTML object>"
      ]
     },
     "metadata": {},
     "output_type": "display_data"
    },
    {
     "data": {
      "text/plain": [
       "{'eval_loss': 0.22487878799438477,\n",
       " 'eval_precision': 0.8139333855587672,\n",
       " 'eval_recall': 0.6257866206982492,\n",
       " 'eval_f1': 0.7075662220552321,\n",
       " 'eval_accuracy': 0.9263208029985238,\n",
       " 'eval_document_precision': 0.8404558404558404,\n",
       " 'eval_document_recall': 0.9816971713810316,\n",
       " 'eval_document_f1': 0.9056024558710668,\n",
       " 'eval_document_accuracy': 0.9176706827309237,\n",
       " 'eval_runtime': 32.9536,\n",
       " 'eval_samples_per_second': 45.336,\n",
       " 'eval_steps_per_second': 11.349,\n",
       " 'epoch': 3.0}"
      ]
     },
     "execution_count": 12,
     "metadata": {},
     "output_type": "execute_result"
    }
   ],
   "source": [
    "trainer.evaluate()"
   ]
  },
  {
   "cell_type": "code",
   "execution_count": 13,
   "metadata": {
    "execution": {
     "iopub.execute_input": "2024-10-27T13:55:06.777395Z",
     "iopub.status.busy": "2024-10-27T13:55:06.777081Z",
     "iopub.status.idle": "2024-10-27T13:55:07.755687Z",
     "shell.execute_reply": "2024-10-27T13:55:07.754895Z",
     "shell.execute_reply.started": "2024-10-27T13:55:06.777362Z"
    },
    "trusted": true
   },
   "outputs": [
    {
     "name": "stderr",
     "output_type": "stream",
     "text": [
      "Configuration saved in /kaggle/working/codet5-base-buggy-error-description/config.json\n",
      "Model weights saved in /kaggle/working/codet5-base-buggy-error-description/pytorch_model.bin\n",
      "tokenizer config file saved in /kaggle/working/codet5-base-buggy-error-description/tokenizer_config.json\n",
      "Special tokens file saved in /kaggle/working/codet5-base-buggy-error-description/special_tokens_map.json\n"
     ]
    },
    {
     "data": {
      "text/plain": [
       "('/kaggle/working/codet5-base-buggy-error-description/tokenizer_config.json',\n",
       " '/kaggle/working/codet5-base-buggy-error-description/special_tokens_map.json',\n",
       " '/kaggle/working/codet5-base-buggy-error-description/vocab.json',\n",
       " '/kaggle/working/codet5-base-buggy-error-description/merges.txt',\n",
       " '/kaggle/working/codet5-base-buggy-error-description/added_tokens.json',\n",
       " '/kaggle/working/codet5-base-buggy-error-description/tokenizer.json')"
      ]
     },
     "execution_count": 13,
     "metadata": {},
     "output_type": "execute_result"
    }
   ],
   "source": [
    "model.save_pretrained('/kaggle/working/codet5-base-buggy-error-description')\n",
    "tokenizer.save_pretrained('/kaggle/working/codet5-base-buggy-error-description')"
   ]
  },
  {
   "cell_type": "code",
   "execution_count": 18,
   "metadata": {
    "execution": {
     "iopub.execute_input": "2024-09-23T13:40:34.280447Z",
     "iopub.status.busy": "2024-09-23T13:40:34.279837Z",
     "iopub.status.idle": "2024-09-23T13:43:22.156825Z",
     "shell.execute_reply": "2024-09-23T13:43:22.156100Z",
     "shell.execute_reply.started": "2024-09-23T13:40:34.280408Z"
    },
    "trusted": true
   },
   "outputs": [
    {
     "name": "stderr",
     "output_type": "stream",
     "text": [
      "***** Running Evaluation *****\n",
      "  Num examples = 13498\n",
      "  Batch size = 4\n"
     ]
    },
    {
     "data": {
      "text/plain": [
       "{'eval_loss': 0.14982274174690247,\n",
       " 'eval_precision': 0.8040890908192997,\n",
       " 'eval_recall': 0.32216385203652587,\n",
       " 'eval_f1': 0.4600182232989822,\n",
       " 'eval_accuracy': 0.9486452445008716,\n",
       " 'eval_document_precision': 0.7526340619594276,\n",
       " 'eval_document_recall': 0.9908902691511388,\n",
       " 'eval_document_f1': 0.8554830637232996,\n",
       " 'eval_document_accuracy': 0.880204474736998,\n",
       " 'eval_runtime': 167.8585,\n",
       " 'eval_samples_per_second': 80.413,\n",
       " 'eval_steps_per_second': 20.106,\n",
       " 'epoch': 3.0}"
      ]
     },
     "execution_count": 18,
     "metadata": {},
     "output_type": "execute_result"
    }
   ],
   "source": [
    "trainer.evaluate(test_dataset)"
   ]
  },
  {
   "cell_type": "code",
   "execution_count": 19,
   "metadata": {
    "execution": {
     "iopub.execute_input": "2024-09-23T13:45:55.194133Z",
     "iopub.status.busy": "2024-09-23T13:45:55.193810Z",
     "iopub.status.idle": "2024-09-23T13:46:42.297687Z",
     "shell.execute_reply": "2024-09-23T13:46:42.296562Z",
     "shell.execute_reply.started": "2024-09-23T13:45:55.194099Z"
    },
    "trusted": true
   },
   "outputs": [
    {
     "name": "stderr",
     "output_type": "stream",
     "text": [
      "Saving model checkpoint to codebert-base-buggy-token-classification\n",
      "Configuration saved in codebert-base-buggy-token-classification/config.json\n",
      "Model weights saved in codebert-base-buggy-token-classification/pytorch_model.bin\n",
      "tokenizer config file saved in codebert-base-buggy-token-classification/tokenizer_config.json\n",
      "Special tokens file saved in codebert-base-buggy-token-classification/special_tokens_map.json\n"
     ]
    },
    {
     "data": {
      "application/vnd.jupyter.widget-view+json": {
       "model_id": "70218b122fae4f0f873cd29ac8f53fe2",
       "version_major": 2,
       "version_minor": 0
      },
      "text/plain": [
       "Upload file pytorch_model.bin:   0%|          | 1.00/473M [00:00<?, ?B/s]"
      ]
     },
     "metadata": {},
     "output_type": "display_data"
    },
    {
     "data": {
      "application/vnd.jupyter.widget-view+json": {
       "model_id": "b479b84b6a404cd8834badd17af5e68e",
       "version_major": 2,
       "version_minor": 0
      },
      "text/plain": [
       "Upload file training_args.bin:   0%|          | 1.00/2.92k [00:00<?, ?B/s]"
      ]
     },
     "metadata": {},
     "output_type": "display_data"
    },
    {
     "name": "stderr",
     "output_type": "stream",
     "text": [
      "To https://huggingface.co/sefemna/codebert-base-buggy-token-classification\n",
      "   3591723..49de560  main -> main\n",
      "\n",
      "Dropping the following result as it does not have all the necessary fields:\n",
      "{'task': {'name': 'Token Classification', 'type': 'token-classification'}, 'metrics': [{'name': 'Precision', 'type': 'precision', 'value': 0.8040890908192997}, {'name': 'Recall', 'type': 'recall', 'value': 0.32216385203652587}, {'name': 'F1', 'type': 'f1', 'value': 0.4600182232989822}, {'name': 'Accuracy', 'type': 'accuracy', 'value': 0.9486452445008716}]}\n",
      "To https://huggingface.co/sefemna/codebert-base-buggy-token-classification\n",
      "   49de560..46dc4ba  main -> main\n",
      "\n"
     ]
    }
   ],
   "source": [
    "if KAGGLE_KERNEL_INTERACTIVE:\n",
    "    trainer.push_to_hub()"
   ]
  },
  {
   "cell_type": "code",
   "execution_count": 8,
   "metadata": {
    "execution": {
     "iopub.execute_input": "2024-10-29T09:02:28.488191Z",
     "iopub.status.busy": "2024-10-29T09:02:28.487378Z",
     "iopub.status.idle": "2024-10-29T09:02:36.105838Z",
     "shell.execute_reply": "2024-10-29T09:02:36.104977Z",
     "shell.execute_reply.started": "2024-10-29T09:02:28.488150Z"
    },
    "trusted": true
   },
   "outputs": [
    {
     "data": {
      "application/vnd.jupyter.widget-view+json": {
       "model_id": "0c2ab312024d4f01a313c6b9fbaadd9e",
       "version_major": 2,
       "version_minor": 0
      },
      "text/plain": [
       "Downloading:   0%|          | 0.00/25.0 [00:00<?, ?B/s]"
      ]
     },
     "metadata": {},
     "output_type": "display_data"
    },
    {
     "data": {
      "application/vnd.jupyter.widget-view+json": {
       "model_id": "1ff93c51e63b4a2c96c422b0f3e614a7",
       "version_major": 2,
       "version_minor": 0
      },
      "text/plain": [
       "Downloading:   0%|          | 0.00/878k [00:00<?, ?B/s]"
      ]
     },
     "metadata": {},
     "output_type": "display_data"
    },
    {
     "data": {
      "application/vnd.jupyter.widget-view+json": {
       "model_id": "3aaf9a8135a44fc482236d1db4baf4f3",
       "version_major": 2,
       "version_minor": 0
      },
      "text/plain": [
       "Downloading:   0%|          | 0.00/446k [00:00<?, ?B/s]"
      ]
     },
     "metadata": {},
     "output_type": "display_data"
    },
    {
     "data": {
      "application/vnd.jupyter.widget-view+json": {
       "model_id": "add974e194174630ba6527fb2302cce8",
       "version_major": 2,
       "version_minor": 0
      },
      "text/plain": [
       "Downloading:   0%|          | 0.00/150 [00:00<?, ?B/s]"
      ]
     },
     "metadata": {},
     "output_type": "display_data"
    },
    {
     "data": {
      "application/vnd.jupyter.widget-view+json": {
       "model_id": "d718813b905040518aa98ee4fdb93558",
       "version_major": 2,
       "version_minor": 0
      },
      "text/plain": [
       "Downloading:   0%|          | 0.00/498 [00:00<?, ?B/s]"
      ]
     },
     "metadata": {},
     "output_type": "display_data"
    }
   ],
   "source": [
    "from transformers import RobertaTokenizerFast, RobertaForTokenClassification\n",
    "model_path = '/kaggle/input/java_local/pytorch/default/1/java_local_model'\n",
    "model = RobertaForTokenClassification.from_pretrained(model_path)\n",
    "tokenizer = RobertaTokenizerFast.from_pretrained(\"microsoft/codebert-base\")"
   ]
  },
  {
   "cell_type": "markdown",
   "metadata": {},
   "source": [
    "## Inference\n",
    "\n"
   ]
  },
  {
   "cell_type": "code",
   "execution_count": 18,
   "metadata": {
    "execution": {
     "iopub.execute_input": "2024-10-29T09:45:18.767639Z",
     "iopub.status.busy": "2024-10-29T09:45:18.767052Z",
     "iopub.status.idle": "2024-10-29T09:45:19.232272Z",
     "shell.execute_reply": "2024-10-29T09:45:19.231491Z",
     "shell.execute_reply.started": "2024-10-29T09:45:18.767587Z"
    },
    "trusted": true
   },
   "outputs": [
    {
     "data": {
      "text/html": [
       "<h1>Example 49</h1>"
      ],
      "text/plain": [
       "<IPython.core.display.HTML object>"
      ]
     },
     "metadata": {},
     "output_type": "display_data"
    },
    {
     "data": {
      "text/html": [
       "<h2>The source code that is predicted buggy:\n",
       "</h2>"
      ],
      "text/plain": [
       "<IPython.core.display.HTML object>"
      ]
     },
     "metadata": {},
     "output_type": "display_data"
    },
    {
     "data": {
      "text/html": [
       "<pre><span style=\"color:black;\">p</span><span style=\"color:black;\">r</span><span style=\"color:black;\">i</span><span style=\"color:black;\">v</span><span style=\"color:black;\">a</span><span style=\"color:black;\">t</span><span style=\"color:black;\">e</span><span style=\"color:lightgrey;\">•</span><span style=\"color:black;\">s</span><span style=\"color:black;\">t</span><span style=\"color:black;\">a</span><span style=\"color:black;\">t</span><span style=\"color:black;\">i</span><span style=\"color:black;\">c</span><span style=\"color:lightgrey;\">•</span><span style=\"color:black;\">D</span><span style=\"color:black;\">a</span><span style=\"color:black;\">t</span><span style=\"color:black;\">e</span><span style=\"color:lightgrey;\">•</span><span style=\"color:black;\">p</span><span style=\"color:black;\">a</span><span style=\"color:black;\">r</span><span style=\"color:black;\">s</span><span style=\"color:black;\">e</span><span style=\"color:black;\">U</span><span style=\"color:black;\">s</span><span style=\"color:black;\">i</span><span style=\"color:black;\">n</span><span style=\"color:black;\">g</span><span style=\"color:black;\">M</span><span style=\"color:black;\">a</span><span style=\"color:black;\">s</span><span style=\"color:black;\">k</span><span style=\"color:black;\">(</span><span style=\"color:black;\">f</span><span style=\"color:black;\">i</span><span style=\"color:black;\">n</span><span style=\"color:black;\">a</span><span style=\"color:black;\">l</span><span style=\"color:lightgrey;\">•</span><span style=\"color:black;\">S</span><span style=\"color:black;\">t</span><span style=\"color:black;\">r</span><span style=\"color:black;\">i</span><span style=\"color:black;\">n</span><span style=\"color:black;\">g</span><span style=\"color:black;\">[</span><span style=\"color:black;\">]</span><span style=\"color:lightgrey;\">•</span><span style=\"color:black;\">m</span><span style=\"color:black;\">a</span><span style=\"color:black;\">s</span><span style=\"color:black;\">k</span><span style=\"color:black;\">s</span><span style=\"color:black;\">,</span><span style=\"color:lightgrey;\">•</span><span style=\"color:black;\">S</span><span style=\"color:black;\">t</span><span style=\"color:black;\">r</span><span style=\"color:black;\">i</span><span style=\"color:black;\">n</span><span style=\"color:black;\">g</span><span style=\"color:lightgrey;\">•</span><span style=\"color:black;\">s</span><span style=\"color:black;\">D</span><span style=\"color:black;\">a</span><span style=\"color:black;\">t</span><span style=\"color:black;\">e</span><span style=\"color:black;\">)</span><span style=\"color:lightgrey;\">•</span><span style=\"color:black;\">{</span><span style=\"color:red;\">↵\n",
       "</span><span style=\"color:red;\">•</span><span style=\"color:red;\">•</span><span style=\"color:red;\">•</span><span style=\"color:lightgrey;\">•</span><span style=\"color:black;\">s</span><span style=\"color:black;\">D</span><span style=\"color:black;\">a</span><span style=\"color:black;\">t</span><span style=\"color:black;\">e</span><span style=\"color:lightgrey;\">•</span><span style=\"color:black;\">=</span><span style=\"color:lightgrey;\">•</span><span style=\"color:black;\">s</span><span style=\"color:black;\">D</span><span style=\"color:black;\">a</span><span style=\"color:black;\">t</span><span style=\"color:black;\">e</span><span style=\"color:lightgrey;\">•</span><span style=\"color:black;\">!</span><span style=\"color:black;\">=</span><span style=\"color:lightgrey;\">•</span><span style=\"color:black;\">n</span><span style=\"color:black;\">u</span><span style=\"color:black;\">l</span><span style=\"color:black;\">l</span><span style=\"color:lightgrey;\">•</span><span style=\"color:black;\">?</span><span style=\"color:lightgrey;\">•</span><span style=\"color:black;\">s</span><span style=\"color:black;\">D</span><span style=\"color:black;\">a</span><span style=\"color:black;\">t</span><span style=\"color:black;\">e</span><span style=\"color:black;\">.</span><span style=\"color:red;\">t</span><span style=\"color:red;\">r</span><span style=\"color:red;\">i</span><span style=\"color:red;\">m</span><span style=\"color:black;\">(</span><span style=\"color:black;\">)</span><span style=\"color:lightgrey;\">•</span><span style=\"color:red;\">:</span><span style=\"color:lightgrey;\">•</span><span style=\"color:black;\">n</span><span style=\"color:black;\">u</span><span style=\"color:black;\">l</span><span style=\"color:black;\">l</span><span style=\"color:black;\">;</span><span style=\"color:red;\">↵\n",
       "</span><span style=\"color:red;\">•</span><span style=\"color:red;\">•</span><span style=\"color:red;\">•</span><span style=\"color:lightgrey;\">•</span><span style=\"color:black;\">P</span><span style=\"color:black;\">a</span><span style=\"color:black;\">r</span><span style=\"color:black;\">s</span><span style=\"color:black;\">e</span><span style=\"color:black;\">P</span><span style=\"color:black;\">o</span><span style=\"color:black;\">s</span><span style=\"color:black;\">i</span><span style=\"color:black;\">t</span><span style=\"color:black;\">i</span><span style=\"color:black;\">o</span><span style=\"color:black;\">n</span><span style=\"color:lightgrey;\">•</span><span style=\"color:black;\">p</span><span style=\"color:black;\">p</span><span style=\"color:lightgrey;\">•</span><span style=\"color:black;\">=</span><span style=\"color:lightgrey;\">•</span><span style=\"color:black;\">n</span><span style=\"color:black;\">u</span><span style=\"color:black;\">l</span><span style=\"color:black;\">l</span><span style=\"color:black;\">;</span><span style=\"color:red;\">↵\n",
       "</span><span style=\"color:red;\">•</span><span style=\"color:red;\">•</span><span style=\"color:red;\">•</span><span style=\"color:lightgrey;\">•</span><span style=\"color:black;\">D</span><span style=\"color:black;\">a</span><span style=\"color:black;\">t</span><span style=\"color:black;\">e</span><span style=\"color:lightgrey;\">•</span><span style=\"color:black;\">d</span><span style=\"color:lightgrey;\">•</span><span style=\"color:black;\">=</span><span style=\"color:lightgrey;\">•</span><span style=\"color:black;\">n</span><span style=\"color:black;\">u</span><span style=\"color:black;\">l</span><span style=\"color:black;\">l</span><span style=\"color:black;\">;</span><span style=\"color:red;\">↵\n",
       "</span><span style=\"color:red;\">•</span><span style=\"color:red;\">•</span><span style=\"color:red;\">•</span><span style=\"color:lightgrey;\">•</span><span style=\"color:black;\">f</span><span style=\"color:black;\">o</span><span style=\"color:black;\">r</span><span style=\"color:lightgrey;\">•</span><span style=\"color:black;\">(</span><span style=\"color:black;\">i</span><span style=\"color:black;\">n</span><span style=\"color:black;\">t</span><span style=\"color:lightgrey;\">•</span><span style=\"color:black;\">i</span><span style=\"color:lightgrey;\">•</span><span style=\"color:black;\">=</span><span style=\"color:lightgrey;\">•</span><span style=\"color:black;\">0</span><span style=\"color:black;\">;</span><span style=\"color:lightgrey;\">•</span><span style=\"color:black;\">d</span><span style=\"color:lightgrey;\">•</span><span style=\"color:black;\">=</span><span style=\"color:black;\">=</span><span style=\"color:lightgrey;\">•</span><span style=\"color:black;\">n</span><span style=\"color:black;\">u</span><span style=\"color:black;\">l</span><span style=\"color:black;\">l</span><span style=\"color:lightgrey;\">•</span><span style=\"color:black;\">&</span><span style=\"color:black;\">&</span><span style=\"color:lightgrey;\">•</span><span style=\"color:black;\">i</span><span style=\"color:lightgrey;\">•</span><span style=\"color:black;\"><</span><span style=\"color:lightgrey;\">•</span><span style=\"color:black;\">m</span><span style=\"color:black;\">a</span><span style=\"color:black;\">s</span><span style=\"color:black;\">k</span><span style=\"color:black;\">s</span><span style=\"color:black;\">.</span><span style=\"color:black;\">l</span><span style=\"color:black;\">e</span><span style=\"color:black;\">n</span><span style=\"color:black;\">g</span><span style=\"color:black;\">t</span><span style=\"color:black;\">h</span><span style=\"color:black;\">;</span><span style=\"color:lightgrey;\">•</span><span style=\"color:black;\">i</span><span style=\"color:black;\">+</span><span style=\"color:black;\">+</span><span style=\"color:black;\">)</span><span style=\"color:lightgrey;\">•</span><span style=\"color:black;\">{</span><span style=\"color:red;\">↵\n",
       "</span><span style=\"color:red;\">•</span><span style=\"color:red;\">•</span><span style=\"color:red;\">•</span><span style=\"color:red;\">•</span><span style=\"color:red;\">•</span><span style=\"color:red;\">•</span><span style=\"color:red;\">•</span><span style=\"color:lightgrey;\">•</span><span style=\"color:black;\">f</span><span style=\"color:black;\">i</span><span style=\"color:black;\">n</span><span style=\"color:black;\">a</span><span style=\"color:black;\">l</span><span style=\"color:lightgrey;\">•</span><span style=\"color:black;\">D</span><span style=\"color:black;\">a</span><span style=\"color:black;\">t</span><span style=\"color:black;\">e</span><span style=\"color:black;\">F</span><span style=\"color:black;\">o</span><span style=\"color:black;\">r</span><span style=\"color:black;\">m</span><span style=\"color:black;\">a</span><span style=\"color:black;\">t</span><span style=\"color:lightgrey;\">•</span><span style=\"color:black;\">d</span><span style=\"color:black;\">f</span><span style=\"color:lightgrey;\">•</span><span style=\"color:black;\">=</span><span style=\"color:lightgrey;\">•</span><span style=\"color:black;\">n</span><span style=\"color:black;\">e</span><span style=\"color:black;\">w</span><span style=\"color:lightgrey;\">•</span><span style=\"color:black;\">S</span><span style=\"color:black;\">i</span><span style=\"color:black;\">m</span><span style=\"color:black;\">p</span><span style=\"color:black;\">l</span><span style=\"color:black;\">e</span><span style=\"color:black;\">D</span><span style=\"color:black;\">a</span><span style=\"color:black;\">t</span><span style=\"color:black;\">e</span><span style=\"color:black;\">F</span><span style=\"color:black;\">o</span><span style=\"color:black;\">r</span><span style=\"color:black;\">m</span><span style=\"color:black;\">a</span><span style=\"color:black;\">t</span><span style=\"color:black;\">(</span><span style=\"color:black;\">m</span><span style=\"color:black;\">a</span><span style=\"color:black;\">s</span><span style=\"color:black;\">k</span><span style=\"color:black;\">s</span><span style=\"color:black;\">[</span><span style=\"color:black;\">i</span><span style=\"color:black;\">]</span><span style=\"color:black;\">,</span><span style=\"color:lightgrey;\">•</span><span style=\"color:black;\">L</span><span style=\"color:black;\">o</span><span style=\"color:black;\">c</span><span style=\"color:black;\">a</span><span style=\"color:black;\">l</span><span style=\"color:black;\">e</span><span style=\"color:black;\">.</span><span style=\"color:black;\">U</span><span style=\"color:black;\">S</span><span style=\"color:black;\">)</span><span style=\"color:black;\">;</span><span style=\"color:red;\">↵\n",
       "</span><span style=\"color:red;\">•</span><span style=\"color:red;\">•</span><span style=\"color:red;\">•</span><span style=\"color:red;\">•</span><span style=\"color:red;\">•</span><span style=\"color:red;\">•</span><span style=\"color:red;\">•</span><span style=\"color:lightgrey;\">•</span><span style=\"color:black;\">/</span><span style=\"color:black;\">/</span><span style=\"color:lightgrey;\">•</span><span style=\"color:black;\">d</span><span style=\"color:black;\">f</span><span style=\"color:black;\">.</span><span style=\"color:black;\">s</span><span style=\"color:black;\">e</span><span style=\"color:black;\">t</span><span style=\"color:black;\">L</span><span style=\"color:black;\">e</span><span style=\"color:black;\">n</span><span style=\"color:black;\">i</span><span style=\"color:black;\">e</span><span style=\"color:black;\">n</span><span style=\"color:black;\">t</span><span style=\"color:black;\">(</span><span style=\"color:black;\">f</span><span style=\"color:black;\">a</span><span style=\"color:black;\">l</span><span style=\"color:black;\">s</span><span style=\"color:black;\">e</span><span style=\"color:black;\">)</span><span style=\"color:black;\">;</span><span style=\"color:red;\">↵\n",
       "</span><span style=\"color:red;\">•</span><span style=\"color:red;\">•</span><span style=\"color:red;\">•</span><span style=\"color:red;\">•</span><span style=\"color:red;\">•</span><span style=\"color:red;\">•</span><span style=\"color:red;\">•</span><span style=\"color:lightgrey;\">•</span><span style=\"color:black;\">d</span><span style=\"color:black;\">f</span><span style=\"color:black;\">.</span><span style=\"color:black;\">s</span><span style=\"color:black;\">e</span><span style=\"color:black;\">t</span><span style=\"color:black;\">L</span><span style=\"color:black;\">e</span><span style=\"color:black;\">n</span><span style=\"color:black;\">i</span><span style=\"color:black;\">e</span><span style=\"color:black;\">n</span><span style=\"color:black;\">t</span><span style=\"color:black;\">(</span><span style=\"color:black;\">t</span><span style=\"color:black;\">r</span><span style=\"color:black;\">u</span><span style=\"color:black;\">e</span><span style=\"color:black;\">)</span><span style=\"color:black;\">;</span><span style=\"color:red;\">↵\n",
       "</span><span style=\"color:red;\">•</span><span style=\"color:red;\">•</span><span style=\"color:red;\">•</span><span style=\"color:red;\">•</span><span style=\"color:red;\">•</span><span style=\"color:red;\">•</span><span style=\"color:red;\">•</span><span style=\"color:lightgrey;\">•</span><span style=\"color:black;\">t</span><span style=\"color:black;\">r</span><span style=\"color:black;\">y</span><span style=\"color:lightgrey;\">•</span><span style=\"color:black;\">{</span><span style=\"color:red;\">↵\n",
       "</span><span style=\"color:red;\">•</span><span style=\"color:red;\">•</span><span style=\"color:red;\">•</span><span style=\"color:red;\">•</span><span style=\"color:red;\">•</span><span style=\"color:red;\">•</span><span style=\"color:red;\">•</span><span style=\"color:red;\">•</span><span style=\"color:red;\">•</span><span style=\"color:red;\">•</span><span style=\"color:red;\">•</span><span style=\"color:lightgrey;\">•</span><span style=\"color:black;\">p</span><span style=\"color:black;\">p</span><span style=\"color:lightgrey;\">•</span><span style=\"color:black;\">=</span><span style=\"color:lightgrey;\">•</span><span style=\"color:black;\">n</span><span style=\"color:black;\">e</span><span style=\"color:black;\">w</span><span style=\"color:lightgrey;\">•</span><span style=\"color:black;\">P</span><span style=\"color:black;\">a</span><span style=\"color:black;\">r</span><span style=\"color:black;\">s</span><span style=\"color:black;\">e</span><span style=\"color:black;\">P</span><span style=\"color:black;\">o</span><span style=\"color:black;\">s</span><span style=\"color:black;\">i</span><span style=\"color:black;\">t</span><span style=\"color:black;\">i</span><span style=\"color:black;\">o</span><span style=\"color:black;\">n</span><span style=\"color:black;\">(</span><span style=\"color:black;\">0</span><span style=\"color:red;\">)</span><span style=\"color:red;\">;</span><span style=\"color:red;\">↵\n",
       "</span><span style=\"color:red;\">•</span><span style=\"color:red;\">•</span><span style=\"color:red;\">•</span><span style=\"color:red;\">•</span><span style=\"color:red;\">•</span><span style=\"color:red;\">•</span><span style=\"color:red;\">•</span><span style=\"color:red;\">•</span><span style=\"color:red;\">•</span><span style=\"color:red;\">•</span><span style=\"color:red;\">•</span><span style=\"color:lightgrey;\">•</span><span style=\"color:red;\">d</span><span style=\"color:lightgrey;\">•</span><span style=\"color:red;\">=</span><span style=\"color:lightgrey;\">•</span><span style=\"color:black;\">d</span><span style=\"color:black;\">f</span><span style=\"color:black;\">.</span><span style=\"color:black;\">p</span><span style=\"color:black;\">a</span><span style=\"color:black;\">r</span><span style=\"color:black;\">s</span><span style=\"color:black;\">e</span><span style=\"color:black;\">(</span><span style=\"color:black;\">s</span><span style=\"color:black;\">D</span><span style=\"color:black;\">a</span><span style=\"color:black;\">t</span><span style=\"color:black;\">e</span><span style=\"color:black;\">,</span><span style=\"color:lightgrey;\">•</span><span style=\"color:red;\">p</span><span style=\"color:red;\">p</span><span style=\"color:black;\">)</span><span style=\"color:black;\">;</span><span style=\"color:red;\">↵\n",
       "</span><span style=\"color:red;\">•</span><span style=\"color:red;\">•</span><span style=\"color:red;\">•</span><span style=\"color:red;\">•</span><span style=\"color:red;\">•</span><span style=\"color:red;\">•</span><span style=\"color:red;\">•</span><span style=\"color:red;\">•</span><span style=\"color:red;\">•</span><span style=\"color:red;\">•</span><span style=\"color:red;\">•</span><span style=\"color:lightgrey;\">•</span><span style=\"color:black;\">i</span><span style=\"color:black;\">f</span><span style=\"color:lightgrey;\">•</span><span style=\"color:black;\">(</span><span style=\"color:black;\">p</span><span style=\"color:black;\">p</span><span style=\"color:black;\">.</span><span style=\"color:black;\">g</span><span style=\"color:black;\">e</span><span style=\"color:black;\">t</span><span style=\"color:black;\">I</span><span style=\"color:black;\">n</span><span style=\"color:black;\">d</span><span style=\"color:black;\">e</span><span style=\"color:black;\">x</span><span style=\"color:black;\">(</span><span style=\"color:black;\">)</span><span style=\"color:lightgrey;\">•</span><span style=\"color:black;\">!</span><span style=\"color:black;\">=</span><span style=\"color:lightgrey;\">•</span><span style=\"color:black;\">s</span><span style=\"color:black;\">D</span><span style=\"color:black;\">a</span><span style=\"color:black;\">t</span><span style=\"color:black;\">e</span><span style=\"color:black;\">.</span><span style=\"color:black;\">l</span><span style=\"color:black;\">e</span><span style=\"color:black;\">n</span><span style=\"color:black;\">g</span><span style=\"color:black;\">t</span><span style=\"color:black;\">h</span><span style=\"color:black;\">(</span><span style=\"color:black;\">)</span><span style=\"color:black;\">)</span><span style=\"color:lightgrey;\">•</span><span style=\"color:black;\">{</span><span style=\"color:red;\">↵\n",
       "</span><span style=\"color:red;\">•</span><span style=\"color:red;\">•</span><span style=\"color:red;\">•</span><span style=\"color:red;\">•</span><span style=\"color:red;\">•</span><span style=\"color:red;\">•</span><span style=\"color:red;\">•</span><span style=\"color:red;\">•</span><span style=\"color:red;\">•</span><span style=\"color:red;\">•</span><span style=\"color:red;\">•</span><span style=\"color:red;\">•</span><span style=\"color:red;\">•</span><span style=\"color:red;\">•</span><span style=\"color:red;\">•</span><span style=\"color:lightgrey;\">•</span><span style=\"color:red;\">d</span><span style=\"color:lightgrey;\">•</span><span style=\"color:red;\">=</span><span style=\"color:lightgrey;\">•</span><span style=\"color:red;\">n</span><span style=\"color:red;\">u</span><span style=\"color:red;\">l</span><span style=\"color:red;\">l</span><span style=\"color:red;\">;</span><span style=\"color:red;\">↵\n",
       "</span><span style=\"color:red;\">•</span><span style=\"color:red;\">•</span><span style=\"color:red;\">•</span><span style=\"color:red;\">•</span><span style=\"color:red;\">•</span><span style=\"color:red;\">•</span><span style=\"color:red;\">•</span><span style=\"color:red;\">•</span><span style=\"color:red;\">•</span><span style=\"color:red;\">•</span><span style=\"color:red;\">•</span><span style=\"color:lightgrey;\">•</span><span style=\"color:black;\">}</span><span style=\"color:red;\">↵\n",
       "</span><span style=\"color:red;\">•</span><span style=\"color:red;\">•</span><span style=\"color:red;\">•</span><span style=\"color:red;\">•</span><span style=\"color:red;\">•</span><span style=\"color:red;\">•</span><span style=\"color:red;\">•</span><span style=\"color:red;\">•</span><span style=\"color:red;\">•</span><span style=\"color:red;\">•</span><span style=\"color:red;\">•</span><span style=\"color:lightgrey;\">•</span><span style=\"color:black;\">/</span><span style=\"color:black;\">/</span><span style=\"color:lightgrey;\">•</span><span style=\"color:black;\">S</span><span style=\"color:black;\">y</span><span style=\"color:black;\">s</span><span style=\"color:black;\">t</span><span style=\"color:black;\">e</span><span style=\"color:black;\">m</span><span style=\"color:black;\">.</span><span style=\"color:black;\">o</span><span style=\"color:black;\">u</span><span style=\"color:black;\">t</span><span style=\"color:black;\">.</span><span style=\"color:black;\">p</span><span style=\"color:black;\">r</span><span style=\"color:black;\">i</span><span style=\"color:black;\">n</span><span style=\"color:black;\">t</span><span style=\"color:black;\">l</span><span style=\"color:black;\">n</span><span style=\"color:black;\">(</span><span style=\"color:black;\">\"</span><span style=\"color:black;\">p</span><span style=\"color:black;\">p</span><span style=\"color:black;\">[</span><span style=\"color:black;\">\"</span><span style=\"color:lightgrey;\">•</span><span style=\"color:black;\">+</span><span style=\"color:lightgrey;\">•</span><span style=\"color:black;\">p</span><span style=\"color:black;\">p</span><span style=\"color:black;\">.</span><span style=\"color:black;\">g</span><span style=\"color:black;\">e</span><span style=\"color:black;\">t</span><span style=\"color:black;\">I</span><span style=\"color:black;\">n</span><span style=\"color:black;\">d</span><span style=\"color:black;\">e</span><span style=\"color:black;\">x</span><span style=\"color:black;\">(</span><span style=\"color:black;\">)</span><span style=\"color:lightgrey;\">•</span><span style=\"color:black;\">+</span><span style=\"color:lightgrey;\">•</span><span style=\"color:black;\">\"</span><span style=\"color:black;\">]</span><span style=\"color:lightgrey;\">•</span><span style=\"color:black;\">s</span><span style=\"color:black;\">[</span><span style=\"color:black;\">\"</span><span style=\"color:lightgrey;\">•</span><span style=\"color:black;\">+</span><span style=\"color:lightgrey;\">•</span><span style=\"color:black;\">s</span><span style=\"color:black;\">D</span><span style=\"color:black;\">a</span><span style=\"color:black;\">t</span><span style=\"color:black;\">e</span><span style=\"color:lightgrey;\">•</span><span style=\"color:black;\">+</span><span style=\"color:lightgrey;\">•</span><span style=\"color:black;\">\"</span><span style=\"color:lightgrey;\">•</span><span style=\"color:black;\">m</span><span style=\"color:black;\">[</span><span style=\"color:black;\">\"</span><span style=\"color:lightgrey;\">•</span><span style=\"color:black;\">+</span><span style=\"color:lightgrey;\">•</span><span style=\"color:black;\">m</span><span style=\"color:black;\">a</span><span style=\"color:black;\">s</span><span style=\"color:black;\">k</span><span style=\"color:black;\">s</span><span style=\"color:black;\">[</span><span style=\"color:black;\">i</span><span style=\"color:black;\">]</span><span style=\"color:lightgrey;\">•</span><span style=\"color:black;\">+</span><span style=\"color:lightgrey;\">•</span><span style=\"color:black;\">\"</span><span style=\"color:black;\">]</span><span style=\"color:lightgrey;\">•</span><span style=\"color:red;\">d</span><span style=\"color:red;\">[</span><span style=\"color:red;\">\"</span><span style=\"color:lightgrey;\">•</span><span style=\"color:red;\">+</span><span style=\"color:lightgrey;\">•</span><span style=\"color:red;\">d</span><span style=\"color:lightgrey;\">•</span><span style=\"color:red;\">+</span><span style=\"color:lightgrey;\">•</span><span style=\"color:red;\">\"</span><span style=\"color:red;\">]</span><span style=\"color:red;\">\"</span><span style=\"color:red;\">)</span><span style=\"color:red;\">;</span><span style=\"color:red;\">↵\n",
       "</span><span style=\"color:red;\">•</span><span style=\"color:red;\">•</span><span style=\"color:red;\">•</span><span style=\"color:red;\">•</span><span style=\"color:red;\">•</span><span style=\"color:red;\">•</span><span style=\"color:red;\">•</span><span style=\"color:lightgrey;\">•</span><span style=\"color:black;\">}</span><span style=\"color:lightgrey;\">•</span><span style=\"color:black;\">c</span><span style=\"color:black;\">a</span><span style=\"color:black;\">t</span><span style=\"color:black;\">c</span><span style=\"color:black;\">h</span><span style=\"color:lightgrey;\">•</span><span style=\"color:black;\">(</span><span style=\"color:black;\">f</span><span style=\"color:black;\">i</span><span style=\"color:black;\">n</span><span style=\"color:black;\">a</span><span style=\"color:black;\">l</span><span style=\"color:lightgrey;\">•</span><span style=\"color:black;\">E</span><span style=\"color:black;\">x</span><span style=\"color:black;\">c</span><span style=\"color:black;\">e</span><span style=\"color:black;\">p</span><span style=\"color:black;\">t</span><span style=\"color:black;\">i</span><span style=\"color:black;\">o</span><span style=\"color:black;\">n</span><span style=\"color:lightgrey;\">•</span><span style=\"color:black;\">e</span><span style=\"color:black;\">x</span><span style=\"color:black;\">1</span><span style=\"color:black;\">)</span><span style=\"color:lightgrey;\">•</span><span style=\"color:black;\">{</span><span style=\"color:red;\">↵\n",
       "</span><span style=\"color:red;\">•</span><span style=\"color:red;\">•</span><span style=\"color:red;\">•</span><span style=\"color:red;\">•</span><span style=\"color:red;\">•</span><span style=\"color:red;\">•</span><span style=\"color:red;\">•</span><span style=\"color:red;\">•</span><span style=\"color:red;\">•</span><span style=\"color:red;\">•</span><span style=\"color:red;\">•</span><span style=\"color:lightgrey;\">•</span><span style=\"color:black;\">/</span><span style=\"color:black;\">/</span><span style=\"color:lightgrey;\">•</span><span style=\"color:black;\">S</span><span style=\"color:black;\">y</span><span style=\"color:black;\">s</span><span style=\"color:black;\">t</span><span style=\"color:black;\">e</span><span style=\"color:black;\">m</span><span style=\"color:black;\">.</span><span style=\"color:black;\">o</span><span style=\"color:black;\">u</span><span style=\"color:black;\">t</span><span style=\"color:black;\">.</span><span style=\"color:black;\">p</span><span style=\"color:black;\">r</span><span style=\"color:black;\">i</span><span style=\"color:black;\">n</span><span style=\"color:black;\">t</span><span style=\"color:black;\">l</span><span style=\"color:black;\">n</span><span style=\"color:black;\">(</span><span style=\"color:black;\">\"</span><span style=\"color:black;\">s</span><span style=\"color:black;\">:</span><span style=\"color:lightgrey;\">•</span><span style=\"color:black;\">\"</span><span style=\"color:lightgrey;\">•</span><span style=\"color:black;\">+</span><span style=\"color:lightgrey;\">•</span><span style=\"color:black;\">s</span><span style=\"color:black;\">D</span><span style=\"color:black;\">a</span><span style=\"color:black;\">t</span><span style=\"color:black;\">e</span><span style=\"color:lightgrey;\">•</span><span style=\"color:black;\">+</span><span style=\"color:lightgrey;\">•</span><span style=\"color:black;\">\"</span><span style=\"color:lightgrey;\">•</span><span style=\"color:black;\">m</span><span style=\"color:black;\">:</span><span style=\"color:lightgrey;\">•</span><span style=\"color:black;\">\"</span><span style=\"color:lightgrey;\">•</span><span style=\"color:black;\">+</span><span style=\"color:lightgrey;\">•</span><span style=\"color:black;\">m</span><span style=\"color:black;\">a</span><span style=\"color:black;\">s</span><span style=\"color:black;\">k</span><span style=\"color:black;\">s</span><span style=\"color:black;\">[</span><span style=\"color:black;\">i</span><span style=\"color:black;\">]</span><span style=\"color:lightgrey;\">•</span><span style=\"color:black;\">+</span><span style=\"color:lightgrey;\">•</span><span style=\"color:black;\">\"</span><span style=\"color:lightgrey;\">•</span><span style=\"color:black;\">d</span><span style=\"color:black;\">:</span><span style=\"color:lightgrey;\">•</span><span style=\"color:black;\">\"</span><span style=\"color:lightgrey;\">•</span><span style=\"color:black;\">+</span><span style=\"color:lightgrey;\">•</span><span style=\"color:black;\">n</span><span style=\"color:black;\">u</span><span style=\"color:black;\">l</span><span style=\"color:black;\">l</span><span style=\"color:black;\">)</span><span style=\"color:black;\">;</span><span style=\"color:red;\">↵\n",
       "</span><span style=\"color:red;\">•</span><span style=\"color:red;\">•</span><span style=\"color:red;\">•</span><span style=\"color:red;\">•</span><span style=\"color:red;\">•</span><span style=\"color:red;\">•</span><span style=\"color:red;\">•</span><span style=\"color:lightgrey;\">•</span><span style=\"color:black;\">}</span><span style=\"color:lightgrey;\">↵\n",
       "</span><span style=\"color:lightgrey;\">•</span><span style=\"color:lightgrey;\">•</span><span style=\"color:lightgrey;\">•</span><span style=\"color:lightgrey;\">•</span><span style=\"color:black;\">}</span><span style=\"color:lightgrey;\">↵\n",
       "</span><span style=\"color:lightgrey;\">•</span><span style=\"color:lightgrey;\">•</span><span style=\"color:lightgrey;\">•</span><span style=\"color:lightgrey;\">•</span><span style=\"color:black;\">r</span><span style=\"color:black;\">e</span><span style=\"color:black;\">t</span><span style=\"color:black;\">u</span><span style=\"color:black;\">r</span><span style=\"color:black;\">n</span><span style=\"color:lightgrey;\">•</span><span style=\"color:red;\">d</span><span style=\"color:black;\">;</span><span style=\"color:lightgrey;\">↵\n",
       "</span><span style=\"color:black;\">}</span></pre>"
      ],
      "text/plain": [
       "<IPython.core.display.HTML object>"
      ]
     },
     "metadata": {},
     "output_type": "display_data"
    },
    {
     "data": {
      "text/html": [
       "<h2>The bug assigned to the source code:\n",
       "</h2>"
      ],
      "text/plain": [
       "<IPython.core.display.HTML object>"
      ]
     },
     "metadata": {},
     "output_type": "display_data"
    },
    {
     "data": {
      "text/html": [
       "<pre>NULL_DEREFERENCE</pre>"
      ],
      "text/plain": [
       "<IPython.core.display.HTML object>"
      ]
     },
     "metadata": {},
     "output_type": "display_data"
    }
   ],
   "source": [
    "def predict(tokenizer, model, error, source):\n",
    "    if not isinstance(source, list):\n",
    "        source = [source]\n",
    "        error = [error]\n",
    "    \n",
    "    tokenized_inputs = tokenizer(text=error, text_pair=source, padding=True, truncation=True, return_tensors=\"pt\").to(model.device)\n",
    "    tokenized_labels = np.argmax(model(**tokenized_inputs)['logits'].cpu().detach().numpy(), 2)\n",
    "    \n",
    "    all_labels = []\n",
    "    for i in range(tokenized_labels.shape[0]):\n",
    "        labels = [0] * len(source[i])\n",
    "        for j, label in enumerate(tokenized_labels[i]):\n",
    "            if tokenized_inputs.token_to_sequence(i, j) != 1:\n",
    "                continue\n",
    "\n",
    "            word_id = tokenized_inputs.token_to_word(i, j)\n",
    "            cs = tokenized_inputs.word_to_chars(i, word_id, sequence_index=1)\n",
    "            if cs.start == cs.end:\n",
    "                continue\n",
    "            labels[cs.start:cs.end] |= tokenized_labels[i, j]\n",
    "        \n",
    "        all_labels.append(labels)\n",
    "    \n",
    "    return all_labels\n",
    "\n",
    "def color_source(source_code, mask, color='red'):\n",
    "    text = \"\"\n",
    "    for i, char in enumerate(source_code):\n",
    "        norm_color = 'black'\n",
    "        if char == ' ':\n",
    "            char = \"•\"\n",
    "            norm_color = 'lightgrey'\n",
    "        if char == '\\n':\n",
    "            char = \"↵\\n\"\n",
    "            norm_color = 'lightgrey'\n",
    "        text += f'<span style=\"color:{color if mask[i] == 1 else norm_color};\">{char}</span>'\n",
    "    return \"<pre>\" + text + \"</pre>\"\n",
    "\n",
    "def display_example(source_code, error_class_extra, mask):\n",
    "    display(HTML(\"<h2>The source code that is predicted buggy:\\n</h2>\"))\n",
    "    display(HTML(color_source(source_code, mask, color='red')))\n",
    "    \n",
    "    display(HTML(\"<h2>The bug assigned to the source code:\\n</h2>\"))\n",
    "    display(HTML(f\"<pre>{error_class_extra}</pre>\"))\n",
    "\n",
    "\n",
    "viz_data = dataset[\"test\"]\n",
    "\n",
    "source_code = \"\"\"private static Date parseUsingMask(final String[] masks, String sDate) {\n",
    "    sDate = sDate != null ? sDate.trim() : null;\n",
    "    ParsePosition pp = null;\n",
    "    Date d = null;\n",
    "    for (int i = 0; d == null && i < masks.length; i++) {\n",
    "        final DateFormat df = new SimpleDateFormat(masks[i], Locale.US);\n",
    "        // df.setLenient(false);\n",
    "        df.setLenient(true);\n",
    "        try {\n",
    "            pp = new ParsePosition(0);\n",
    "            d = df.parse(sDate, pp);\n",
    "            if (pp.getIndex() != sDate.length()) {\n",
    "                d = null;\n",
    "            }\n",
    "            // System.out.println(\"pp[\" + pp.getIndex() + \"] s[\" + sDate + \" m[\" + masks[i] + \"] d[\" + d + \"]\");\n",
    "        } catch (final Exception ex1) {\n",
    "            // System.out.println(\"s: \" + sDate + \" m: \" + masks[i] + \" d: \" + null);\n",
    "        }\n",
    "    }\n",
    "    return d;\n",
    "}\"\"\"\n",
    "error_class_extra =\"NULL_DEREFERENCE\"\n",
    "mask = predict(tokenizer, model, error_class_extra, source_code)[0]\n",
    "display(HTML(f\"<h1>Example {i}</h1>\"))\n",
    "display_example(source_code, error_class_extra, mask)"
   ]
  },
  {
   "cell_type": "code",
   "execution_count": null,
   "metadata": {},
   "outputs": [],
   "source": []
  }
 ],
 "metadata": {
  "kaggle": {
   "accelerator": "gpu",
   "dataSources": [
    {
     "datasetId": 5947038,
     "sourceId": 9720287,
     "sourceType": "datasetVersion"
    },
    {
     "isSourceIdPinned": true,
     "modelId": 150300,
     "modelInstanceId": 127359,
     "sourceId": 150009,
     "sourceType": "modelInstanceVersion"
    }
   ],
   "dockerImageVersionId": 30177,
   "isGpuEnabled": true,
   "isInternetEnabled": true,
   "language": "python",
   "sourceType": "notebook"
  },
  "kernelspec": {
   "display_name": "Python 3",
   "language": "python",
   "name": "python3"
  },
  "language_info": {
   "codemirror_mode": {
    "name": "ipython",
    "version": 3
   },
   "file_extension": ".py",
   "mimetype": "text/x-python",
   "name": "python",
   "nbconvert_exporter": "python",
   "pygments_lexer": "ipython3",
   "version": "3.7.12"
  }
 },
 "nbformat": 4,
 "nbformat_minor": 4
}
